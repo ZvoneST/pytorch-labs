{
  "nbformat": 4,
  "nbformat_minor": 0,
  "metadata": {
    "colab": {
      "name": "lovro - rnn.ipynb",
      "provenance": [],
      "collapsed_sections": [],
      "include_colab_link": true
    },
    "kernelspec": {
      "name": "python3",
      "display_name": "Python 3"
    },
    "accelerator": "GPU"
  },
  "cells": [
    {
      "cell_type": "markdown",
      "metadata": {
        "id": "view-in-github",
        "colab_type": "text"
      },
      "source": [
        "<a href=\"https://colab.research.google.com/github/ZvoneST/pytorch-labs/blob/master/lovro_rnn.ipynb\" target=\"_parent\"><img src=\"https://colab.research.google.com/assets/colab-badge.svg\" alt=\"Open In Colab\"/></a>"
      ]
    },
    {
      "cell_type": "code",
      "metadata": {
        "id": "8F9BGRGArRQL"
      },
      "source": [
        "%matplotlib inline"
      ],
      "execution_count": null,
      "outputs": []
    },
    {
      "cell_type": "markdown",
      "metadata": {
        "id": "Gd02b2LUrRQc"
      },
      "source": [
        "\n",
        "# Classifying Names with a Character-Level RNN\n",
        "\n",
        "\n",
        "Adapted from [pytorch tutorial](https://pytorch.org/tutorials/intermediate/char_rnn_classification_tutorial.html)\n",
        "**Author**: `Sean Robertson <https://github.com/spro/practical-pytorch>`\n",
        "\n",
        "We will be building and training a basic character-level RNN to classify\n",
        "words. A character-level RNN reads words as a series of characters -\n",
        "outputting a prediction and \"hidden state\" at each step, feeding its\n",
        "previous hidden state into each next step. We take the final prediction\n",
        "to be the output, i.e. which class the word belongs to.\n",
        "\n",
        "Specifically, we'll train on a few thousand surnames from 18 languages\n",
        "of origin, and predict which language a name is from based on the\n",
        "spelling:\n",
        "\n",
        "\n",
        "**Recommended Reading:**\n",
        "\n",
        "To know more about RNNs and how they work:\n",
        "\n",
        "-  [The Unreasonable Effectiveness of Recurrent Neural\n",
        "   Networks](http://karpathy.github.io/2015/05/21/rnn-effectiveness) shows a bunch of real life examples\n",
        "-  [Understanding LSTM Networks](http://colah.github.io/posts/2015-08-Understanding-LSTMs) is about LSTMs specifically but also informative about RNNs in\n",
        "   general\n",
        "\n",
        "## Preparing the Data\n",
        "\n",
        "   You can download the data from\n",
        "   [here](https://download.pytorch.org/tutorial/data.zip)\n",
        "   and put it in your drive or you can also add this drive folder to your own google drive account : https://drive.google.com/open?id=1Ht_snd9YSON7d1wv8whWwqmfqdXmjOUJ\n",
        "\n",
        "Included in the ``data/names`` directory are 18 text files named as\n",
        "\"[Language].txt\". Each file contains a bunch of names, one name per\n",
        "line, mostly romanized (but we still need to convert from Unicode to\n",
        "ASCII).\n",
        "\n",
        "We'll end up with a dictionary of lists of names per language,\n",
        "``{language: [names ...]}``. The generic variables \"category\" and \"line\"\n",
        "(for language and name in our case) are used for later extensibility.\n",
        "\n"
      ]
    },
    {
      "cell_type": "code",
      "metadata": {
        "id": "J-51Hu1Ys7P8",
        "colab": {
          "base_uri": "https://localhost:8080/"
        },
        "outputId": "01a7c6ab-aff5-407e-b4e6-a67c02982aa3"
      },
      "source": [
        "## SETUP\n",
        "from google.colab import drive\n",
        "drive.mount('/content/drive')"
      ],
      "execution_count": null,
      "outputs": [
        {
          "output_type": "stream",
          "name": "stdout",
          "text": [
            "Drive already mounted at /content/drive; to attempt to forcibly remount, call drive.mount(\"/content/drive\", force_remount=True).\n"
          ]
        }
      ]
    },
    {
      "cell_type": "code",
      "metadata": {
        "id": "FpzHXPbztoIW",
        "colab": {
          "base_uri": "https://localhost:8080/"
        },
        "outputId": "103ab8fb-66be-4879-eb0e-4d2ab1734fbe"
      },
      "source": [
        "%cd /content/drive/My\\ Drive/CEA_EDF_INRIA_NLP\n",
        "!ls"
      ],
      "execution_count": null,
      "outputs": [
        {
          "output_type": "stream",
          "name": "stdout",
          "text": [
            "/content/drive/.shortcut-targets-by-id/1Ht_snd9YSON7d1wv8whWwqmfqdXmjOUJ/CEA_EDF_INRIA_NLP\n",
            "data  img  NLP-attention\n"
          ]
        }
      ]
    },
    {
      "cell_type": "code",
      "metadata": {
        "id": "3oieIocirRQh"
      },
      "source": [
        "from __future__ import unicode_literals, print_function, division\n",
        "from io import open\n",
        "import glob\n",
        "import os\n",
        "\n",
        "all_files = 'data/names/*.txt'"
      ],
      "execution_count": null,
      "outputs": []
    },
    {
      "cell_type": "code",
      "metadata": {
        "id": "IP3z47avrRQs",
        "colab": {
          "base_uri": "https://localhost:8080/"
        },
        "outputId": "3f42ab16-9507-424b-cf09-6959e25c7e51"
      },
      "source": [
        "def findFiles(path): return glob.glob(path)\n",
        "\n",
        "\n",
        "\n",
        "print(findFiles(all_files))\n",
        "\n",
        "import unicodedata\n",
        "import string\n",
        "\n",
        "all_letters = string.ascii_letters + \" .,;'\"\n",
        "n_letters = len(all_letters)\n",
        "\n",
        "# Turn a Unicode string to plain ASCII, thanks to http://stackoverflow.com/a/518232/2809427\n",
        "def unicodeToAscii(s):\n",
        "    return ''.join(\n",
        "        c for c in unicodedata.normalize('NFD', s)\n",
        "        if unicodedata.category(c) != 'Mn'\n",
        "        and c in all_letters\n",
        "    )\n",
        "\n",
        "print(unicodeToAscii('Ślusàrski'))\n",
        "\n",
        "# Build the category_lines dictionary, a list of names per language\n",
        "category_lines = {}\n",
        "all_categories = []\n",
        "\n",
        "# Read a file and split into lines\n",
        "def readLines(filename):\n",
        "    lines = open(filename, encoding='utf-8').read().strip().split('\\n')\n",
        "    return [unicodeToAscii(line) for line in lines]\n",
        "\n",
        "for filename in findFiles(all_files):\n",
        "    category = os.path.splitext(os.path.basename(filename))[0]\n",
        "    all_categories.append(category)\n",
        "    lines = readLines(filename)\n",
        "    category_lines[category] = lines\n",
        "\n",
        "n_categories = len(all_categories)"
      ],
      "execution_count": null,
      "outputs": [
        {
          "output_type": "stream",
          "name": "stdout",
          "text": [
            "['data/names/Italian.txt', 'data/names/Russian.txt', 'data/names/Japanese.txt', 'data/names/Portuguese.txt', 'data/names/Arabic.txt', 'data/names/Greek.txt', 'data/names/Spanish.txt', 'data/names/Scottish.txt', 'data/names/English.txt', 'data/names/Korean.txt', 'data/names/Chinese.txt', 'data/names/Vietnamese.txt', 'data/names/Czech.txt', 'data/names/Dutch.txt', 'data/names/French.txt', 'data/names/German.txt', 'data/names/Polish.txt', 'data/names/Irish.txt']\n",
            "Slusarski\n"
          ]
        }
      ]
    },
    {
      "cell_type": "markdown",
      "metadata": {
        "id": "3e7xhmVvrRQz"
      },
      "source": [
        "Now we have ``category_lines``, a dictionary mapping each category\n",
        "(language) to a list of lines (names). We also kept track of\n",
        "``all_categories`` (just a list of languages) and ``n_categories`` for\n",
        "later reference.\n",
        "\n",
        "\n"
      ]
    },
    {
      "cell_type": "code",
      "metadata": {
        "id": "LjufU1V7rRQ1",
        "colab": {
          "base_uri": "https://localhost:8080/"
        },
        "outputId": "d09ae406-c767-49d4-bb19-57a1293921b1"
      },
      "source": [
        "print(category_lines['Italian'][:5])"
      ],
      "execution_count": null,
      "outputs": [
        {
          "output_type": "stream",
          "name": "stdout",
          "text": [
            "['Abandonato', 'Abatangelo', 'Abatantuono', 'Abate', 'Abategiovanni']\n"
          ]
        }
      ]
    },
    {
      "cell_type": "code",
      "metadata": {
        "id": "FyZzyrUCnrxk",
        "colab": {
          "base_uri": "https://localhost:8080/"
        },
        "outputId": "b59eb98a-40d3-4b68-a5cc-221ce32389a6"
      },
      "source": [
        "n_categories"
      ],
      "execution_count": null,
      "outputs": [
        {
          "output_type": "execute_result",
          "data": {
            "text/plain": [
              "18"
            ]
          },
          "metadata": {},
          "execution_count": 34
        }
      ]
    },
    {
      "cell_type": "code",
      "metadata": {
        "id": "iODMfnBMkX7v",
        "colab": {
          "base_uri": "https://localhost:8080/"
        },
        "outputId": "15fc62fa-0e0f-428d-de2a-7bc3294735d2"
      },
      "source": [
        "all_categories"
      ],
      "execution_count": null,
      "outputs": [
        {
          "output_type": "execute_result",
          "data": {
            "text/plain": [
              "['Italian',\n",
              " 'Russian',\n",
              " 'Japanese',\n",
              " 'Portuguese',\n",
              " 'Arabic',\n",
              " 'Greek',\n",
              " 'Spanish',\n",
              " 'Scottish',\n",
              " 'English',\n",
              " 'Korean',\n",
              " 'Chinese',\n",
              " 'Vietnamese',\n",
              " 'Czech',\n",
              " 'Dutch',\n",
              " 'French',\n",
              " 'German',\n",
              " 'Polish',\n",
              " 'Irish']"
            ]
          },
          "metadata": {},
          "execution_count": 35
        }
      ]
    },
    {
      "cell_type": "markdown",
      "metadata": {
        "id": "J2AthGrdrRQ8"
      },
      "source": [
        "Turning Names into Tensors\n",
        "--------------------------\n",
        "\n",
        "Now that we have all the names organized, we need to turn them into\n",
        "Tensors to make any use of them.\n",
        "\n",
        "To represent a single letter, we use a \"one-hot vector\" of size\n",
        "``<1 x n_letters>``. A one-hot vector is filled with 0s except for a 1\n",
        "at index of the current letter, e.g. ``\"b\" = <0 1 0 0 0 ...>``.\n",
        "\n",
        "To make a word we join a bunch of those into a 2D matrix\n",
        "``<line_length x 1 x n_letters>``.\n",
        "\n",
        "That extra 1 dimension is because PyTorch assumes everything is in\n",
        "batches - we're just using a batch size of 1 here.\n",
        "\n",
        "\n"
      ]
    },
    {
      "cell_type": "code",
      "metadata": {
        "id": "Z_UEyL-nrRQ-",
        "colab": {
          "base_uri": "https://localhost:8080/"
        },
        "outputId": "d2c82b31-7fd2-4096-f6da-dd1612867b7f"
      },
      "source": [
        "import torch\n",
        "\n",
        "# Find letter index from all_letters, e.g. \"a\" = 0\n",
        "def letterToIndex(letter):\n",
        "    return all_letters.find(letter)\n",
        "\n",
        "# Just for demonstration, turn a letter into a <1 x n_letters> Tensor\n",
        "def letterToTensor(letter):\n",
        "    tensor = torch.zeros(1, n_letters)\n",
        "    tensor[0][letterToIndex(letter)] = 1\n",
        "    return tensor\n",
        "\n",
        "# Turn a line into a <line_length x 1 x n_letters>,\n",
        "# or an array of one-hot letter vectors\n",
        "def lineToTensor(line):\n",
        "    tensor = torch.zeros(len(line), 1, n_letters)\n",
        "    for li, letter in enumerate(line):\n",
        "        tensor[li][0][letterToIndex(letter)] = 1\n",
        "    return tensor\n",
        "\n",
        "print(letterToTensor('J'))\n",
        "\n",
        "print(lineToTensor('Jones').size())"
      ],
      "execution_count": null,
      "outputs": [
        {
          "output_type": "stream",
          "name": "stdout",
          "text": [
            "tensor([[0., 0., 0., 0., 0., 0., 0., 0., 0., 0., 0., 0., 0., 0., 0., 0., 0., 0.,\n",
            "         0., 0., 0., 0., 0., 0., 0., 0., 0., 0., 0., 0., 0., 0., 0., 0., 0., 1.,\n",
            "         0., 0., 0., 0., 0., 0., 0., 0., 0., 0., 0., 0., 0., 0., 0., 0., 0., 0.,\n",
            "         0., 0., 0.]])\n",
            "torch.Size([5, 1, 57])\n"
          ]
        }
      ]
    },
    {
      "cell_type": "code",
      "metadata": {
        "id": "891GIol8lU9P",
        "colab": {
          "base_uri": "https://localhost:8080/",
          "height": 36
        },
        "outputId": "a19bd511-0e5f-4518-9e90-4c0ca7b2e924"
      },
      "source": [
        "all_letters"
      ],
      "execution_count": null,
      "outputs": [
        {
          "output_type": "execute_result",
          "data": {
            "text/plain": [
              "\"abcdefghijklmnopqrstuvwxyzABCDEFGHIJKLMNOPQRSTUVWXYZ .,;'\""
            ],
            "application/vnd.google.colaboratory.intrinsic+json": {
              "type": "string"
            }
          },
          "metadata": {},
          "execution_count": 37
        }
      ]
    },
    {
      "cell_type": "code",
      "metadata": {
        "id": "REs-XFbMlbEC",
        "colab": {
          "base_uri": "https://localhost:8080/"
        },
        "outputId": "85fc8b95-deea-44c4-fef8-9134f572c84c"
      },
      "source": [
        "len(all_letters)"
      ],
      "execution_count": null,
      "outputs": [
        {
          "output_type": "execute_result",
          "data": {
            "text/plain": [
              "57"
            ]
          },
          "metadata": {},
          "execution_count": 38
        }
      ]
    },
    {
      "cell_type": "markdown",
      "metadata": {
        "id": "s6cUt3LirRRE"
      },
      "source": [
        "Creating the Network\n",
        "====================\n",
        "\n",
        "Before autograd, creating a recurrent neural network in Torch involved\n",
        "cloning the parameters of a layer over several timesteps. The layers\n",
        "held hidden state and gradients which are now entirely handled by the\n",
        "graph itself. This means you can implement a RNN in a very \"pure\" way,\n",
        "as regular feed-forward layers.\n",
        "\n",
        "This RNN module (mostly copied from `the PyTorch for Torch users tutorial <http://pytorch.org/tutorials/beginner/former_torchies/nn_tutorial.html#example-2-recurrent-net>`__)\n",
        "is just 2 linear layers which operate on an input and hidden state, with\n",
        "a LogSoftmax layer after the output.\n",
        "\n",
        "<img src=https://i.imgur.com/Z2xbySO.png>\n",
        " "
      ]
    },
    {
      "cell_type": "code",
      "metadata": {
        "id": "BOiahSFPrRRF"
      },
      "source": [
        "import torch.nn as nn\n",
        "\n",
        "class RNN(nn.Module):\n",
        "    def __init__(self, input_size, hidden_size, output_size):\n",
        "        super(RNN, self).__init__()\n",
        "\n",
        "        self.hidden_size = hidden_size\n",
        "        # TODO (check the graph and `forward` for hints)\n",
        "        combined_size = input_size + hidden_size\n",
        "        # fully connected layers\n",
        "        self.i2h = nn.Linear(combined_size, hidden_size)\n",
        "        self.i2o = nn.Linear(combined_size, output_size)\n",
        "        self.log_softmax = nn.LogSoftmax(dim=1)\n",
        "\n",
        "    def forward(self, input, hidden):\n",
        "        # input.shape (N, input_size)\n",
        "        # hidden.shape (N, hidden_size)\n",
        "        # combined.shape (N, input_size + hidden_size)\n",
        "        # TODO\n",
        "        # Define combined as concatenation of input and hidden\n",
        "        # Follow the computational paths:\n",
        "        # 1) combined -> i2o -> log_softmax (output)\n",
        "        # 2) combined -> i2h (output)\n",
        "        combined = torch.cat((input, hidden), 1)\n",
        "        hidden = self.i2h(combined)        \n",
        "        output = self.log_softmax(self.i2o(combined))\n",
        "        \n",
        "        return output, hidden\n",
        "\n",
        "    def initHidden(self):\n",
        "        return torch.zeros(1, self.hidden_size)\n",
        "\n",
        "n_hidden = 128\n",
        "rnn = RNN(n_letters, n_hidden, n_categories)"
      ],
      "execution_count": null,
      "outputs": []
    },
    {
      "cell_type": "code",
      "metadata": {
        "id": "U2ITDsKtZbLm"
      },
      "source": [
        "torch.cat?"
      ],
      "execution_count": null,
      "outputs": []
    },
    {
      "cell_type": "markdown",
      "metadata": {
        "id": "YHnq-vqwrRRL"
      },
      "source": [
        "To run a step of this network we need to pass an input (in our case, the\n",
        "Tensor for the current letter) and a previous hidden state (which we\n",
        "initialize as zeros at first). We'll get back the output (probability of\n",
        "each language) and a next hidden state (which we keep for the next\n",
        "step).\n",
        "\n",
        "\n"
      ]
    },
    {
      "cell_type": "code",
      "metadata": {
        "id": "CU-f3wYbrRRN"
      },
      "source": [
        "input = letterToTensor('A')\n",
        "hidden = torch.zeros(1, n_hidden)\n",
        "\n",
        "output, next_hidden = rnn(input, hidden)"
      ],
      "execution_count": null,
      "outputs": []
    },
    {
      "cell_type": "code",
      "metadata": {
        "id": "LdFBzxbpn2Cx",
        "colab": {
          "base_uri": "https://localhost:8080/"
        },
        "outputId": "c98284aa-b425-4af2-e409-1d3562ce0dc4"
      },
      "source": [
        "input.shape"
      ],
      "execution_count": null,
      "outputs": [
        {
          "output_type": "execute_result",
          "data": {
            "text/plain": [
              "torch.Size([1, 57])"
            ]
          },
          "metadata": {},
          "execution_count": 42
        }
      ]
    },
    {
      "cell_type": "code",
      "metadata": {
        "id": "RThvQX7irRRS",
        "colab": {
          "base_uri": "https://localhost:8080/"
        },
        "outputId": "0c068339-a3e2-4af1-a254-40dc2f73ae7c"
      },
      "source": [
        "print(output)"
      ],
      "execution_count": null,
      "outputs": [
        {
          "output_type": "stream",
          "name": "stdout",
          "text": [
            "tensor([[-2.8825, -2.8983, -2.8700, -2.9337, -2.8141, -2.8534, -2.7813, -2.9558,\n",
            "         -2.8307, -2.9282, -3.0335, -2.8218, -2.9046, -2.8982, -2.9137, -2.9674,\n",
            "         -2.9095, -2.8618]], grad_fn=<LogSoftmaxBackward0>)\n"
          ]
        }
      ]
    },
    {
      "cell_type": "code",
      "metadata": {
        "id": "xBpJkgAXoA1X",
        "colab": {
          "base_uri": "https://localhost:8080/"
        },
        "outputId": "53a38f17-3786-49da-8d6a-d7ff9b66149e"
      },
      "source": [
        "output.shape"
      ],
      "execution_count": null,
      "outputs": [
        {
          "output_type": "execute_result",
          "data": {
            "text/plain": [
              "torch.Size([1, 18])"
            ]
          },
          "metadata": {},
          "execution_count": 44
        }
      ]
    },
    {
      "cell_type": "code",
      "metadata": {
        "id": "edY-AlWWrRRY",
        "colab": {
          "base_uri": "https://localhost:8080/"
        },
        "outputId": "f4f20a05-cb0b-4067-d3fb-748c843bcbb5"
      },
      "source": [
        "print(next_hidden)"
      ],
      "execution_count": null,
      "outputs": [
        {
          "output_type": "stream",
          "name": "stdout",
          "text": [
            "tensor([[-4.6001e-03,  1.9768e-02,  8.2175e-02, -4.8114e-02,  5.2928e-02,\n",
            "          7.8524e-02, -4.8080e-02,  6.3420e-02, -7.5854e-02,  7.5625e-02,\n",
            "         -5.8039e-02,  8.7280e-02,  9.4961e-02, -1.8133e-02,  1.6880e-03,\n",
            "         -2.6843e-02, -1.4085e-04,  6.7793e-03, -6.7045e-03, -9.2897e-02,\n",
            "         -9.0620e-02,  3.5192e-02,  2.4944e-02,  1.1936e-02, -5.7100e-02,\n",
            "          9.5126e-02, -2.4973e-02, -1.1426e-01,  6.8571e-02, -1.0408e-01,\n",
            "          4.4772e-02,  3.0164e-02,  1.0065e-01, -6.2011e-02,  5.3896e-02,\n",
            "         -2.3636e-02,  1.1664e-01,  1.3720e-02, -1.0030e-01,  5.4241e-03,\n",
            "          2.9560e-03,  1.2716e-02, -1.0080e-01, -9.8510e-03, -1.9753e-02,\n",
            "          8.5582e-02,  1.9917e-02,  2.2335e-04, -6.0818e-03,  2.6871e-02,\n",
            "          8.5418e-03,  3.8643e-02, -9.8794e-02,  5.5020e-02,  6.8396e-02,\n",
            "         -5.6759e-02,  7.9917e-02,  6.3515e-02,  5.5686e-04,  3.4445e-02,\n",
            "          3.3028e-02, -1.2388e-02, -1.0065e-02,  5.8960e-02, -1.4500e-01,\n",
            "         -7.0919e-02, -1.0137e-01,  1.1436e-02,  4.8644e-02, -2.9596e-02,\n",
            "         -7.2053e-02, -4.0122e-02, -2.6306e-02,  1.6239e-02, -7.8987e-02,\n",
            "         -1.4887e-02,  5.3879e-02, -2.3193e-02, -5.1694e-02,  1.3331e-02,\n",
            "          7.6525e-02, -5.9420e-03, -3.2577e-02, -6.4164e-02, -2.9493e-02,\n",
            "          7.4775e-02, -5.5979e-02, -5.9515e-02, -7.7855e-02,  6.9843e-03,\n",
            "         -3.1055e-02, -4.0434e-02, -2.8557e-02, -1.2653e-02,  8.2723e-03,\n",
            "         -7.2490e-02, -1.1362e-01, -1.2189e-01, -1.1851e-01,  1.7793e-02,\n",
            "          7.4641e-02,  7.8169e-03, -7.4218e-02, -1.2827e-02,  4.1114e-02,\n",
            "         -7.5492e-02,  3.6387e-02,  6.6678e-03,  4.1301e-02,  3.1574e-03,\n",
            "         -6.3812e-02, -9.8399e-02,  8.1266e-02, -4.9447e-02,  8.8611e-02,\n",
            "          8.9436e-02,  1.4240e-02, -4.5513e-02, -5.5466e-02,  4.0717e-02,\n",
            "         -7.5905e-02, -6.4934e-02, -8.8083e-02, -4.1141e-02,  2.1660e-02,\n",
            "          1.2504e-01,  5.6871e-03, -7.7667e-02]], grad_fn=<AddmmBackward0>)\n"
          ]
        }
      ]
    },
    {
      "cell_type": "code",
      "metadata": {
        "id": "H9lYDAnkoHIb",
        "colab": {
          "base_uri": "https://localhost:8080/"
        },
        "outputId": "157874f0-2f44-4ce1-b71a-dfb491e4de66"
      },
      "source": [
        "next_hidden.shape"
      ],
      "execution_count": null,
      "outputs": [
        {
          "output_type": "execute_result",
          "data": {
            "text/plain": [
              "torch.Size([1, 128])"
            ]
          },
          "metadata": {},
          "execution_count": 46
        }
      ]
    },
    {
      "cell_type": "markdown",
      "metadata": {
        "id": "wEJkupC3rRRd"
      },
      "source": [
        "For the sake of efficiency we don't want to be creating a new Tensor for\n",
        "every step, so we will use ``lineToTensor`` instead of\n",
        "``letterToTensor`` and use slices. This could be further optimized by\n",
        "pre-computing batches of Tensors.\n",
        "\n",
        "\n"
      ]
    },
    {
      "cell_type": "code",
      "metadata": {
        "id": "7g7T8lqyrRRf",
        "colab": {
          "base_uri": "https://localhost:8080/"
        },
        "outputId": "559e9c39-70a2-41a4-8ab4-81d82d3dc002"
      },
      "source": [
        "input = lineToTensor('Albert')\n",
        "hidden = torch.zeros(1, n_hidden)\n",
        "\n",
        "output, next_hidden = rnn(input[0], hidden)\n",
        "print(output)"
      ],
      "execution_count": null,
      "outputs": [
        {
          "output_type": "stream",
          "name": "stdout",
          "text": [
            "tensor([[-2.8825, -2.8983, -2.8700, -2.9337, -2.8141, -2.8534, -2.7813, -2.9558,\n",
            "         -2.8307, -2.9282, -3.0335, -2.8218, -2.9046, -2.8982, -2.9137, -2.9674,\n",
            "         -2.9095, -2.8618]], grad_fn=<LogSoftmaxBackward0>)\n"
          ]
        }
      ]
    },
    {
      "cell_type": "code",
      "metadata": {
        "id": "22cyee05tdYa",
        "colab": {
          "base_uri": "https://localhost:8080/"
        },
        "outputId": "52a1fa2b-d4ba-42a2-e600-f0f3eac0ab55"
      },
      "source": [
        "input.shape"
      ],
      "execution_count": null,
      "outputs": [
        {
          "output_type": "execute_result",
          "data": {
            "text/plain": [
              "torch.Size([6, 1, 57])"
            ]
          },
          "metadata": {},
          "execution_count": 48
        }
      ]
    },
    {
      "cell_type": "code",
      "metadata": {
        "id": "HSOnekf_tvVZ",
        "colab": {
          "base_uri": "https://localhost:8080/"
        },
        "outputId": "956566b9-04b2-44d5-d813-8f9ed9ac815c"
      },
      "source": [
        "output.shape"
      ],
      "execution_count": null,
      "outputs": [
        {
          "output_type": "execute_result",
          "data": {
            "text/plain": [
              "torch.Size([1, 18])"
            ]
          },
          "metadata": {},
          "execution_count": 49
        }
      ]
    },
    {
      "cell_type": "markdown",
      "metadata": {
        "id": "2v6or3_crRRj"
      },
      "source": [
        "As you can see the output is a ``<1 x n_categories>`` Tensor, where\n",
        "every item is the likelihood of that category (higher is more likely).\n",
        "\n",
        "\n"
      ]
    },
    {
      "cell_type": "markdown",
      "metadata": {
        "id": "cmJIuJRdrRRk"
      },
      "source": [
        "Training\n",
        "========\n",
        "Preparing for Training\n",
        "----------------------\n",
        "\n",
        "Before going into training we should make a few helper functions. The\n",
        "first is to interpret the output of the network, which we know to be a\n",
        "likelihood of each category. We can use ``Tensor.topk`` to get the index\n",
        "of the greatest value:\n",
        "\n",
        "\n"
      ]
    },
    {
      "cell_type": "code",
      "metadata": {
        "id": "nhFoY752rRRm",
        "colab": {
          "base_uri": "https://localhost:8080/"
        },
        "outputId": "d9eee9dc-2aac-4e14-fd95-6f2619460405"
      },
      "source": [
        "def categoryFromOutput(output):\n",
        "    top_n, top_i = output.topk(1)\n",
        "    category_i = top_i[0].item()\n",
        "    return all_categories[category_i], category_i\n",
        "\n",
        "print(categoryFromOutput(output))"
      ],
      "execution_count": null,
      "outputs": [
        {
          "output_type": "stream",
          "name": "stdout",
          "text": [
            "('Spanish', 6)\n"
          ]
        }
      ]
    },
    {
      "cell_type": "markdown",
      "metadata": {
        "id": "Ux7sDx34rRRq"
      },
      "source": [
        "We will also want a quick way to get a training example (a name and its\n",
        "language):\n",
        "\n",
        "\n"
      ]
    },
    {
      "cell_type": "code",
      "metadata": {
        "id": "oTjhk_5qrRRr",
        "colab": {
          "base_uri": "https://localhost:8080/"
        },
        "outputId": "4c86caf5-fe74-4876-8cbc-0bb55625149f"
      },
      "source": [
        "import random\n",
        "\n",
        "def randomChoice(l):\n",
        "    return l[random.randint(0, len(l) - 1)]\n",
        "\n",
        "def randomTrainingExample():\n",
        "    category = randomChoice(all_categories)\n",
        "    line = randomChoice(category_lines[category])\n",
        "    category_tensor = torch.tensor([all_categories.index(category)], dtype=torch.long)\n",
        "    line_tensor = lineToTensor(line)\n",
        "    return category, line, category_tensor, line_tensor\n",
        "\n",
        "for i in range(10):\n",
        "    category, line, category_tensor, line_tensor = randomTrainingExample()\n",
        "    print('category =', category, '/ line =', line)"
      ],
      "execution_count": null,
      "outputs": [
        {
          "output_type": "stream",
          "name": "stdout",
          "text": [
            "category = Polish / line = Sokolofsky\n",
            "category = Dutch / line = Penners\n",
            "category = German / line = Wernher\n",
            "category = Chinese / line = Song\n",
            "category = Scottish / line = Martin\n",
            "category = Korean / line = Yu\n",
            "category = Czech / line = Timpy\n",
            "category = German / line = Baumann\n",
            "category = English / line = Boulton\n",
            "category = English / line = Rampling\n"
          ]
        }
      ]
    },
    {
      "cell_type": "markdown",
      "metadata": {
        "id": "jWImgi-ZrRRv"
      },
      "source": [
        "Training the Network\n",
        "--------------------\n",
        "\n",
        "Now all it takes to train this network is show it a bunch of examples,\n",
        "have it make guesses, and tell it if it's wrong.\n",
        "\n",
        "For the loss function ``nn.NLLLoss`` is appropriate, since the last\n",
        "layer of the RNN is ``nn.LogSoftmax``.\n",
        "\n",
        "\n"
      ]
    },
    {
      "cell_type": "code",
      "metadata": {
        "id": "3GF26rOvrRRw"
      },
      "source": [
        "criterion = nn.NLLLoss()"
      ],
      "execution_count": null,
      "outputs": []
    },
    {
      "cell_type": "markdown",
      "metadata": {
        "id": "o3MODcjYrRR1"
      },
      "source": [
        "Each loop of training will:\n",
        "\n",
        "-  Create input and target tensors\n",
        "-  Create a zeroed initial hidden state\n",
        "-  Read each letter in and\n",
        "\n",
        "   -  Keep hidden state for next letter\n",
        "\n",
        "-  Compare final output to target\n",
        "-  Back-propagate\n",
        "-  Return the output and loss\n",
        "\n",
        "\n"
      ]
    },
    {
      "cell_type": "code",
      "metadata": {
        "id": "24053qPMrRR2"
      },
      "source": [
        "learning_rate = 0.005 # If you set this too high, it might explode. If too low, it might not learn\n",
        "optimizer = torch.optim.SGD(rnn.parameters(),lr = learning_rate)\n",
        "def train(category_tensor, line_tensor):\n",
        "    # TODO\n",
        "    # initialize the hidden state (hint: check the rnn class)\n",
        "    hidden = rnn.initHidden()\n",
        "\n",
        "    # TODO\n",
        "    # zero the gradients\n",
        "    optimizer.zero_grad()\n",
        "\n",
        "    # get output and hidden state for each letter\n",
        "    for i in range(line_tensor.size()[0]):\n",
        "        output, hidden = rnn(line_tensor[i], hidden)\n",
        "\n",
        "    # TODO\n",
        "    # calculate the loss between `output` and `category_tensor`\n",
        "    loss = criterion(output, category_tensor)\n",
        "    # back-propagate (calculate gradients)\n",
        "    loss.backward()\n",
        "\n",
        "    # update parameters (optimizer step)\n",
        "    optimizer.step()\n",
        "\n",
        "    return output, loss.item()"
      ],
      "execution_count": null,
      "outputs": []
    },
    {
      "cell_type": "markdown",
      "metadata": {
        "id": "bu7qI4AIrRR6"
      },
      "source": [
        "Now we just have to run that with a bunch of examples. Since the\n",
        "``train`` function returns both the output and loss we can print its\n",
        "guesses and also keep track of loss for plotting. Since there are 1000s\n",
        "of examples we print only every ``print_every`` examples, and take an\n",
        "average of the loss.\n",
        "\n",
        "\n"
      ]
    },
    {
      "cell_type": "code",
      "metadata": {
        "id": "sO75LFefrRR8",
        "colab": {
          "base_uri": "https://localhost:8080/"
        },
        "outputId": "32b1de90-4a92-4bdd-e7c3-4e0441696f9c"
      },
      "source": [
        "import time\n",
        "import math\n",
        "\n",
        "n_iters = 100000\n",
        "print_every = 5000\n",
        "plot_every = 1000\n",
        "\n",
        "\n",
        "\n",
        "# Keep track of losses for plotting\n",
        "current_loss = 0\n",
        "all_losses = []\n",
        "\n",
        "def timeSince(since):\n",
        "    now = time.time()\n",
        "    s = now - since\n",
        "    m = math.floor(s / 60)\n",
        "    s -= m * 60\n",
        "    return '%dm %ds' % (m, s)\n",
        "\n",
        "start = time.time()\n",
        "\n",
        "for iter in range(1, n_iters + 1):\n",
        "    category, line, category_tensor, line_tensor = randomTrainingExample()\n",
        "    output, loss = train(category_tensor, line_tensor)\n",
        "    current_loss += loss\n",
        "\n",
        "    # Print iter number, loss, name and guess\n",
        "    if iter % print_every == 0:\n",
        "        guess, guess_i = categoryFromOutput(output)\n",
        "        correct = '✓' if guess == category else '✗ (%s)' % category\n",
        "        print('%d %d%% (%s) %.4f %s / %s %s' % (iter, iter / n_iters * 100, timeSince(start), loss, line, guess, correct))\n",
        "\n",
        "    # Add current loss avg to list of losses\n",
        "    if iter % plot_every == 0:\n",
        "        all_losses.append(current_loss / plot_every)\n",
        "        current_loss = 0"
      ],
      "execution_count": null,
      "outputs": [
        {
          "output_type": "stream",
          "name": "stdout",
          "text": [
            "5000 5% (0m 4s) 2.9357 Poirier / German ✗ (French)\n",
            "10000 10% (0m 9s) 1.7389 Pae / Chinese ✗ (Korean)\n",
            "15000 15% (0m 13s) 1.6135 Nghiem / Vietnamese ✓\n",
            "20000 20% (0m 17s) 1.9723 Nguyen / Vietnamese ✓\n",
            "25000 25% (0m 21s) 1.3621 Meeuwsen / Dutch ✓\n",
            "30000 30% (0m 26s) 0.9617 Bueren / Dutch ✓\n",
            "35000 35% (0m 30s) 2.9745 Samuel / Arabic ✗ (French)\n",
            "40000 40% (0m 34s) 0.9666 Suh / Korean ✓\n",
            "45000 45% (0m 38s) 0.1772 Paloumbas / Greek ✓\n",
            "50000 50% (0m 43s) 1.1227 Favager / French ✓\n",
            "55000 55% (0m 47s) 0.5193 Mitsuharu / Japanese ✓\n",
            "60000 60% (0m 51s) 1.1937 Ilsley / English ✓\n",
            "65000 65% (0m 56s) 2.2116 Koza / Japanese ✗ (Czech)\n",
            "70000 70% (1m 0s) 0.4222 Mifsud / Arabic ✓\n",
            "75000 75% (1m 4s) 2.2250 Klemper / Dutch ✗ (Czech)\n",
            "80000 80% (1m 9s) 1.6201 Austen / Dutch ✗ (English)\n",
            "85000 85% (1m 14s) 0.5800 Wallace / English ✓\n",
            "90000 90% (1m 19s) 2.8339 Acquafredda / Spanish ✗ (Italian)\n",
            "95000 95% (1m 23s) 2.8229 Falsh / German ✗ (English)\n",
            "100000 100% (1m 27s) 0.5604 Moon / Korean ✓\n"
          ]
        }
      ]
    },
    {
      "cell_type": "markdown",
      "metadata": {
        "id": "-ZjjsMHCrRR_"
      },
      "source": [
        "Plotting the Results\n",
        "--------------------\n",
        "\n",
        "Plotting the historical loss from ``all_losses`` shows the network\n",
        "learning:\n",
        "\n",
        "\n"
      ]
    },
    {
      "cell_type": "code",
      "metadata": {
        "id": "bjUWn4IzrRSC",
        "colab": {
          "base_uri": "https://localhost:8080/",
          "height": 283
        },
        "outputId": "38189899-dd72-427c-b1a2-8d163082d860"
      },
      "source": [
        "import matplotlib.pyplot as plt\n",
        "import matplotlib.ticker as ticker\n",
        "\n",
        "plt.figure()\n",
        "plt.plot(all_losses)"
      ],
      "execution_count": null,
      "outputs": [
        {
          "output_type": "execute_result",
          "data": {
            "text/plain": [
              "[<matplotlib.lines.Line2D at 0x7fd4dd74b210>]"
            ]
          },
          "metadata": {},
          "execution_count": 55
        },
        {
          "output_type": "display_data",
          "data": {
            "text/plain": [
              "<Figure size 432x288 with 1 Axes>"
            ],
            "image/png": "[encoded data removed]"
          },
          "metadata": {
            "needs_background": "light"
          }
        }
      ]
    },
    {
      "cell_type": "markdown",
      "metadata": {
        "id": "8fke7Pw_rRSI"
      },
      "source": [
        "Evaluating the Results\n",
        "======================\n",
        "\n",
        "To see how well the network performs on different categories, we will\n",
        "create a confusion matrix, indicating for every actual language (rows)\n",
        "which language the network guesses (columns). To calculate the confusion\n",
        "matrix a bunch of samples are run through the network with\n",
        "``evaluate()``, which is the same as ``train()`` minus the backprop.\n",
        "\n",
        "\n"
      ]
    },
    {
      "cell_type": "code",
      "metadata": {
        "id": "23HcFKW0rRSJ",
        "colab": {
          "base_uri": "https://localhost:8080/",
          "height": 320
        },
        "outputId": "8d9d8176-2c3f-4de4-a6b6-9e50baad15df"
      },
      "source": [
        "# Keep track of correct guesses in a confusion matrix\n",
        "confusion = torch.zeros(n_categories, n_categories)\n",
        "n_confusion = 10000\n",
        "\n",
        "# Just return an output given a line\n",
        "def evaluate(line_tensor):\n",
        "    hidden = rnn.initHidden()\n",
        "\n",
        "    for i in range(line_tensor.size()[0]):\n",
        "        output, hidden = rnn(line_tensor[i], hidden)\n",
        "\n",
        "    return output\n",
        "\n",
        "# Go through a bunch of examples and record which are correctly guessed\n",
        "for i in range(n_confusion):\n",
        "    category, line, category_tensor, line_tensor = randomTrainingExample()\n",
        "    output = evaluate(line_tensor)\n",
        "    guess, guess_i = categoryFromOutput(output)\n",
        "    category_i = all_categories.index(category)\n",
        "    confusion[category_i][guess_i] += 1\n",
        "\n",
        "# Normalize by dividing every row by its sum\n",
        "for i in range(n_categories):\n",
        "    confusion[i] = confusion[i] / confusion[i].sum()\n",
        "\n",
        "# Set up plot\n",
        "fig = plt.figure()\n",
        "ax = fig.add_subplot(111)\n",
        "cax = ax.matshow(confusion.numpy())\n",
        "fig.colorbar(cax)\n",
        "\n",
        "# Set up axes\n",
        "ax.set_xticklabels([''] + all_categories, rotation=90)\n",
        "ax.set_yticklabels([''] + all_categories)\n",
        "\n",
        "# Force label at every tick\n",
        "ax.xaxis.set_major_locator(ticker.MultipleLocator(1))\n",
        "ax.yaxis.set_major_locator(ticker.MultipleLocator(1))\n",
        "\n",
        "# sphinx_gallery_thumbnail_number = 2\n",
        "plt.show()"
      ],
      "execution_count": null,
      "outputs": [
        {
          "output_type": "display_data",
          "data": {
            "text/plain": [
              "<Figure size 432x288 with 2 Axes>"
            ],
            "image/png": "[encoded data removed]"
          },
          "metadata": {
            "needs_background": "light"
          }
        }
      ]
    },
    {
      "cell_type": "markdown",
      "metadata": {
        "id": "HdzvlpHerRSP"
      },
      "source": [
        "You can pick out bright spots off the main axis that show which\n",
        "languages it guesses incorrectly, e.g. Chinese for Korean, and Spanish\n",
        "for Italian. It seems to do very well with Greek, and very poorly with\n",
        "English (perhaps because of overlap with other languages).\n",
        "\n",
        "\n"
      ]
    },
    {
      "cell_type": "markdown",
      "metadata": {
        "id": "ijdl5b1RrRSQ"
      },
      "source": [
        "Running on User Input\n",
        "---------------------\n",
        "\n",
        "\n"
      ]
    },
    {
      "cell_type": "code",
      "metadata": {
        "id": "0bg9G3TZrRSS",
        "colab": {
          "base_uri": "https://localhost:8080/"
        },
        "outputId": "2f4c6b98-5ceb-4cee-c703-a4f12d199d85"
      },
      "source": [
        "def predict(input_line, n_predictions=3):\n",
        "    print('\\n> %s' % input_line)\n",
        "    with torch.no_grad():\n",
        "        output = evaluate(lineToTensor(input_line))\n",
        "\n",
        "        # Get top N categories\n",
        "        topv, topi = output.topk(n_predictions, 1, True)\n",
        "        predictions = []\n",
        "\n",
        "        for i in range(n_predictions):\n",
        "            value = topv[0][i].item()\n",
        "            category_index = topi[0][i].item()\n",
        "            print('(%.2f) %s' % (value, all_categories[category_index]))\n",
        "            predictions.append([value, all_categories[category_index]])\n",
        "\n",
        "predict('Dovesky')\n",
        "predict('Jackson')\n",
        "predict('Satoshi')"
      ],
      "execution_count": null,
      "outputs": [
        {
          "output_type": "stream",
          "name": "stdout",
          "text": [
            "\n",
            "> Dovesky\n",
            "(-0.36) Russian\n",
            "(-1.62) Czech\n",
            "(-2.83) English\n",
            "\n",
            "> Jackson\n",
            "(-1.19) English\n",
            "(-1.27) Scottish\n",
            "(-1.42) Russian\n",
            "\n",
            "> Satoshi\n",
            "(-1.03) Italian\n",
            "(-1.51) Arabic\n",
            "(-2.35) Portuguese\n"
          ]
        }
      ]
    },
    {
      "cell_type": "code",
      "metadata": {
        "id": "HhTTEVXMbCH8",
        "colab": {
          "base_uri": "https://localhost:8080/"
        },
        "outputId": "cf5d5e6a-799f-46a8-ccf0-473a58e04bdc"
      },
      "source": [
        "predict(\"Alejandro\")"
      ],
      "execution_count": null,
      "outputs": [
        {
          "output_type": "stream",
          "name": "stdout",
          "text": [
            "\n",
            "> Alejandro\n",
            "(-0.66) Spanish\n",
            "(-1.83) Russian\n",
            "(-2.14) Italian\n"
          ]
        }
      ]
    },
    {
      "cell_type": "markdown",
      "metadata": {
        "id": "ISQ2PLcKrRSW"
      },
      "source": [
        "Exercises\n",
        "=========\n",
        "\n",
        "-  Try with a different dataset of line -> category, for example:\n",
        "\n",
        "   -  Any word -> language\n",
        "   -  First name -> gender\n",
        "   -  Character name -> writer\n",
        "   -  Page title -> blog or subreddit\n",
        "\n",
        "-  Get better results with a bigger and/or better shaped network\n",
        "\n",
        "   -  Add more linear layers\n",
        "   -  Try the ``nn.LSTM`` and ``nn.GRU`` layers\n",
        "   -  Combine multiple of these RNNs as a higher level network\n",
        "\n",
        "\n"
      ]
    },
    {
      "cell_type": "code",
      "metadata": {
        "id": "ghpS6J6orRSY"
      },
      "source": [
        ""
      ],
      "execution_count": null,
      "outputs": []
    }
  ]
}