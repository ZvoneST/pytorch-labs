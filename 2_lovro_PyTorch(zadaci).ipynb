{
  "nbformat": 4,
  "nbformat_minor": 0,
  "metadata": {
    "kernelspec": {
      "name": "python3",
      "display_name": "Python 3"
    },
    "language_info": {
      "codemirror_mode": {
        "name": "ipython",
        "version": 3
      },
      "file_extension": ".py",
      "mimetype": "text/x-python",
      "name": "python",
      "nbconvert_exporter": "python",
      "pygments_lexer": "ipython3",
      "version": "3.6.4"
    },
    "colab": {
      "name": "lovro - PyTorch(zadaci).ipynb",
      "provenance": [],
      "collapsed_sections": [],
      "toc_visible": true,
      "include_colab_link": true
    },
    "accelerator": "GPU",
    "widgets": {
      "application/vnd.jupyter.widget-state+json": {
        "32c25bb5f7204933ae6b5fb87fa024b3": {
          "model_module": "@jupyter-widgets/controls",
          "model_name": "HBoxModel",
          "model_module_version": "1.5.0",
          "state": {
            "_dom_classes": [],
            "_model_module": "@jupyter-widgets/controls",
            "_model_module_version": "1.5.0",
            "_model_name": "HBoxModel",
            "_view_count": null,
            "_view_module": "@jupyter-widgets/controls",
            "_view_module_version": "1.5.0",
            "_view_name": "HBoxView",
            "box_style": "",
            "children": [
              "IPY_MODEL_babc81fab89b4882927d846a008ec25d",
              "IPY_MODEL_6eab1155751345ca9312121905d7f3ca",
              "IPY_MODEL_e7894182fa404551b3c070f7b531da21"
            ],
            "layout": "IPY_MODEL_795426d280bb4bebb8663b76251e818d"
          }
        },
        "babc81fab89b4882927d846a008ec25d": {
          "model_module": "@jupyter-widgets/controls",
          "model_name": "HTMLModel",
          "model_module_version": "1.5.0",
          "state": {
            "_dom_classes": [],
            "_model_module": "@jupyter-widgets/controls",
            "_model_module_version": "1.5.0",
            "_model_name": "HTMLModel",
            "_view_count": null,
            "_view_module": "@jupyter-widgets/controls",
            "_view_module_version": "1.5.0",
            "_view_name": "HTMLView",
            "description": "",
            "description_tooltip": null,
            "layout": "IPY_MODEL_6120e4760b7d4a9996270dfd3b0795e7",
            "placeholder": "​",
            "style": "IPY_MODEL_42931f76fd5447dba07ebf5200fc68c8",
            "value": ""
          }
        },
        "6eab1155751345ca9312121905d7f3ca": {
          "model_module": "@jupyter-widgets/controls",
          "model_name": "FloatProgressModel",
          "model_module_version": "1.5.0",
          "state": {
            "_dom_classes": [],
            "_model_module": "@jupyter-widgets/controls",
            "_model_module_version": "1.5.0",
            "_model_name": "FloatProgressModel",
            "_view_count": null,
            "_view_module": "@jupyter-widgets/controls",
            "_view_module_version": "1.5.0",
            "_view_name": "ProgressView",
            "bar_style": "success",
            "description": "",
            "description_tooltip": null,
            "layout": "IPY_MODEL_2149c7fc67974353bb76c1825393c895",
            "max": 9912422,
            "min": 0,
            "orientation": "horizontal",
            "style": "IPY_MODEL_7ba289ed941143808ea87068ebd96740",
            "value": 9912422
          }
        },
        "e7894182fa404551b3c070f7b531da21": {
          "model_module": "@jupyter-widgets/controls",
          "model_name": "HTMLModel",
          "model_module_version": "1.5.0",
          "state": {
            "_dom_classes": [],
            "_model_module": "@jupyter-widgets/controls",
            "_model_module_version": "1.5.0",
            "_model_name": "HTMLModel",
            "_view_count": null,
            "_view_module": "@jupyter-widgets/controls",
            "_view_module_version": "1.5.0",
            "_view_name": "HTMLView",
            "description": "",
            "description_tooltip": null,
            "layout": "IPY_MODEL_f816343962354d5fa360025fe9d1d84a",
            "placeholder": "​",
            "style": "IPY_MODEL_9d30c2555cd942e99349016ba8155edf",
            "value": " 9913344/? [00:00&lt;00:00, 17337575.36it/s]"
          }
        },
        "795426d280bb4bebb8663b76251e818d": {
          "model_module": "@jupyter-widgets/base",
          "model_name": "LayoutModel",
          "model_module_version": "1.2.0",
          "state": {
            "_model_module": "@jupyter-widgets/base",
            "_model_module_version": "1.2.0",
            "_model_name": "LayoutModel",
            "_view_count": null,
            "_view_module": "@jupyter-widgets/base",
            "_view_module_version": "1.2.0",
            "_view_name": "LayoutView",
            "align_content": null,
            "align_items": null,
            "align_self": null,
            "border": null,
            "bottom": null,
            "display": null,
            "flex": null,
            "flex_flow": null,
            "grid_area": null,
            "grid_auto_columns": null,
            "grid_auto_flow": null,
            "grid_auto_rows": null,
            "grid_column": null,
            "grid_gap": null,
            "grid_row": null,
            "grid_template_areas": null,
            "grid_template_columns": null,
            "grid_template_rows": null,
            "height": null,
            "justify_content": null,
            "justify_items": null,
            "left": null,
            "margin": null,
            "max_height": null,
            "max_width": null,
            "min_height": null,
            "min_width": null,
            "object_fit": null,
            "object_position": null,
            "order": null,
            "overflow": null,
            "overflow_x": null,
            "overflow_y": null,
            "padding": null,
            "right": null,
            "top": null,
            "visibility": null,
            "width": null
          }
        },
        "6120e4760b7d4a9996270dfd3b0795e7": {
          "model_module": "@jupyter-widgets/base",
          "model_name": "LayoutModel",
          "model_module_version": "1.2.0",
          "state": {
            "_model_module": "@jupyter-widgets/base",
            "_model_module_version": "1.2.0",
            "_model_name": "LayoutModel",
            "_view_count": null,
            "_view_module": "@jupyter-widgets/base",
            "_view_module_version": "1.2.0",
            "_view_name": "LayoutView",
            "align_content": null,
            "align_items": null,
            "align_self": null,
            "border": null,
            "bottom": null,
            "display": null,
            "flex": null,
            "flex_flow": null,
            "grid_area": null,
            "grid_auto_columns": null,
            "grid_auto_flow": null,
            "grid_auto_rows": null,
            "grid_column": null,
            "grid_gap": null,
            "grid_row": null,
            "grid_template_areas": null,
            "grid_template_columns": null,
            "grid_template_rows": null,
            "height": null,
            "justify_content": null,
            "justify_items": null,
            "left": null,
            "margin": null,
            "max_height": null,
            "max_width": null,
            "min_height": null,
            "min_width": null,
            "object_fit": null,
            "object_position": null,
            "order": null,
            "overflow": null,
            "overflow_x": null,
            "overflow_y": null,
            "padding": null,
            "right": null,
            "top": null,
            "visibility": null,
            "width": null
          }
        },
        "42931f76fd5447dba07ebf5200fc68c8": {
          "model_module": "@jupyter-widgets/controls",
          "model_name": "DescriptionStyleModel",
          "model_module_version": "1.5.0",
          "state": {
            "_model_module": "@jupyter-widgets/controls",
            "_model_module_version": "1.5.0",
            "_model_name": "DescriptionStyleModel",
            "_view_count": null,
            "_view_module": "@jupyter-widgets/base",
            "_view_module_version": "1.2.0",
            "_view_name": "StyleView",
            "description_width": ""
          }
        },
        "2149c7fc67974353bb76c1825393c895": {
          "model_module": "@jupyter-widgets/base",
          "model_name": "LayoutModel",
          "model_module_version": "1.2.0",
          "state": {
            "_model_module": "@jupyter-widgets/base",
            "_model_module_version": "1.2.0",
            "_model_name": "LayoutModel",
            "_view_count": null,
            "_view_module": "@jupyter-widgets/base",
            "_view_module_version": "1.2.0",
            "_view_name": "LayoutView",
            "align_content": null,
            "align_items": null,
            "align_self": null,
            "border": null,
            "bottom": null,
            "display": null,
            "flex": null,
            "flex_flow": null,
            "grid_area": null,
            "grid_auto_columns": null,
            "grid_auto_flow": null,
            "grid_auto_rows": null,
            "grid_column": null,
            "grid_gap": null,
            "grid_row": null,
            "grid_template_areas": null,
            "grid_template_columns": null,
            "grid_template_rows": null,
            "height": null,
            "justify_content": null,
            "justify_items": null,
            "left": null,
            "margin": null,
            "max_height": null,
            "max_width": null,
            "min_height": null,
            "min_width": null,
            "object_fit": null,
            "object_position": null,
            "order": null,
            "overflow": null,
            "overflow_x": null,
            "overflow_y": null,
            "padding": null,
            "right": null,
            "top": null,
            "visibility": null,
            "width": null
          }
        },
        "7ba289ed941143808ea87068ebd96740": {
          "model_module": "@jupyter-widgets/controls",
          "model_name": "ProgressStyleModel",
          "model_module_version": "1.5.0",
          "state": {
            "_model_module": "@jupyter-widgets/controls",
            "_model_module_version": "1.5.0",
            "_model_name": "ProgressStyleModel",
            "_view_count": null,
            "_view_module": "@jupyter-widgets/base",
            "_view_module_version": "1.2.0",
            "_view_name": "StyleView",
            "bar_color": null,
            "description_width": ""
          }
        },
        "f816343962354d5fa360025fe9d1d84a": {
          "model_module": "@jupyter-widgets/base",
          "model_name": "LayoutModel",
          "model_module_version": "1.2.0",
          "state": {
            "_model_module": "@jupyter-widgets/base",
            "_model_module_version": "1.2.0",
            "_model_name": "LayoutModel",
            "_view_count": null,
            "_view_module": "@jupyter-widgets/base",
            "_view_module_version": "1.2.0",
            "_view_name": "LayoutView",
            "align_content": null,
            "align_items": null,
            "align_self": null,
            "border": null,
            "bottom": null,
            "display": null,
            "flex": null,
            "flex_flow": null,
            "grid_area": null,
            "grid_auto_columns": null,
            "grid_auto_flow": null,
            "grid_auto_rows": null,
            "grid_column": null,
            "grid_gap": null,
            "grid_row": null,
            "grid_template_areas": null,
            "grid_template_columns": null,
            "grid_template_rows": null,
            "height": null,
            "justify_content": null,
            "justify_items": null,
            "left": null,
            "margin": null,
            "max_height": null,
            "max_width": null,
            "min_height": null,
            "min_width": null,
            "object_fit": null,
            "object_position": null,
            "order": null,
            "overflow": null,
            "overflow_x": null,
            "overflow_y": null,
            "padding": null,
            "right": null,
            "top": null,
            "visibility": null,
            "width": null
          }
        },
        "9d30c2555cd942e99349016ba8155edf": {
          "model_module": "@jupyter-widgets/controls",
          "model_name": "DescriptionStyleModel",
          "model_module_version": "1.5.0",
          "state": {
            "_model_module": "@jupyter-widgets/controls",
            "_model_module_version": "1.5.0",
            "_model_name": "DescriptionStyleModel",
            "_view_count": null,
            "_view_module": "@jupyter-widgets/base",
            "_view_module_version": "1.2.0",
            "_view_name": "StyleView",
            "description_width": ""
          }
        },
        "1c7b5011e0e641729a48fa0265177efa": {
          "model_module": "@jupyter-widgets/controls",
          "model_name": "HBoxModel",
          "model_module_version": "1.5.0",
          "state": {
            "_dom_classes": [],
            "_model_module": "@jupyter-widgets/controls",
            "_model_module_version": "1.5.0",
            "_model_name": "HBoxModel",
            "_view_count": null,
            "_view_module": "@jupyter-widgets/controls",
            "_view_module_version": "1.5.0",
            "_view_name": "HBoxView",
            "box_style": "",
            "children": [
              "IPY_MODEL_f8dc16afe05a40b1bcab81fb8e95bb78",
              "IPY_MODEL_879a612933cf47beab032ab182c6a699",
              "IPY_MODEL_86938218f581415c9ddad8c697458ce3"
            ],
            "layout": "IPY_MODEL_720a919f35014027bfd6c9525690e828"
          }
        },
        "f8dc16afe05a40b1bcab81fb8e95bb78": {
          "model_module": "@jupyter-widgets/controls",
          "model_name": "HTMLModel",
          "model_module_version": "1.5.0",
          "state": {
            "_dom_classes": [],
            "_model_module": "@jupyter-widgets/controls",
            "_model_module_version": "1.5.0",
            "_model_name": "HTMLModel",
            "_view_count": null,
            "_view_module": "@jupyter-widgets/controls",
            "_view_module_version": "1.5.0",
            "_view_name": "HTMLView",
            "description": "",
            "description_tooltip": null,
            "layout": "IPY_MODEL_b22d60cf6f654cec8f2c45f3b1371492",
            "placeholder": "​",
            "style": "IPY_MODEL_8aed6a9b77cf4db6bf20822a9b852460",
            "value": ""
          }
        },
        "879a612933cf47beab032ab182c6a699": {
          "model_module": "@jupyter-widgets/controls",
          "model_name": "FloatProgressModel",
          "model_module_version": "1.5.0",
          "state": {
            "_dom_classes": [],
            "_model_module": "@jupyter-widgets/controls",
            "_model_module_version": "1.5.0",
            "_model_name": "FloatProgressModel",
            "_view_count": null,
            "_view_module": "@jupyter-widgets/controls",
            "_view_module_version": "1.5.0",
            "_view_name": "ProgressView",
            "bar_style": "success",
            "description": "",
            "description_tooltip": null,
            "layout": "IPY_MODEL_7937da50088e4e96b4abc0d907d4dbfd",
            "max": 28881,
            "min": 0,
            "orientation": "horizontal",
            "style": "IPY_MODEL_2a8c6843614b434f8afba8fe0ebdb80d",
            "value": 28881
          }
        },
        "86938218f581415c9ddad8c697458ce3": {
          "model_module": "@jupyter-widgets/controls",
          "model_name": "HTMLModel",
          "model_module_version": "1.5.0",
          "state": {
            "_dom_classes": [],
            "_model_module": "@jupyter-widgets/controls",
            "_model_module_version": "1.5.0",
            "_model_name": "HTMLModel",
            "_view_count": null,
            "_view_module": "@jupyter-widgets/controls",
            "_view_module_version": "1.5.0",
            "_view_name": "HTMLView",
            "description": "",
            "description_tooltip": null,
            "layout": "IPY_MODEL_5c5b84c81d584d5581a46fd710b1aa17",
            "placeholder": "​",
            "style": "IPY_MODEL_3469534b3df14007a783fc9dd69cf4ad",
            "value": " 29696/? [00:00&lt;00:00, 724117.78it/s]"
          }
        },
        "720a919f35014027bfd6c9525690e828": {
          "model_module": "@jupyter-widgets/base",
          "model_name": "LayoutModel",
          "model_module_version": "1.2.0",
          "state": {
            "_model_module": "@jupyter-widgets/base",
            "_model_module_version": "1.2.0",
            "_model_name": "LayoutModel",
            "_view_count": null,
            "_view_module": "@jupyter-widgets/base",
            "_view_module_version": "1.2.0",
            "_view_name": "LayoutView",
            "align_content": null,
            "align_items": null,
            "align_self": null,
            "border": null,
            "bottom": null,
            "display": null,
            "flex": null,
            "flex_flow": null,
            "grid_area": null,
            "grid_auto_columns": null,
            "grid_auto_flow": null,
            "grid_auto_rows": null,
            "grid_column": null,
            "grid_gap": null,
            "grid_row": null,
            "grid_template_areas": null,
            "grid_template_columns": null,
            "grid_template_rows": null,
            "height": null,
            "justify_content": null,
            "justify_items": null,
            "left": null,
            "margin": null,
            "max_height": null,
            "max_width": null,
            "min_height": null,
            "min_width": null,
            "object_fit": null,
            "object_position": null,
            "order": null,
            "overflow": null,
            "overflow_x": null,
            "overflow_y": null,
            "padding": null,
            "right": null,
            "top": null,
            "visibility": null,
            "width": null
          }
        },
        "b22d60cf6f654cec8f2c45f3b1371492": {
          "model_module": "@jupyter-widgets/base",
          "model_name": "LayoutModel",
          "model_module_version": "1.2.0",
          "state": {
            "_model_module": "@jupyter-widgets/base",
            "_model_module_version": "1.2.0",
            "_model_name": "LayoutModel",
            "_view_count": null,
            "_view_module": "@jupyter-widgets/base",
            "_view_module_version": "1.2.0",
            "_view_name": "LayoutView",
            "align_content": null,
            "align_items": null,
            "align_self": null,
            "border": null,
            "bottom": null,
            "display": null,
            "flex": null,
            "flex_flow": null,
            "grid_area": null,
            "grid_auto_columns": null,
            "grid_auto_flow": null,
            "grid_auto_rows": null,
            "grid_column": null,
            "grid_gap": null,
            "grid_row": null,
            "grid_template_areas": null,
            "grid_template_columns": null,
            "grid_template_rows": null,
            "height": null,
            "justify_content": null,
            "justify_items": null,
            "left": null,
            "margin": null,
            "max_height": null,
            "max_width": null,
            "min_height": null,
            "min_width": null,
            "object_fit": null,
            "object_position": null,
            "order": null,
            "overflow": null,
            "overflow_x": null,
            "overflow_y": null,
            "padding": null,
            "right": null,
            "top": null,
            "visibility": null,
            "width": null
          }
        },
        "8aed6a9b77cf4db6bf20822a9b852460": {
          "model_module": "@jupyter-widgets/controls",
          "model_name": "DescriptionStyleModel",
          "model_module_version": "1.5.0",
          "state": {
            "_model_module": "@jupyter-widgets/controls",
            "_model_module_version": "1.5.0",
            "_model_name": "DescriptionStyleModel",
            "_view_count": null,
            "_view_module": "@jupyter-widgets/base",
            "_view_module_version": "1.2.0",
            "_view_name": "StyleView",
            "description_width": ""
          }
        },
        "7937da50088e4e96b4abc0d907d4dbfd": {
          "model_module": "@jupyter-widgets/base",
          "model_name": "LayoutModel",
          "model_module_version": "1.2.0",
          "state": {
            "_model_module": "@jupyter-widgets/base",
            "_model_module_version": "1.2.0",
            "_model_name": "LayoutModel",
            "_view_count": null,
            "_view_module": "@jupyter-widgets/base",
            "_view_module_version": "1.2.0",
            "_view_name": "LayoutView",
            "align_content": null,
            "align_items": null,
            "align_self": null,
            "border": null,
            "bottom": null,
            "display": null,
            "flex": null,
            "flex_flow": null,
            "grid_area": null,
            "grid_auto_columns": null,
            "grid_auto_flow": null,
            "grid_auto_rows": null,
            "grid_column": null,
            "grid_gap": null,
            "grid_row": null,
            "grid_template_areas": null,
            "grid_template_columns": null,
            "grid_template_rows": null,
            "height": null,
            "justify_content": null,
            "justify_items": null,
            "left": null,
            "margin": null,
            "max_height": null,
            "max_width": null,
            "min_height": null,
            "min_width": null,
            "object_fit": null,
            "object_position": null,
            "order": null,
            "overflow": null,
            "overflow_x": null,
            "overflow_y": null,
            "padding": null,
            "right": null,
            "top": null,
            "visibility": null,
            "width": null
          }
        },
        "2a8c6843614b434f8afba8fe0ebdb80d": {
          "model_module": "@jupyter-widgets/controls",
          "model_name": "ProgressStyleModel",
          "model_module_version": "1.5.0",
          "state": {
            "_model_module": "@jupyter-widgets/controls",
            "_model_module_version": "1.5.0",
            "_model_name": "ProgressStyleModel",
            "_view_count": null,
            "_view_module": "@jupyter-widgets/base",
            "_view_module_version": "1.2.0",
            "_view_name": "StyleView",
            "bar_color": null,
            "description_width": ""
          }
        },
        "5c5b84c81d584d5581a46fd710b1aa17": {
          "model_module": "@jupyter-widgets/base",
          "model_name": "LayoutModel",
          "model_module_version": "1.2.0",
          "state": {
            "_model_module": "@jupyter-widgets/base",
            "_model_module_version": "1.2.0",
            "_model_name": "LayoutModel",
            "_view_count": null,
            "_view_module": "@jupyter-widgets/base",
            "_view_module_version": "1.2.0",
            "_view_name": "LayoutView",
            "align_content": null,
            "align_items": null,
            "align_self": null,
            "border": null,
            "bottom": null,
            "display": null,
            "flex": null,
            "flex_flow": null,
            "grid_area": null,
            "grid_auto_columns": null,
            "grid_auto_flow": null,
            "grid_auto_rows": null,
            "grid_column": null,
            "grid_gap": null,
            "grid_row": null,
            "grid_template_areas": null,
            "grid_template_columns": null,
            "grid_template_rows": null,
            "height": null,
            "justify_content": null,
            "justify_items": null,
            "left": null,
            "margin": null,
            "max_height": null,
            "max_width": null,
            "min_height": null,
            "min_width": null,
            "object_fit": null,
            "object_position": null,
            "order": null,
            "overflow": null,
            "overflow_x": null,
            "overflow_y": null,
            "padding": null,
            "right": null,
            "top": null,
            "visibility": null,
            "width": null
          }
        },
        "3469534b3df14007a783fc9dd69cf4ad": {
          "model_module": "@jupyter-widgets/controls",
          "model_name": "DescriptionStyleModel",
          "model_module_version": "1.5.0",
          "state": {
            "_model_module": "@jupyter-widgets/controls",
            "_model_module_version": "1.5.0",
            "_model_name": "DescriptionStyleModel",
            "_view_count": null,
            "_view_module": "@jupyter-widgets/base",
            "_view_module_version": "1.2.0",
            "_view_name": "StyleView",
            "description_width": ""
          }
        },
        "6c2ed0185907411892abb52336a7f39a": {
          "model_module": "@jupyter-widgets/controls",
          "model_name": "HBoxModel",
          "model_module_version": "1.5.0",
          "state": {
            "_dom_classes": [],
            "_model_module": "@jupyter-widgets/controls",
            "_model_module_version": "1.5.0",
            "_model_name": "HBoxModel",
            "_view_count": null,
            "_view_module": "@jupyter-widgets/controls",
            "_view_module_version": "1.5.0",
            "_view_name": "HBoxView",
            "box_style": "",
            "children": [
              "IPY_MODEL_abf6e0a5c8594a9d96f4e73d8b079a4f",
              "IPY_MODEL_a50fda00fa16421fa6bdaa185e9bb32f",
              "IPY_MODEL_e3c8b55d92f04b7f80a3029169c77c55"
            ],
            "layout": "IPY_MODEL_686152992cf344fdb3e08cf0737aaf4d"
          }
        },
        "abf6e0a5c8594a9d96f4e73d8b079a4f": {
          "model_module": "@jupyter-widgets/controls",
          "model_name": "HTMLModel",
          "model_module_version": "1.5.0",
          "state": {
            "_dom_classes": [],
            "_model_module": "@jupyter-widgets/controls",
            "_model_module_version": "1.5.0",
            "_model_name": "HTMLModel",
            "_view_count": null,
            "_view_module": "@jupyter-widgets/controls",
            "_view_module_version": "1.5.0",
            "_view_name": "HTMLView",
            "description": "",
            "description_tooltip": null,
            "layout": "IPY_MODEL_56f835cd638a42bfb85fefbbd9e25ad2",
            "placeholder": "​",
            "style": "IPY_MODEL_29ea4c906313403eb78ab60e244d753e",
            "value": ""
          }
        },
        "a50fda00fa16421fa6bdaa185e9bb32f": {
          "model_module": "@jupyter-widgets/controls",
          "model_name": "FloatProgressModel",
          "model_module_version": "1.5.0",
          "state": {
            "_dom_classes": [],
            "_model_module": "@jupyter-widgets/controls",
            "_model_module_version": "1.5.0",
            "_model_name": "FloatProgressModel",
            "_view_count": null,
            "_view_module": "@jupyter-widgets/controls",
            "_view_module_version": "1.5.0",
            "_view_name": "ProgressView",
            "bar_style": "success",
            "description": "",
            "description_tooltip": null,
            "layout": "IPY_MODEL_4396636e5f25473facee2de5aac9a0a7",
            "max": 1648877,
            "min": 0,
            "orientation": "horizontal",
            "style": "IPY_MODEL_aaf15b1ad7364b6fb82dd26042d3b9d6",
            "value": 1648877
          }
        },
        "e3c8b55d92f04b7f80a3029169c77c55": {
          "model_module": "@jupyter-widgets/controls",
          "model_name": "HTMLModel",
          "model_module_version": "1.5.0",
          "state": {
            "_dom_classes": [],
            "_model_module": "@jupyter-widgets/controls",
            "_model_module_version": "1.5.0",
            "_model_name": "HTMLModel",
            "_view_count": null,
            "_view_module": "@jupyter-widgets/controls",
            "_view_module_version": "1.5.0",
            "_view_name": "HTMLView",
            "description": "",
            "description_tooltip": null,
            "layout": "IPY_MODEL_f48f459750674f47a07c5ac7113e9546",
            "placeholder": "​",
            "style": "IPY_MODEL_801a4564064d42eebba563154f9abdea",
            "value": " 1649664/? [00:00&lt;00:00, 8017362.16it/s]"
          }
        },
        "686152992cf344fdb3e08cf0737aaf4d": {
          "model_module": "@jupyter-widgets/base",
          "model_name": "LayoutModel",
          "model_module_version": "1.2.0",
          "state": {
            "_model_module": "@jupyter-widgets/base",
            "_model_module_version": "1.2.0",
            "_model_name": "LayoutModel",
            "_view_count": null,
            "_view_module": "@jupyter-widgets/base",
            "_view_module_version": "1.2.0",
            "_view_name": "LayoutView",
            "align_content": null,
            "align_items": null,
            "align_self": null,
            "border": null,
            "bottom": null,
            "display": null,
            "flex": null,
            "flex_flow": null,
            "grid_area": null,
            "grid_auto_columns": null,
            "grid_auto_flow": null,
            "grid_auto_rows": null,
            "grid_column": null,
            "grid_gap": null,
            "grid_row": null,
            "grid_template_areas": null,
            "grid_template_columns": null,
            "grid_template_rows": null,
            "height": null,
            "justify_content": null,
            "justify_items": null,
            "left": null,
            "margin": null,
            "max_height": null,
            "max_width": null,
            "min_height": null,
            "min_width": null,
            "object_fit": null,
            "object_position": null,
            "order": null,
            "overflow": null,
            "overflow_x": null,
            "overflow_y": null,
            "padding": null,
            "right": null,
            "top": null,
            "visibility": null,
            "width": null
          }
        },
        "56f835cd638a42bfb85fefbbd9e25ad2": {
          "model_module": "@jupyter-widgets/base",
          "model_name": "LayoutModel",
          "model_module_version": "1.2.0",
          "state": {
            "_model_module": "@jupyter-widgets/base",
            "_model_module_version": "1.2.0",
            "_model_name": "LayoutModel",
            "_view_count": null,
            "_view_module": "@jupyter-widgets/base",
            "_view_module_version": "1.2.0",
            "_view_name": "LayoutView",
            "align_content": null,
            "align_items": null,
            "align_self": null,
            "border": null,
            "bottom": null,
            "display": null,
            "flex": null,
            "flex_flow": null,
            "grid_area": null,
            "grid_auto_columns": null,
            "grid_auto_flow": null,
            "grid_auto_rows": null,
            "grid_column": null,
            "grid_gap": null,
            "grid_row": null,
            "grid_template_areas": null,
            "grid_template_columns": null,
            "grid_template_rows": null,
            "height": null,
            "justify_content": null,
            "justify_items": null,
            "left": null,
            "margin": null,
            "max_height": null,
            "max_width": null,
            "min_height": null,
            "min_width": null,
            "object_fit": null,
            "object_position": null,
            "order": null,
            "overflow": null,
            "overflow_x": null,
            "overflow_y": null,
            "padding": null,
            "right": null,
            "top": null,
            "visibility": null,
            "width": null
          }
        },
        "29ea4c906313403eb78ab60e244d753e": {
          "model_module": "@jupyter-widgets/controls",
          "model_name": "DescriptionStyleModel",
          "model_module_version": "1.5.0",
          "state": {
            "_model_module": "@jupyter-widgets/controls",
            "_model_module_version": "1.5.0",
            "_model_name": "DescriptionStyleModel",
            "_view_count": null,
            "_view_module": "@jupyter-widgets/base",
            "_view_module_version": "1.2.0",
            "_view_name": "StyleView",
            "description_width": ""
          }
        },
        "4396636e5f25473facee2de5aac9a0a7": {
          "model_module": "@jupyter-widgets/base",
          "model_name": "LayoutModel",
          "model_module_version": "1.2.0",
          "state": {
            "_model_module": "@jupyter-widgets/base",
            "_model_module_version": "1.2.0",
            "_model_name": "LayoutModel",
            "_view_count": null,
            "_view_module": "@jupyter-widgets/base",
            "_view_module_version": "1.2.0",
            "_view_name": "LayoutView",
            "align_content": null,
            "align_items": null,
            "align_self": null,
            "border": null,
            "bottom": null,
            "display": null,
            "flex": null,
            "flex_flow": null,
            "grid_area": null,
            "grid_auto_columns": null,
            "grid_auto_flow": null,
            "grid_auto_rows": null,
            "grid_column": null,
            "grid_gap": null,
            "grid_row": null,
            "grid_template_areas": null,
            "grid_template_columns": null,
            "grid_template_rows": null,
            "height": null,
            "justify_content": null,
            "justify_items": null,
            "left": null,
            "margin": null,
            "max_height": null,
            "max_width": null,
            "min_height": null,
            "min_width": null,
            "object_fit": null,
            "object_position": null,
            "order": null,
            "overflow": null,
            "overflow_x": null,
            "overflow_y": null,
            "padding": null,
            "right": null,
            "top": null,
            "visibility": null,
            "width": null
          }
        },
        "aaf15b1ad7364b6fb82dd26042d3b9d6": {
          "model_module": "@jupyter-widgets/controls",
          "model_name": "ProgressStyleModel",
          "model_module_version": "1.5.0",
          "state": {
            "_model_module": "@jupyter-widgets/controls",
            "_model_module_version": "1.5.0",
            "_model_name": "ProgressStyleModel",
            "_view_count": null,
            "_view_module": "@jupyter-widgets/base",
            "_view_module_version": "1.2.0",
            "_view_name": "StyleView",
            "bar_color": null,
            "description_width": ""
          }
        },
        "f48f459750674f47a07c5ac7113e9546": {
          "model_module": "@jupyter-widgets/base",
          "model_name": "LayoutModel",
          "model_module_version": "1.2.0",
          "state": {
            "_model_module": "@jupyter-widgets/base",
            "_model_module_version": "1.2.0",
            "_model_name": "LayoutModel",
            "_view_count": null,
            "_view_module": "@jupyter-widgets/base",
            "_view_module_version": "1.2.0",
            "_view_name": "LayoutView",
            "align_content": null,
            "align_items": null,
            "align_self": null,
            "border": null,
            "bottom": null,
            "display": null,
            "flex": null,
            "flex_flow": null,
            "grid_area": null,
            "grid_auto_columns": null,
            "grid_auto_flow": null,
            "grid_auto_rows": null,
            "grid_column": null,
            "grid_gap": null,
            "grid_row": null,
            "grid_template_areas": null,
            "grid_template_columns": null,
            "grid_template_rows": null,
            "height": null,
            "justify_content": null,
            "justify_items": null,
            "left": null,
            "margin": null,
            "max_height": null,
            "max_width": null,
            "min_height": null,
            "min_width": null,
            "object_fit": null,
            "object_position": null,
            "order": null,
            "overflow": null,
            "overflow_x": null,
            "overflow_y": null,
            "padding": null,
            "right": null,
            "top": null,
            "visibility": null,
            "width": null
          }
        },
        "801a4564064d42eebba563154f9abdea": {
          "model_module": "@jupyter-widgets/controls",
          "model_name": "DescriptionStyleModel",
          "model_module_version": "1.5.0",
          "state": {
            "_model_module": "@jupyter-widgets/controls",
            "_model_module_version": "1.5.0",
            "_model_name": "DescriptionStyleModel",
            "_view_count": null,
            "_view_module": "@jupyter-widgets/base",
            "_view_module_version": "1.2.0",
            "_view_name": "StyleView",
            "description_width": ""
          }
        },
        "dfc209a4327c4b04951e18fc972b4f06": {
          "model_module": "@jupyter-widgets/controls",
          "model_name": "HBoxModel",
          "model_module_version": "1.5.0",
          "state": {
            "_dom_classes": [],
            "_model_module": "@jupyter-widgets/controls",
            "_model_module_version": "1.5.0",
            "_model_name": "HBoxModel",
            "_view_count": null,
            "_view_module": "@jupyter-widgets/controls",
            "_view_module_version": "1.5.0",
            "_view_name": "HBoxView",
            "box_style": "",
            "children": [
              "IPY_MODEL_5a269d74365541ee8b2f3522cd8e4db3",
              "IPY_MODEL_c6c414deef5243668f8cf93366cf0e2d",
              "IPY_MODEL_1c134990a9fe4a52ad0a0d70e481ffd0"
            ],
            "layout": "IPY_MODEL_e8e6573000f949c2a42f945e56b929dc"
          }
        },
        "5a269d74365541ee8b2f3522cd8e4db3": {
          "model_module": "@jupyter-widgets/controls",
          "model_name": "HTMLModel",
          "model_module_version": "1.5.0",
          "state": {
            "_dom_classes": [],
            "_model_module": "@jupyter-widgets/controls",
            "_model_module_version": "1.5.0",
            "_model_name": "HTMLModel",
            "_view_count": null,
            "_view_module": "@jupyter-widgets/controls",
            "_view_module_version": "1.5.0",
            "_view_name": "HTMLView",
            "description": "",
            "description_tooltip": null,
            "layout": "IPY_MODEL_2b6bbf772c964d89b772565707d81e7c",
            "placeholder": "​",
            "style": "IPY_MODEL_cd93ba8eedc54432836244a3c8025101",
            "value": ""
          }
        },
        "c6c414deef5243668f8cf93366cf0e2d": {
          "model_module": "@jupyter-widgets/controls",
          "model_name": "FloatProgressModel",
          "model_module_version": "1.5.0",
          "state": {
            "_dom_classes": [],
            "_model_module": "@jupyter-widgets/controls",
            "_model_module_version": "1.5.0",
            "_model_name": "FloatProgressModel",
            "_view_count": null,
            "_view_module": "@jupyter-widgets/controls",
            "_view_module_version": "1.5.0",
            "_view_name": "ProgressView",
            "bar_style": "success",
            "description": "",
            "description_tooltip": null,
            "layout": "IPY_MODEL_730c78fdc1dc4c919a139d0830268fd4",
            "max": 4542,
            "min": 0,
            "orientation": "horizontal",
            "style": "IPY_MODEL_b331d322935d448ca4ac0efa93418a94",
            "value": 4542
          }
        },
        "1c134990a9fe4a52ad0a0d70e481ffd0": {
          "model_module": "@jupyter-widgets/controls",
          "model_name": "HTMLModel",
          "model_module_version": "1.5.0",
          "state": {
            "_dom_classes": [],
            "_model_module": "@jupyter-widgets/controls",
            "_model_module_version": "1.5.0",
            "_model_name": "HTMLModel",
            "_view_count": null,
            "_view_module": "@jupyter-widgets/controls",
            "_view_module_version": "1.5.0",
            "_view_name": "HTMLView",
            "description": "",
            "description_tooltip": null,
            "layout": "IPY_MODEL_f64b523cad854cd6aec384da8d5e8dad",
            "placeholder": "​",
            "style": "IPY_MODEL_fbed49f3cabf49e591cb2875d83016d2",
            "value": " 5120/? [00:00&lt;00:00, 132132.51it/s]"
          }
        },
        "e8e6573000f949c2a42f945e56b929dc": {
          "model_module": "@jupyter-widgets/base",
          "model_name": "LayoutModel",
          "model_module_version": "1.2.0",
          "state": {
            "_model_module": "@jupyter-widgets/base",
            "_model_module_version": "1.2.0",
            "_model_name": "LayoutModel",
            "_view_count": null,
            "_view_module": "@jupyter-widgets/base",
            "_view_module_version": "1.2.0",
            "_view_name": "LayoutView",
            "align_content": null,
            "align_items": null,
            "align_self": null,
            "border": null,
            "bottom": null,
            "display": null,
            "flex": null,
            "flex_flow": null,
            "grid_area": null,
            "grid_auto_columns": null,
            "grid_auto_flow": null,
            "grid_auto_rows": null,
            "grid_column": null,
            "grid_gap": null,
            "grid_row": null,
            "grid_template_areas": null,
            "grid_template_columns": null,
            "grid_template_rows": null,
            "height": null,
            "justify_content": null,
            "justify_items": null,
            "left": null,
            "margin": null,
            "max_height": null,
            "max_width": null,
            "min_height": null,
            "min_width": null,
            "object_fit": null,
            "object_position": null,
            "order": null,
            "overflow": null,
            "overflow_x": null,
            "overflow_y": null,
            "padding": null,
            "right": null,
            "top": null,
            "visibility": null,
            "width": null
          }
        },
        "2b6bbf772c964d89b772565707d81e7c": {
          "model_module": "@jupyter-widgets/base",
          "model_name": "LayoutModel",
          "model_module_version": "1.2.0",
          "state": {
            "_model_module": "@jupyter-widgets/base",
            "_model_module_version": "1.2.0",
            "_model_name": "LayoutModel",
            "_view_count": null,
            "_view_module": "@jupyter-widgets/base",
            "_view_module_version": "1.2.0",
            "_view_name": "LayoutView",
            "align_content": null,
            "align_items": null,
            "align_self": null,
            "border": null,
            "bottom": null,
            "display": null,
            "flex": null,
            "flex_flow": null,
            "grid_area": null,
            "grid_auto_columns": null,
            "grid_auto_flow": null,
            "grid_auto_rows": null,
            "grid_column": null,
            "grid_gap": null,
            "grid_row": null,
            "grid_template_areas": null,
            "grid_template_columns": null,
            "grid_template_rows": null,
            "height": null,
            "justify_content": null,
            "justify_items": null,
            "left": null,
            "margin": null,
            "max_height": null,
            "max_width": null,
            "min_height": null,
            "min_width": null,
            "object_fit": null,
            "object_position": null,
            "order": null,
            "overflow": null,
            "overflow_x": null,
            "overflow_y": null,
            "padding": null,
            "right": null,
            "top": null,
            "visibility": null,
            "width": null
          }
        },
        "cd93ba8eedc54432836244a3c8025101": {
          "model_module": "@jupyter-widgets/controls",
          "model_name": "DescriptionStyleModel",
          "model_module_version": "1.5.0",
          "state": {
            "_model_module": "@jupyter-widgets/controls",
            "_model_module_version": "1.5.0",
            "_model_name": "DescriptionStyleModel",
            "_view_count": null,
            "_view_module": "@jupyter-widgets/base",
            "_view_module_version": "1.2.0",
            "_view_name": "StyleView",
            "description_width": ""
          }
        },
        "730c78fdc1dc4c919a139d0830268fd4": {
          "model_module": "@jupyter-widgets/base",
          "model_name": "LayoutModel",
          "model_module_version": "1.2.0",
          "state": {
            "_model_module": "@jupyter-widgets/base",
            "_model_module_version": "1.2.0",
            "_model_name": "LayoutModel",
            "_view_count": null,
            "_view_module": "@jupyter-widgets/base",
            "_view_module_version": "1.2.0",
            "_view_name": "LayoutView",
            "align_content": null,
            "align_items": null,
            "align_self": null,
            "border": null,
            "bottom": null,
            "display": null,
            "flex": null,
            "flex_flow": null,
            "grid_area": null,
            "grid_auto_columns": null,
            "grid_auto_flow": null,
            "grid_auto_rows": null,
            "grid_column": null,
            "grid_gap": null,
            "grid_row": null,
            "grid_template_areas": null,
            "grid_template_columns": null,
            "grid_template_rows": null,
            "height": null,
            "justify_content": null,
            "justify_items": null,
            "left": null,
            "margin": null,
            "max_height": null,
            "max_width": null,
            "min_height": null,
            "min_width": null,
            "object_fit": null,
            "object_position": null,
            "order": null,
            "overflow": null,
            "overflow_x": null,
            "overflow_y": null,
            "padding": null,
            "right": null,
            "top": null,
            "visibility": null,
            "width": null
          }
        },
        "b331d322935d448ca4ac0efa93418a94": {
          "model_module": "@jupyter-widgets/controls",
          "model_name": "ProgressStyleModel",
          "model_module_version": "1.5.0",
          "state": {
            "_model_module": "@jupyter-widgets/controls",
            "_model_module_version": "1.5.0",
            "_model_name": "ProgressStyleModel",
            "_view_count": null,
            "_view_module": "@jupyter-widgets/base",
            "_view_module_version": "1.2.0",
            "_view_name": "StyleView",
            "bar_color": null,
            "description_width": ""
          }
        },
        "f64b523cad854cd6aec384da8d5e8dad": {
          "model_module": "@jupyter-widgets/base",
          "model_name": "LayoutModel",
          "model_module_version": "1.2.0",
          "state": {
            "_model_module": "@jupyter-widgets/base",
            "_model_module_version": "1.2.0",
            "_model_name": "LayoutModel",
            "_view_count": null,
            "_view_module": "@jupyter-widgets/base",
            "_view_module_version": "1.2.0",
            "_view_name": "LayoutView",
            "align_content": null,
            "align_items": null,
            "align_self": null,
            "border": null,
            "bottom": null,
            "display": null,
            "flex": null,
            "flex_flow": null,
            "grid_area": null,
            "grid_auto_columns": null,
            "grid_auto_flow": null,
            "grid_auto_rows": null,
            "grid_column": null,
            "grid_gap": null,
            "grid_row": null,
            "grid_template_areas": null,
            "grid_template_columns": null,
            "grid_template_rows": null,
            "height": null,
            "justify_content": null,
            "justify_items": null,
            "left": null,
            "margin": null,
            "max_height": null,
            "max_width": null,
            "min_height": null,
            "min_width": null,
            "object_fit": null,
            "object_position": null,
            "order": null,
            "overflow": null,
            "overflow_x": null,
            "overflow_y": null,
            "padding": null,
            "right": null,
            "top": null,
            "visibility": null,
            "width": null
          }
        },
        "fbed49f3cabf49e591cb2875d83016d2": {
          "model_module": "@jupyter-widgets/controls",
          "model_name": "DescriptionStyleModel",
          "model_module_version": "1.5.0",
          "state": {
            "_model_module": "@jupyter-widgets/controls",
            "_model_module_version": "1.5.0",
            "_model_name": "DescriptionStyleModel",
            "_view_count": null,
            "_view_module": "@jupyter-widgets/base",
            "_view_module_version": "1.2.0",
            "_view_name": "StyleView",
            "description_width": ""
          }
        }
      }
    }
  },
  "cells": [
    {
      "cell_type": "markdown",
      "metadata": {
        "id": "view-in-github",
        "colab_type": "text"
      },
      "source": [
        "<a href=\"https://colab.research.google.com/github/ZvoneST/pytorch-labs/blob/master/2_lovro_PyTorch(zadaci).ipynb\" target=\"_parent\"><img src=\"https://colab.research.google.com/assets/colab-badge.svg\" alt=\"Open In Colab\"/></a>"
      ]
    },
    {
      "cell_type": "markdown",
      "metadata": {
        "id": "6YNP_YH_Ee7B"
      },
      "source": [
        "# Neural networks with PyTorch\n",
        "\n",
        "Deep learning networks tend to be massive with dozens or hundreds of layers, that's where the term \"deep\" comes from. You can build one of these deep networks using only weight matrices as we did in the previous notebook, but in general it's very cumbersome and difficult to implement. PyTorch has a nice module `nn` that provides a nice way to efficiently build large neural networks."
      ]
    },
    {
      "cell_type": "markdown",
      "source": [
        "https://alt-f1-software-architecture.readthedocs.io/en/latest/secure_and_private_ai/jupyter-notebook/chap1/Part_1-Tensors_in_PyTorch-Exercises.html#id1"
      ],
      "metadata": {
        "id": "D-AOyTQgh3Gm"
      }
    },
    {
      "cell_type": "code",
      "metadata": {
        "id": "hm6wlkYvEe7I"
      },
      "source": [
        "# Import necessary packages\n",
        "\n",
        "%matplotlib inline\n",
        "%config InlineBackend.figure_format = 'retina'\n",
        "\n",
        "import numpy as np\n",
        "import torch\n",
        "\n",
        "import matplotlib.pyplot as plt"
      ],
      "execution_count": 2,
      "outputs": []
    },
    {
      "cell_type": "code",
      "metadata": {
        "id": "4vovo_J0WIMe"
      },
      "source": [
        "# https://github.com/udacity/deep-learning-v2-pytorch/blob/master/intro-to-pytorch/helper.py\n",
        "def view_classify(img, ps, version=\"MNIST\"):\n",
        "    ''' Function for viewing an image and it's predicted classes.\n",
        "    '''\n",
        "    ps = ps.data.numpy().squeeze()\n",
        "\n",
        "    fig, (ax1, ax2) = plt.subplots(figsize=(6,9), ncols=2)\n",
        "    ax1.imshow(img.resize_(1, 28, 28).numpy().squeeze())\n",
        "    ax1.axis('off')\n",
        "    ax2.barh(np.arange(10), ps)\n",
        "    ax2.set_aspect(0.1)\n",
        "    ax2.set_yticks(np.arange(10))\n",
        "    if version == \"MNIST\":\n",
        "        ax2.set_yticklabels(np.arange(10))\n",
        "    elif version == \"Fashion\":\n",
        "        ax2.set_yticklabels(['T-shirt/top',\n",
        "                            'Trouser',\n",
        "                            'Pullover',\n",
        "                            'Dress',\n",
        "                            'Coat',\n",
        "                            'Sandal',\n",
        "                            'Shirt',\n",
        "                            'Sneaker',\n",
        "                            'Bag',\n",
        "                            'Ankle Boot'], size='small');\n",
        "    ax2.set_title('Class Probability')\n",
        "    ax2.set_xlim(0, 1.1)\n",
        "\n",
        "    plt.tight_layout()"
      ],
      "execution_count": 3,
      "outputs": []
    },
    {
      "cell_type": "markdown",
      "metadata": {
        "id": "UdvvONe6Ee7c"
      },
      "source": [
        "\n",
        "Now we're going to build a larger network that can solve a (formerly) difficult problem, identifying text in an image. Here we'll use the MNIST dataset which consists of greyscale handwritten digits. Each image is 28x28 pixels, you can see a sample below\n",
        "\n",
        "<img src='https://github.com/udacity/deep-learning-v2-pytorch/blob/master/intro-to-pytorch/assets/mnist.png?raw=1'>\n",
        "\n",
        "Our goal is to build a neural network that can take one of these images and predict the digit in the image.\n",
        "\n",
        "First up, we need to get our dataset. This is provided through the `torchvision` package. The code below will download the MNIST dataset, then create training and test datasets for us. Don't worry too much about the details here, you'll learn more about this later."
      ]
    },
    {
      "cell_type": "code",
      "metadata": {
        "id": "rzjwQ3RUEe7f",
        "outputId": "7d5dbe03-efcd-496f-f08d-6292fb719b0f",
        "colab": {
          "base_uri": "https://localhost:8080/",
          "height": 423,
          "referenced_widgets": [
            "32c25bb5f7204933ae6b5fb87fa024b3",
            "babc81fab89b4882927d846a008ec25d",
            "6eab1155751345ca9312121905d7f3ca",
            "e7894182fa404551b3c070f7b531da21",
            "795426d280bb4bebb8663b76251e818d",
            "6120e4760b7d4a9996270dfd3b0795e7",
            "42931f76fd5447dba07ebf5200fc68c8",
            "2149c7fc67974353bb76c1825393c895",
            "7ba289ed941143808ea87068ebd96740",
            "f816343962354d5fa360025fe9d1d84a",
            "9d30c2555cd942e99349016ba8155edf",
            "1c7b5011e0e641729a48fa0265177efa",
            "f8dc16afe05a40b1bcab81fb8e95bb78",
            "879a612933cf47beab032ab182c6a699",
            "86938218f581415c9ddad8c697458ce3",
            "720a919f35014027bfd6c9525690e828",
            "b22d60cf6f654cec8f2c45f3b1371492",
            "8aed6a9b77cf4db6bf20822a9b852460",
            "7937da50088e4e96b4abc0d907d4dbfd",
            "2a8c6843614b434f8afba8fe0ebdb80d",
            "5c5b84c81d584d5581a46fd710b1aa17",
            "3469534b3df14007a783fc9dd69cf4ad",
            "6c2ed0185907411892abb52336a7f39a",
            "abf6e0a5c8594a9d96f4e73d8b079a4f",
            "a50fda00fa16421fa6bdaa185e9bb32f",
            "e3c8b55d92f04b7f80a3029169c77c55",
            "686152992cf344fdb3e08cf0737aaf4d",
            "56f835cd638a42bfb85fefbbd9e25ad2",
            "29ea4c906313403eb78ab60e244d753e",
            "4396636e5f25473facee2de5aac9a0a7",
            "aaf15b1ad7364b6fb82dd26042d3b9d6",
            "f48f459750674f47a07c5ac7113e9546",
            "801a4564064d42eebba563154f9abdea",
            "dfc209a4327c4b04951e18fc972b4f06",
            "5a269d74365541ee8b2f3522cd8e4db3",
            "c6c414deef5243668f8cf93366cf0e2d",
            "1c134990a9fe4a52ad0a0d70e481ffd0",
            "e8e6573000f949c2a42f945e56b929dc",
            "2b6bbf772c964d89b772565707d81e7c",
            "cd93ba8eedc54432836244a3c8025101",
            "730c78fdc1dc4c919a139d0830268fd4",
            "b331d322935d448ca4ac0efa93418a94",
            "f64b523cad854cd6aec384da8d5e8dad",
            "fbed49f3cabf49e591cb2875d83016d2"
          ]
        }
      },
      "source": [
        "### Run this cell\n",
        "\n",
        "from torchvision import datasets, transforms\n",
        "\n",
        "# Define a transform to normalize the data\n",
        "transform = transforms.Compose([transforms.ToTensor(),\n",
        "                              transforms.Normalize((0.5,), (0.5,)),\n",
        "                              ])\n",
        "\n",
        "# Download and load the training data\n",
        "trainset = datasets.MNIST('~/.pytorch/MNIST_data/', download=True, train=True, transform=transform)\n",
        "trainloader = torch.utils.data.DataLoader(trainset, batch_size=64, shuffle=True)"
      ],
      "execution_count": 4,
      "outputs": [
        {
          "output_type": "stream",
          "name": "stdout",
          "text": [
            "Downloading http://yann.lecun.com/exdb/mnist/train-images-idx3-ubyte.gz\n",
            "Downloading http://yann.lecun.com/exdb/mnist/train-images-idx3-ubyte.gz to /root/.pytorch/MNIST_data/MNIST/raw/train-images-idx3-ubyte.gz\n"
          ]
        },
        {
          "output_type": "display_data",
          "data": {
            "text/plain": [
              "  0%|          | 0/9912422 [00:00<?, ?it/s]"
            ],
            "application/vnd.jupyter.widget-view+json": {
              "version_major": 2,
              "version_minor": 0,
              "model_id": "32c25bb5f7204933ae6b5fb87fa024b3"
            }
          },
          "metadata": {}
        },
        {
          "output_type": "stream",
          "name": "stdout",
          "text": [
            "Extracting /root/.pytorch/MNIST_data/MNIST/raw/train-images-idx3-ubyte.gz to /root/.pytorch/MNIST_data/MNIST/raw\n",
            "\n",
            "Downloading http://yann.lecun.com/exdb/mnist/train-labels-idx1-ubyte.gz\n",
            "Downloading http://yann.lecun.com/exdb/mnist/train-labels-idx1-ubyte.gz to /root/.pytorch/MNIST_data/MNIST/raw/train-labels-idx1-ubyte.gz\n"
          ]
        },
        {
          "output_type": "display_data",
          "data": {
            "text/plain": [
              "  0%|          | 0/28881 [00:00<?, ?it/s]"
            ],
            "application/vnd.jupyter.widget-view+json": {
              "version_major": 2,
              "version_minor": 0,
              "model_id": "1c7b5011e0e641729a48fa0265177efa"
            }
          },
          "metadata": {}
        },
        {
          "output_type": "stream",
          "name": "stdout",
          "text": [
            "Extracting /root/.pytorch/MNIST_data/MNIST/raw/train-labels-idx1-ubyte.gz to /root/.pytorch/MNIST_data/MNIST/raw\n",
            "\n",
            "Downloading http://yann.lecun.com/exdb/mnist/t10k-images-idx3-ubyte.gz\n",
            "Downloading http://yann.lecun.com/exdb/mnist/t10k-images-idx3-ubyte.gz to /root/.pytorch/MNIST_data/MNIST/raw/t10k-images-idx3-ubyte.gz\n"
          ]
        },
        {
          "output_type": "display_data",
          "data": {
            "text/plain": [
              "  0%|          | 0/1648877 [00:00<?, ?it/s]"
            ],
            "application/vnd.jupyter.widget-view+json": {
              "version_major": 2,
              "version_minor": 0,
              "model_id": "6c2ed0185907411892abb52336a7f39a"
            }
          },
          "metadata": {}
        },
        {
          "output_type": "stream",
          "name": "stdout",
          "text": [
            "Extracting /root/.pytorch/MNIST_data/MNIST/raw/t10k-images-idx3-ubyte.gz to /root/.pytorch/MNIST_data/MNIST/raw\n",
            "\n",
            "Downloading http://yann.lecun.com/exdb/mnist/t10k-labels-idx1-ubyte.gz\n",
            "Downloading http://yann.lecun.com/exdb/mnist/t10k-labels-idx1-ubyte.gz to /root/.pytorch/MNIST_data/MNIST/raw/t10k-labels-idx1-ubyte.gz\n"
          ]
        },
        {
          "output_type": "display_data",
          "data": {
            "text/plain": [
              "  0%|          | 0/4542 [00:00<?, ?it/s]"
            ],
            "application/vnd.jupyter.widget-view+json": {
              "version_major": 2,
              "version_minor": 0,
              "model_id": "dfc209a4327c4b04951e18fc972b4f06"
            }
          },
          "metadata": {}
        },
        {
          "output_type": "stream",
          "name": "stdout",
          "text": [
            "Extracting /root/.pytorch/MNIST_data/MNIST/raw/t10k-labels-idx1-ubyte.gz to /root/.pytorch/MNIST_data/MNIST/raw\n",
            "\n"
          ]
        }
      ]
    },
    {
      "cell_type": "markdown",
      "metadata": {
        "id": "DTt-sEWMEe7q"
      },
      "source": [
        "We have the training data loaded into `trainloader` and we make that an iterator with `iter(trainloader)`. Later, we'll use this to loop through the dataset for training, like\n",
        "\n",
        "```python\n",
        "for image, label in trainloader:\n",
        "    ## do things with images and labels\n",
        "```\n",
        "\n",
        "You'll notice I created the `trainloader` with a batch size of 64, and `shuffle=True`. The batch size is the number of images we get in one iteration from the data loader and pass through our network, often called a *batch*. And `shuffle=True` tells it to shuffle the dataset every time we start going through the data loader again. But here I'm just grabbing the first batch so we can check out the data. We can see below that `images` is just a tensor with size `(64, 1, 28, 28)`. So, 64 images per batch, 1 color channel, and 28x28 images."
      ]
    },
    {
      "cell_type": "code",
      "metadata": {
        "id": "Ia4eMwp4Ee7v",
        "colab": {
          "base_uri": "https://localhost:8080/"
        },
        "outputId": "a6c4dd95-9fcb-4cb5-d6b8-3c0e5e2ee1a3"
      },
      "source": [
        "dataiter = iter(trainloader)\n",
        "images, labels = dataiter.next()\n",
        "print(type(images))\n",
        "print(images.shape)\n",
        "print(labels.shape)"
      ],
      "execution_count": 5,
      "outputs": [
        {
          "output_type": "stream",
          "name": "stdout",
          "text": [
            "<class 'torch.Tensor'>\n",
            "torch.Size([64, 1, 28, 28])\n",
            "torch.Size([64])\n"
          ]
        }
      ]
    },
    {
      "cell_type": "markdown",
      "metadata": {
        "id": "NqW5zm7QEe75"
      },
      "source": [
        "This is what one of the images looks like. "
      ]
    },
    {
      "cell_type": "code",
      "metadata": {
        "id": "pGag6wUZEe7-",
        "colab": {
          "base_uri": "https://localhost:8080/",
          "height": 265
        },
        "outputId": "395be98f-157b-4700-c506-b6c7da3f36be"
      },
      "source": [
        "plt.imshow(images[1].numpy().squeeze(), cmap='Greys_r');"
      ],
      "execution_count": 6,
      "outputs": [
        {
          "output_type": "display_data",
          "data": {
            "text/plain": [
              "<Figure size 432x288 with 1 Axes>"
            ],
            "image/png": "[encoded data removed]"
          },
          "metadata": {
            "image/png": {
              "width": 251,
              "height": 248
            },
            "needs_background": "light"
          }
        }
      ]
    },
    {
      "cell_type": "markdown",
      "metadata": {
        "id": "ZXrhU9goEe8I"
      },
      "source": [
        "First, let's try to build a simple network for this dataset using weight matrices and matrix multiplications. Then, we'll see how to do it using PyTorch's `nn` module which provides a much more convenient and powerful method for defining network architectures.\n",
        "\n",
        "The networks you've seen so far are called *fully-connected* or *dense* networks. Each unit in one layer is connected to each unit in the next layer. In fully-connected networks, the input to each layer must be a one-dimensional vector (which can be stacked into a 2D tensor as a batch of multiple examples). However, our images are 28x28 2D tensors, so we need to convert them into 1D vectors. Thinking about sizes, we need to convert the batch of images with shape `(64, 1, 28, 28)` to a have a shape of `(64, 784)`, 784 is 28 times 28. This is typically called *flattening*, we flattened the 2D images into 1D vectors.\n",
        "\n",
        "Previously you built a network with one output unit. Here we need 10 output units, one for each digit. We want our network to predict the digit shown in an image, so what we'll do is calculate probabilities that the image is of any one digit or class. This ends up being a discrete probability distribution over the classes (digits) that tells us the most likely class for the image. That means we need 10 output units for the 10 classes (digits). We'll see how to convert the network output into a probability distribution next.\n",
        "\n",
        "> **Exercise:** Flatten the batch of images `images`. Then build a multi-layer network with 784 input units, 256 hidden units, and 10 output units using random tensors for the weights and biases. For now, use a sigmoid activation for the hidden layer. Leave the output layer without an activation, we'll add one that gives us a probability distribution next."
      ]
    },
    {
      "cell_type": "code",
      "metadata": {
        "id": "TZ7inl6qEe8L",
        "colab": {
          "base_uri": "https://localhost:8080/"
        },
        "outputId": "d79e046b-052b-42c3-9ae5-8b734721217f"
      },
      "source": [
        "## Your solution\n",
        "\n",
        "# TODO\n",
        "def activation(x):\n",
        "  # sigmoid\n",
        "  return 1/(1 + torch.exp(-x))\n",
        "\n",
        "# flatten the image\n",
        "# shape (64, 784)\n",
        "inputs = images.view(images.shape[0], -1)\n",
        "\n",
        "# params\n",
        "# TODO\n",
        "w1 = torch.randn(784, 256)\n",
        "b1 = torch.randn(256)\n",
        "\n",
        "w2 = torch.randn(256, 10)\n",
        "b2 = torch.randn(10)\n",
        "\n",
        "h = activation(torch.mm(inputs, w1) + b1)\n",
        "out = activation(torch.mm(h, w2) + b2)\n",
        "# output of your network, should have shape (64,10)\n",
        "out"
      ],
      "execution_count": 7,
      "outputs": [
        {
          "output_type": "execute_result",
          "data": {
            "text/plain": [
              "tensor([[1.0000e+00, 1.0000e+00, 9.9991e-01, 2.9284e-03, 1.1651e-09, 9.9873e-01,\n",
              "         9.9997e-01, 3.0364e-04, 2.1248e-03, 9.9774e-01],\n",
              "        [1.0000e+00, 9.9998e-01, 4.9293e-01, 5.1100e-10, 1.2787e-01, 9.9978e-01,\n",
              "         9.8483e-01, 2.2905e-05, 2.8809e-02, 9.7795e-01],\n",
              "        [1.0000e+00, 9.9995e-01, 1.9197e-01, 3.9734e-06, 4.1711e-07, 9.9996e-01,\n",
              "         9.9999e-01, 9.1484e-04, 2.5497e-04, 1.1155e-02],\n",
              "        [1.0000e+00, 9.9999e-01, 3.6584e-02, 2.2371e-06, 1.2203e-03, 9.9996e-01,\n",
              "         9.9968e-01, 6.0080e-02, 4.6359e-04, 2.0191e-01],\n",
              "        [1.0000e+00, 9.9876e-01, 3.0792e-02, 9.7367e-06, 3.0375e-06, 9.9992e-01,\n",
              "         1.0000e+00, 1.7345e-02, 1.3193e-01, 8.7970e-01],\n",
              "        [1.0000e+00, 9.9997e-01, 2.6555e-03, 3.1663e-05, 2.9763e-04, 9.9996e-01,\n",
              "         7.3710e-03, 3.8507e-01, 2.1244e-07, 1.2612e-02],\n",
              "        [1.0000e+00, 1.0000e+00, 8.2117e-04, 1.2880e-05, 7.5721e-05, 9.9999e-01,\n",
              "         9.9911e-01, 7.2773e-05, 4.6354e-09, 9.8257e-01],\n",
              "        [1.0000e+00, 9.9997e-01, 7.6655e-03, 2.9554e-04, 2.4271e-05, 9.0774e-01,\n",
              "         9.5076e-01, 2.9262e-02, 2.0173e-04, 1.1650e-01],\n",
              "        [1.0000e+00, 1.0000e+00, 1.5701e-02, 2.6733e-07, 1.3494e-03, 9.9977e-01,\n",
              "         9.9284e-01, 3.3832e-02, 1.0283e-05, 9.9114e-02],\n",
              "        [1.0000e+00, 9.9991e-01, 8.4122e-01, 1.0247e-04, 2.1091e-03, 9.8942e-01,\n",
              "         5.8762e-02, 1.0000e+00, 3.4487e-04, 9.9881e-01],\n",
              "        [1.0000e+00, 1.0000e+00, 1.6210e-01, 2.1471e-05, 7.7400e-10, 9.9812e-01,\n",
              "         3.3926e-04, 9.9999e-01, 1.2360e-03, 9.9912e-01],\n",
              "        [1.0000e+00, 9.9999e-01, 7.1947e-01, 1.6915e-06, 2.0457e-04, 2.1040e-01,\n",
              "         9.9360e-01, 4.3002e-01, 6.5822e-05, 9.9994e-01],\n",
              "        [1.0000e+00, 9.9979e-01, 1.1478e-02, 3.1668e-04, 1.7697e-04, 9.9997e-01,\n",
              "         4.0743e-01, 9.6692e-03, 4.9137e-07, 5.7306e-02],\n",
              "        [1.0000e+00, 1.0000e+00, 9.9696e-01, 2.1100e-04, 7.6922e-07, 1.0000e+00,\n",
              "         1.0000e+00, 5.0245e-04, 1.2924e-09, 9.9944e-01],\n",
              "        [1.0000e+00, 1.0000e+00, 9.3465e-01, 4.0201e-02, 5.4207e-04, 4.7592e-01,\n",
              "         9.9128e-01, 9.9998e-01, 1.0299e-02, 2.2456e-01],\n",
              "        [1.0000e+00, 9.6882e-01, 6.3290e-03, 7.7429e-07, 9.9974e-01, 9.9662e-01,\n",
              "         9.9895e-01, 5.4224e-01, 2.5077e-02, 7.7599e-01],\n",
              "        [1.0000e+00, 1.0000e+00, 4.0730e-01, 2.3662e-05, 6.2862e-03, 9.9918e-01,\n",
              "         1.5400e-01, 9.5457e-03, 1.7102e-06, 7.2067e-01],\n",
              "        [1.0000e+00, 1.0000e+00, 9.6765e-01, 5.0819e-10, 3.7978e-06, 1.0000e+00,\n",
              "         9.9996e-01, 9.6285e-01, 1.1953e-04, 7.7375e-01],\n",
              "        [1.0000e+00, 1.0000e+00, 9.8797e-01, 2.8888e-10, 7.9153e-07, 1.0000e+00,\n",
              "         1.0000e+00, 9.9732e-01, 9.2719e-04, 6.9446e-01],\n",
              "        [1.0000e+00, 9.9982e-01, 9.3731e-01, 1.4373e-07, 6.0950e-04, 9.9594e-01,\n",
              "         9.8897e-01, 8.8100e-01, 5.2742e-06, 9.9987e-01],\n",
              "        [1.0000e+00, 1.0000e+00, 7.2602e-04, 5.1891e-09, 4.3092e-05, 9.9999e-01,\n",
              "         9.8746e-01, 7.1277e-01, 1.1223e-01, 9.5040e-01],\n",
              "        [9.9999e-01, 1.0000e+00, 5.2477e-06, 2.6070e-13, 1.2135e-01, 9.9346e-01,\n",
              "         1.0077e-01, 9.7473e-01, 6.1672e-03, 3.5000e-01],\n",
              "        [1.0000e+00, 9.9995e-01, 6.8122e-03, 2.0545e-07, 1.4697e-05, 9.9999e-01,\n",
              "         9.9285e-01, 9.5946e-01, 2.0018e-06, 8.3403e-04],\n",
              "        [1.0000e+00, 1.0000e+00, 1.7283e-02, 1.1556e-08, 5.8629e-06, 1.0000e+00,\n",
              "         6.1928e-01, 2.7639e-02, 1.3501e-05, 9.9974e-01],\n",
              "        [1.0000e+00, 1.0000e+00, 4.4065e-02, 5.2240e-09, 1.6602e-04, 9.9730e-01,\n",
              "         9.2579e-01, 9.4407e-01, 1.8130e-08, 4.2822e-01],\n",
              "        [1.0000e+00, 1.0000e+00, 9.3716e-02, 6.1223e-05, 1.4695e-05, 9.9905e-01,\n",
              "         9.9973e-01, 9.5103e-01, 5.3267e-05, 1.7642e-01],\n",
              "        [1.0000e+00, 9.9998e-01, 1.5270e-01, 5.0771e-05, 1.6042e-05, 9.9549e-01,\n",
              "         9.9681e-01, 8.2930e-01, 1.7491e-07, 2.0211e-02],\n",
              "        [1.0000e+00, 1.0000e+00, 9.9999e-01, 2.8617e-12, 1.0819e-06, 1.0000e+00,\n",
              "         9.9997e-01, 9.5234e-01, 4.5342e-03, 2.0625e-01],\n",
              "        [1.0000e+00, 1.0000e+00, 9.9989e-01, 1.9112e-03, 2.1601e-09, 1.0000e+00,\n",
              "         9.9997e-01, 1.3498e-01, 7.9031e-06, 9.9996e-01],\n",
              "        [1.0000e+00, 9.9991e-01, 1.0456e-02, 5.8168e-11, 5.1261e-03, 1.0000e+00,\n",
              "         9.8324e-01, 7.6150e-01, 1.9862e-07, 5.8140e-01],\n",
              "        [1.0000e+00, 1.0000e+00, 7.3231e-01, 7.8717e-05, 4.8619e-01, 1.0000e+00,\n",
              "         2.3561e-02, 5.2575e-01, 4.7615e-05, 9.9891e-01],\n",
              "        [1.0000e+00, 1.0000e+00, 3.2354e-01, 5.2032e-08, 9.6164e-04, 1.0000e+00,\n",
              "         9.9943e-01, 1.4622e-04, 5.6527e-05, 1.0000e+00],\n",
              "        [1.0000e+00, 1.0000e+00, 5.0186e-01, 1.6587e-05, 6.3922e-03, 9.9996e-01,\n",
              "         8.0983e-01, 7.9338e-01, 1.1769e-04, 2.7850e-03],\n",
              "        [1.0000e+00, 1.0000e+00, 3.3060e-06, 2.8519e-06, 2.5209e-02, 9.9990e-01,\n",
              "         1.4635e-02, 7.5282e-01, 1.3773e-02, 9.9993e-01],\n",
              "        [1.0000e+00, 1.0000e+00, 1.6555e-02, 1.6534e-06, 1.2119e-03, 9.9501e-01,\n",
              "         4.4374e-01, 1.5064e-01, 2.0779e-02, 9.3890e-04],\n",
              "        [1.0000e+00, 9.9998e-01, 9.2186e-01, 1.0121e-08, 1.5141e-07, 9.9590e-01,\n",
              "         1.0000e+00, 9.9974e-01, 7.4805e-06, 7.4939e-01],\n",
              "        [1.0000e+00, 1.0000e+00, 2.3736e-02, 5.5717e-03, 2.3118e-03, 9.9982e-01,\n",
              "         9.9999e-01, 9.4676e-01, 6.2082e-05, 9.9060e-01],\n",
              "        [1.0000e+00, 9.9995e-01, 3.1449e-04, 5.4534e-03, 5.1940e-04, 9.9923e-01,\n",
              "         9.8202e-01, 9.9962e-01, 1.0886e-03, 9.8449e-01],\n",
              "        [1.0000e+00, 1.0000e+00, 4.5686e-01, 6.3502e-10, 4.7532e-07, 9.9970e-01,\n",
              "         9.9970e-01, 9.9883e-01, 3.8743e-07, 9.9998e-01],\n",
              "        [1.0000e+00, 1.0000e+00, 9.9182e-01, 1.4441e-04, 2.6762e-05, 9.9898e-01,\n",
              "         9.9893e-01, 1.2240e-01, 1.1454e-06, 1.2923e-01],\n",
              "        [1.0000e+00, 9.9999e-01, 9.9814e-01, 9.9597e-10, 7.7647e-06, 9.9997e-01,\n",
              "         9.8999e-01, 4.5811e-04, 1.0513e-04, 7.1148e-01],\n",
              "        [1.0000e+00, 9.9924e-01, 1.0712e-02, 1.6859e-04, 2.4845e-05, 9.9485e-01,\n",
              "         9.9998e-01, 4.8932e-01, 1.0637e-06, 3.6020e-02],\n",
              "        [1.0000e+00, 1.0000e+00, 9.4561e-01, 1.2463e-07, 2.1423e-05, 9.4376e-01,\n",
              "         1.0000e+00, 9.9990e-01, 1.0823e-11, 9.9997e-01],\n",
              "        [1.0000e+00, 1.0000e+00, 3.1221e-04, 8.8855e-01, 4.0165e-03, 9.8735e-01,\n",
              "         9.9999e-01, 4.7392e-02, 2.5490e-05, 6.2854e-01],\n",
              "        [9.9973e-01, 1.0000e+00, 9.6153e-01, 8.8681e-09, 1.1405e-08, 9.9908e-01,\n",
              "         9.9687e-01, 1.3872e-03, 5.8450e-03, 1.4504e-01],\n",
              "        [1.0000e+00, 1.0000e+00, 1.1671e-01, 2.5044e-08, 4.3651e-09, 6.7871e-01,\n",
              "         9.9360e-01, 1.3617e-01, 1.3290e-06, 8.4963e-01],\n",
              "        [1.0000e+00, 1.0000e+00, 3.4903e-02, 7.0367e-05, 6.8781e-07, 9.9506e-01,\n",
              "         9.9930e-01, 4.5657e-02, 2.3071e-05, 9.8701e-01],\n",
              "        [1.0000e+00, 1.0000e+00, 6.4270e-03, 1.2229e-01, 4.8884e-06, 1.0000e+00,\n",
              "         5.5849e-06, 8.9622e-01, 7.4860e-08, 9.9996e-01],\n",
              "        [1.0000e+00, 1.0000e+00, 9.9520e-01, 5.2258e-09, 6.3487e-03, 9.9995e-01,\n",
              "         9.9998e-01, 4.1606e-01, 4.2747e-04, 2.3233e-01],\n",
              "        [1.0000e+00, 9.9996e-01, 9.8249e-01, 2.7740e-08, 2.3181e-05, 1.0000e+00,\n",
              "         9.9984e-01, 9.3971e-01, 1.5528e-04, 1.5467e-01],\n",
              "        [1.0000e+00, 1.0000e+00, 2.6149e-01, 5.4166e-06, 3.4565e-06, 9.9999e-01,\n",
              "         9.9980e-01, 9.6214e-01, 7.9687e-07, 9.0155e-01],\n",
              "        [1.0000e+00, 1.0000e+00, 3.9517e-03, 8.9272e-04, 1.6764e-04, 1.3468e-01,\n",
              "         9.1977e-01, 9.7877e-01, 4.9331e-05, 3.6068e-03],\n",
              "        [1.0000e+00, 1.0000e+00, 9.9756e-01, 1.8601e-08, 5.3504e-05, 9.9999e-01,\n",
              "         9.9732e-01, 1.8244e-02, 3.2128e-04, 1.6414e-02],\n",
              "        [9.9999e-01, 9.9984e-01, 2.0621e-03, 2.1438e-09, 1.4856e-04, 9.9999e-01,\n",
              "         9.9721e-01, 9.7635e-01, 1.1992e-02, 9.4084e-01],\n",
              "        [1.0000e+00, 1.0000e+00, 9.6590e-01, 5.6355e-06, 1.5813e-08, 9.9977e-01,\n",
              "         1.0000e+00, 9.9928e-01, 1.2599e-06, 9.8753e-01],\n",
              "        [1.0000e+00, 1.0000e+00, 7.4646e-05, 3.6302e-08, 6.0622e-08, 9.9272e-01,\n",
              "         9.9739e-01, 1.0000e+00, 1.9363e-07, 9.7487e-01],\n",
              "        [1.0000e+00, 9.9999e-01, 5.9278e-04, 5.5332e-06, 8.9199e-01, 9.9970e-01,\n",
              "         9.3883e-01, 9.9977e-01, 1.0886e-03, 8.6226e-01],\n",
              "        [1.0000e+00, 9.9969e-01, 5.6098e-01, 9.7915e-05, 6.3590e-06, 1.7871e-01,\n",
              "         2.5299e-02, 1.1431e-05, 9.5958e-01, 9.9999e-01],\n",
              "        [1.0000e+00, 1.0000e+00, 9.5442e-01, 2.9910e-06, 2.7384e-05, 1.0000e+00,\n",
              "         2.3624e-01, 9.9380e-01, 7.5473e-03, 9.0549e-01],\n",
              "        [1.0000e+00, 1.0000e+00, 1.3906e-02, 9.3718e-07, 4.7212e-03, 7.9464e-01,\n",
              "         9.9852e-01, 1.3510e-01, 2.6015e-07, 1.0000e+00],\n",
              "        [1.0000e+00, 1.0000e+00, 8.9860e-01, 2.7430e-07, 2.5757e-04, 4.7067e-01,\n",
              "         9.9797e-01, 6.2434e-01, 2.0605e-03, 3.7859e-01],\n",
              "        [1.0000e+00, 1.0000e+00, 5.0109e-02, 4.3525e-06, 1.6287e-06, 1.0000e+00,\n",
              "         9.3468e-01, 4.6366e-05, 4.5404e-02, 3.5912e-03],\n",
              "        [1.0000e+00, 9.9998e-01, 1.6837e-02, 1.4526e-02, 5.3598e-11, 9.9989e-01,\n",
              "         9.9997e-01, 9.8912e-01, 3.2134e-04, 2.8284e-02],\n",
              "        [1.0000e+00, 9.9999e-01, 3.6423e-01, 1.0014e-04, 9.6660e-05, 9.9977e-01,\n",
              "         9.9998e-01, 9.0646e-01, 5.5200e-05, 9.9167e-01]])"
            ]
          },
          "metadata": {},
          "execution_count": 7
        }
      ]
    },
    {
      "cell_type": "code",
      "metadata": {
        "id": "e1682zu-qz5h"
      },
      "source": [
        "images.view?"
      ],
      "execution_count": 8,
      "outputs": []
    },
    {
      "cell_type": "code",
      "metadata": {
        "id": "H_3daDNUrAZA",
        "colab": {
          "base_uri": "https://localhost:8080/"
        },
        "outputId": "32a2a3ed-e84e-4cd5-ebe6-d8cce2c0d022"
      },
      "source": [
        "28*28"
      ],
      "execution_count": 9,
      "outputs": [
        {
          "output_type": "execute_result",
          "data": {
            "text/plain": [
              "784"
            ]
          },
          "metadata": {},
          "execution_count": 9
        }
      ]
    },
    {
      "cell_type": "markdown",
      "metadata": {
        "id": "fhGjJBNeEe8T"
      },
      "source": [
        "Now we have 10 outputs for our network. We want to pass in an image to our network and get out a probability distribution over the classes that tells us the likely class(es) the image belongs to. Something that looks like this:\n",
        "<img src='https://github.com/udacity/deep-learning-v2-pytorch/blob/master/intro-to-pytorch/assets/image_distribution.png?raw=1' width=500px>\n",
        "\n",
        "Here we see that the probability for each class is roughly the same. This is representing an untrained network, it hasn't seen any data yet so it just returns a uniform distribution with equal probabilities for each class.\n",
        "\n",
        "To calculate this probability distribution, we often use the [**softmax** function](https://en.wikipedia.org/wiki/Softmax_function). Mathematically this looks like\n",
        "\n",
        "$$\n",
        "\\Large \\sigma(x_i) = \\cfrac{e^{x_i}}{\\sum_k^K{e^{x_k}}}\n",
        "$$\n",
        "\n",
        "What this does is squish each input $x_i$ between 0 and 1 and normalizes the values to give you a proper probability distribution where the probabilites sum up to one.\n",
        "\n",
        "> **Exercise:** Implement a function `softmax` that performs the softmax calculation and returns probability distributions for each example in the batch. Note that you'll need to pay attention to the shapes when doing this. If you have a tensor `a` with shape `(64, 10)` and a tensor `b` with shape `(64,)`, doing `a/b` will give you an error because PyTorch will try to do the division across the columns (called broadcasting) but you'll get a size mismatch. The way to think about this is for each of the 64 examples, you only want to divide by one value, the sum in the denominator. So you need `b` to have a shape of `(64, 1)`. This way PyTorch will divide the 10 values in each row of `a` by the one value in each row of `b`. Pay attention to how you take the sum as well. You'll need to define the `dim` keyword in `torch.sum`. Setting `dim=0` takes the sum across the rows while `dim=1` takes the sum across the columns."
      ]
    },
    {
      "cell_type": "code",
      "metadata": {
        "id": "gsDHvQFXEe8W",
        "colab": {
          "base_uri": "https://localhost:8080/"
        },
        "outputId": "e4bb4263-53d1-4b55-9a01-0b3f7284670c"
      },
      "source": [
        "def softmax(x):\n",
        "    return torch.exp(x) / torch.sum(torch.exp(x), dim=1).view(-1, 1)\n",
        "    ## TODO: Implement the softmax function here\n",
        "\n",
        "\n",
        "# Here, out should be the output of the network in the previous excercise with shape (64,10)\n",
        "probabilities = softmax(out)\n",
        "\n",
        "# Does it have the right shape? Should be (64, 10)\n",
        "print(probabilities.shape)\n",
        "# Does it sum to 1?\n",
        "print(probabilities.sum(dim=1))"
      ],
      "execution_count": 10,
      "outputs": [
        {
          "output_type": "stream",
          "name": "stdout",
          "text": [
            "torch.Size([64, 10])\n",
            "tensor([1.0000, 1.0000, 1.0000, 1.0000, 1.0000, 1.0000, 1.0000, 1.0000, 1.0000,\n",
            "        1.0000, 1.0000, 1.0000, 1.0000, 1.0000, 1.0000, 1.0000, 1.0000, 1.0000,\n",
            "        1.0000, 1.0000, 1.0000, 1.0000, 1.0000, 1.0000, 1.0000, 1.0000, 1.0000,\n",
            "        1.0000, 1.0000, 1.0000, 1.0000, 1.0000, 1.0000, 1.0000, 1.0000, 1.0000,\n",
            "        1.0000, 1.0000, 1.0000, 1.0000, 1.0000, 1.0000, 1.0000, 1.0000, 1.0000,\n",
            "        1.0000, 1.0000, 1.0000, 1.0000, 1.0000, 1.0000, 1.0000, 1.0000, 1.0000,\n",
            "        1.0000, 1.0000, 1.0000, 1.0000, 1.0000, 1.0000, 1.0000, 1.0000, 1.0000,\n",
            "        1.0000])\n"
          ]
        }
      ]
    },
    {
      "cell_type": "markdown",
      "metadata": {
        "id": "k8Jb3pXEEe8h"
      },
      "source": [
        "## Building networks with PyTorch\n",
        "\n",
        "PyTorch provides a module `nn` that makes building networks much simpler. Here I'll show you how to build the same one as above with 784 inputs, 256 hidden units, 10 output units and a softmax output."
      ]
    },
    {
      "cell_type": "code",
      "metadata": {
        "id": "lm2W-iFBEe8j"
      },
      "source": [
        "from torch import nn"
      ],
      "execution_count": 15,
      "outputs": []
    },
    {
      "cell_type": "code",
      "metadata": {
        "id": "Nz4iDEbhEe8t"
      },
      "source": [
        "class Network(nn.Module):\n",
        "    def __init__(self):\n",
        "        super().__init__()\n",
        "        \n",
        "        # Inputs to hidden layer linear transformation\n",
        "        self.hidden = F.Linear(784, 256)\n",
        "        # Output layer, 10 units - one for each digit\n",
        "        self.output = F.Linear(256, 10)\n",
        "        \n",
        "        # Define sigmoid activation and softmax output \n",
        "        self.sigmoid = F.Sigmoid()\n",
        "        self.softmax = F.Softmax(dim=1)\n",
        "        \n",
        "    def forward(self, x):\n",
        "        # Pass the input tensor through each of our operations\n",
        "        x = self.hidden(x)\n",
        "        x = self.sigmoid(x)\n",
        "        x = self.output(x)\n",
        "        x = self.softmax(x)\n",
        "        \n",
        "        return x"
      ],
      "execution_count": 16,
      "outputs": []
    },
    {
      "cell_type": "markdown",
      "metadata": {
        "id": "CUc1YWzJEe83"
      },
      "source": [
        "Let's go through this bit by bit.\n",
        "\n",
        "```python\n",
        "class Network(nn.Module):\n",
        "```\n",
        "\n",
        "Here we're inheriting from `nn.Module`. Combined with `super().__init__()` this creates a class that tracks the architecture and provides a lot of useful methods and attributes. It is mandatory to inherit from `nn.Module` when you're creating a class for your network. The name of the class itself can be anything.\n",
        "\n",
        "```python\n",
        "self.hidden = nn.Linear(784, 256)\n",
        "```\n",
        "\n",
        "This line creates a module for a linear transformation, $x\\mathbf{W} + b$, with 784 inputs and 256 outputs and assigns it to `self.hidden`. The module automatically creates the weight and bias tensors which we'll use in the `forward` method. You can access the weight and bias tensors once the network (`net`) is created with `net.hidden.weight` and `net.hidden.bias`.\n",
        "\n",
        "```python\n",
        "self.output = nn.Linear(256, 10)\n",
        "```\n",
        "\n",
        "Similarly, this creates another linear transformation with 256 inputs and 10 outputs.\n",
        "\n",
        "```python\n",
        "self.sigmoid = nn.Sigmoid()\n",
        "self.softmax = nn.Softmax(dim=1)\n",
        "```\n",
        "\n",
        "Here I defined operations for the sigmoid activation and softmax output. Setting `dim=1` in `nn.Softmax(dim=1)` calculates softmax across the columns.\n",
        "\n",
        "```python\n",
        "def forward(self, x):\n",
        "```\n",
        "\n",
        "PyTorch networks created with `nn.Module` must have a `forward` method defined. It takes in a tensor `x` and passes it through the operations you defined in the `__init__` method.\n",
        "\n",
        "```python\n",
        "x = self.hidden(x)\n",
        "x = self.sigmoid(x)\n",
        "x = self.output(x)\n",
        "x = self.softmax(x)\n",
        "```\n",
        "\n",
        "Here the input tensor `x` is passed through each operation and reassigned to `x`. We can see that the input tensor goes through the hidden layer, then a sigmoid function, then the output layer, and finally the softmax function. It doesn't matter what you name the variables here, as long as the inputs and outputs of the operations match the network architecture you want to build. The order in which you define things in the `__init__` method doesn't matter, but you'll need to sequence the operations correctly in the `forward` method.\n",
        "\n",
        "Now we can create a `Network` object."
      ]
    },
    {
      "cell_type": "code",
      "metadata": {
        "id": "vlchO1pyEe86",
        "outputId": "6ff8eb77-afbf-465e-f190-674e5b71c247",
        "colab": {
          "base_uri": "https://localhost:8080/"
        }
      },
      "source": [
        "# Create the network and look at it's text representation\n",
        "model = Network()\n",
        "model"
      ],
      "execution_count": 13,
      "outputs": [
        {
          "output_type": "execute_result",
          "data": {
            "text/plain": [
              "Network(\n",
              "  (hidden): Linear(in_features=784, out_features=256, bias=True)\n",
              "  (output): Linear(in_features=256, out_features=10, bias=True)\n",
              "  (sigmoid): Sigmoid()\n",
              "  (softmax): Softmax(dim=1)\n",
              ")"
            ]
          },
          "metadata": {},
          "execution_count": 13
        }
      ]
    },
    {
      "cell_type": "markdown",
      "metadata": {
        "id": "-PYAzByWEe9D"
      },
      "source": [
        "You can define the network somewhat more concisely and clearly using the `torch.nn.functional` module. This is the most common way you'll see networks defined as many operations are simple element-wise functions. We normally import this module as `F`, `import torch.nn.functional as F`."
      ]
    },
    {
      "cell_type": "code",
      "metadata": {
        "id": "54nlecqIEe9F"
      },
      "source": [
        "import torch.nn.functional as F\n",
        "\n",
        "class Network(nn.Module):\n",
        "    def __init__(self):\n",
        "        super().__init__()\n",
        "        # Inputs to hidden layer linear transformation\n",
        "        self.hidden = nn.Linear(784, 256)\n",
        "        # Output layer, 10 units - one for each digit\n",
        "        self.output = nn.Linear(256, 10)\n",
        "        \n",
        "    def forward(self, x):\n",
        "        # Hidden layer with sigmoid activation\n",
        "        x = F.sigmoid(self.hidden(x))\n",
        "        # Output layer with softmax activation\n",
        "        x = F.softmax(self.output(x), dim=1)\n",
        "        \n",
        "        return x"
      ],
      "execution_count": 14,
      "outputs": []
    },
    {
      "cell_type": "markdown",
      "metadata": {
        "id": "yQ4qMyTfEe9M"
      },
      "source": [
        "### Activation functions\n",
        "\n",
        "So far we've only been looking at the sigmoid activation function, but in general any function can be used as an activation function. The only requirement is that for a network to approximate a non-linear function, the activation functions must be non-linear. Here are a few more examples of common activation functions: Tanh (hyperbolic tangent), and ReLU (rectified linear unit).\n",
        "\n",
        "<img src=\"https://github.com/udacity/deep-learning-v2-pytorch/blob/master/intro-to-pytorch/assets/activation.png?raw=1\" width=700px>\n",
        "\n",
        "In practice, the ReLU function is used almost exclusively as the activation function for hidden layers."
      ]
    },
    {
      "cell_type": "markdown",
      "metadata": {
        "id": "Q4O380AVEe9P"
      },
      "source": [
        "### Your Turn to Build a Network\n",
        "\n",
        "<img src=\"https://github.com/udacity/deep-learning-v2-pytorch/blob/master/intro-to-pytorch/assets/mlp_mnist.png?raw=1\" width=600px>\n",
        "\n",
        "> **Exercise:** Create a network with 784 input units, a hidden layer with 128 units and a ReLU activation, then a hidden layer with 64 units and a ReLU activation, and finally an output layer with a softmax activation as shown above. You can use a ReLU activation with the `nn.ReLU` module or `F.relu` function.\n",
        "\n",
        "It's good practice to name your layers by their type of network, for instance 'fc' to represent a fully-connected layer. As you code your solution, use `fc1`, `fc2`, and `fc3` as your layer names."
      ]
    },
    {
      "cell_type": "code",
      "metadata": {
        "scrolled": true,
        "id": "MFUB3WXeEe9S",
        "outputId": "1d0d8c65-d5dc-4f79-97aa-6fd7c75f8d83",
        "colab": {
          "base_uri": "https://localhost:8080/"
        }
      },
      "source": [
        "## Your solution here\n",
        "\n",
        "## fc means fully connected\n",
        "class Network(nn.Module):\n",
        "  def __init__(self):\n",
        "    super().__init__()\n",
        "    self.fc1 = nn.Linear(784, 128)\n",
        "    self.fc2 = nn.Linear(128, 64)\n",
        "    self.fc3 = nn.Linear(64, 10)\n",
        "  \n",
        "  def forward(self, x):\n",
        "    x = self.fc1(x)\n",
        "    x = F.relu(x)\n",
        "    x = self.fc2(x)\n",
        "    x = F.relu(x)\n",
        "    x = self.fc3(x)\n",
        "    x = F.softmax(x)\n",
        "\n",
        "    return x\n",
        "\n",
        "model = Network()\n",
        "model\n"
      ],
      "execution_count": 17,
      "outputs": [
        {
          "output_type": "execute_result",
          "data": {
            "text/plain": [
              "Network(\n",
              "  (fc1): Linear(in_features=784, out_features=128, bias=True)\n",
              "  (fc2): Linear(in_features=128, out_features=64, bias=True)\n",
              "  (fc3): Linear(in_features=64, out_features=10, bias=True)\n",
              ")"
            ]
          },
          "metadata": {},
          "execution_count": 17
        }
      ]
    },
    {
      "cell_type": "markdown",
      "metadata": {
        "id": "T0-ApTi2Ee9a"
      },
      "source": [
        "### Initializing weights and biases\n",
        "\n",
        "The weights and such are automatically initialized for you, but it's possible to customize how they are initialized. The weights and biases are tensors attached to the layer you defined, you can get them with `model.fc1.weight` for instance."
      ]
    },
    {
      "cell_type": "code",
      "metadata": {
        "id": "xTQNKrLDEe9d",
        "outputId": "123e9ab9-a64b-4890-c838-4f6db8e578f2",
        "colab": {
          "base_uri": "https://localhost:8080/"
        }
      },
      "source": [
        "print(model.fc1.weight)\n",
        "print(model.fc1.bias)"
      ],
      "execution_count": 18,
      "outputs": [
        {
          "output_type": "stream",
          "name": "stdout",
          "text": [
            "Parameter containing:\n",
            "tensor([[ 0.0341,  0.0190, -0.0353,  ...,  0.0039, -0.0115, -0.0101],\n",
            "        [ 0.0293, -0.0229,  0.0069,  ..., -0.0142, -0.0216, -0.0057],\n",
            "        [ 0.0230,  0.0151,  0.0342,  ..., -0.0127,  0.0306,  0.0145],\n",
            "        ...,\n",
            "        [-0.0352,  0.0336,  0.0031,  ...,  0.0205, -0.0043, -0.0304],\n",
            "        [ 0.0138,  0.0354, -0.0122,  ...,  0.0006, -0.0099, -0.0117],\n",
            "        [ 0.0234,  0.0353,  0.0164,  ..., -0.0083, -0.0083, -0.0207]],\n",
            "       requires_grad=True)\n",
            "Parameter containing:\n",
            "tensor([-3.9272e-03, -1.2951e-02,  3.0896e-02,  2.8710e-02, -1.7173e-02,\n",
            "         1.5521e-02, -9.5689e-03,  2.7324e-04,  2.9944e-02,  2.9975e-02,\n",
            "         7.2178e-03,  1.2040e-02, -2.9060e-02,  4.3916e-03, -1.3262e-02,\n",
            "        -1.1115e-02, -2.2975e-02,  3.0053e-02, -5.9349e-03,  7.6041e-03,\n",
            "        -2.7965e-02, -3.5678e-02, -8.4177e-03,  3.4965e-02,  2.4755e-02,\n",
            "        -1.5994e-02, -2.6008e-02,  2.7190e-02, -7.1038e-03,  1.7689e-02,\n",
            "        -2.7227e-02, -2.3214e-03, -2.7191e-02,  1.2948e-02,  3.1877e-02,\n",
            "         4.7951e-03,  1.7404e-02, -1.3325e-02, -1.9998e-02, -3.9399e-03,\n",
            "        -4.1816e-04,  3.5337e-02, -2.5087e-02,  2.1965e-02, -2.1371e-02,\n",
            "         3.1348e-02, -8.7531e-03,  2.7500e-03,  2.7244e-02,  1.4795e-02,\n",
            "         5.1306e-03, -2.7575e-03, -2.2960e-02, -9.3373e-03,  2.4989e-02,\n",
            "        -2.2375e-02, -8.9759e-03,  3.4133e-03, -1.5144e-02, -9.9242e-05,\n",
            "        -1.1436e-02, -2.8429e-02, -1.6844e-02, -2.2599e-02,  1.1212e-02,\n",
            "        -2.3917e-02,  2.2999e-02,  2.1591e-02,  2.0198e-02, -1.7745e-02,\n",
            "        -1.6800e-02, -2.1765e-02,  2.2070e-02,  3.1218e-02,  1.0421e-02,\n",
            "         2.6891e-02,  2.4648e-02,  2.7838e-02, -3.2630e-02,  2.4816e-02,\n",
            "         2.5294e-02, -8.1311e-03,  7.0831e-03,  2.4356e-02,  2.3070e-02,\n",
            "         3.1527e-02, -1.9980e-02,  2.3670e-02, -2.0071e-02, -2.3940e-02,\n",
            "        -3.3816e-02,  3.4348e-02,  6.2111e-04, -3.0414e-02,  5.7347e-03,\n",
            "        -2.9626e-02,  1.1880e-02, -5.4357e-03,  1.3562e-02, -7.6118e-03,\n",
            "        -1.8623e-02,  7.0926e-03,  6.2340e-03, -1.6431e-02, -1.7564e-02,\n",
            "         1.3709e-02,  3.4115e-02, -1.3403e-02, -6.7262e-03,  3.3492e-02,\n",
            "         2.8050e-02, -2.6284e-02, -2.7976e-02, -9.9137e-04, -5.6416e-03,\n",
            "        -2.0991e-02, -1.9874e-02,  1.5708e-02, -2.8788e-02, -1.7897e-02,\n",
            "         2.6674e-03, -2.7515e-03, -1.2685e-02,  3.5303e-02,  3.9381e-03,\n",
            "         3.1665e-02,  3.2500e-02,  1.4785e-03], requires_grad=True)\n"
          ]
        }
      ]
    },
    {
      "cell_type": "code",
      "metadata": {
        "id": "c-Pdiry43kH7",
        "outputId": "f9c2c87b-d279-48fe-c3ce-c4e285441460",
        "colab": {
          "base_uri": "https://localhost:8080/"
        }
      },
      "source": [
        "model.fc1.weight.shape"
      ],
      "execution_count": 19,
      "outputs": [
        {
          "output_type": "execute_result",
          "data": {
            "text/plain": [
              "torch.Size([128, 784])"
            ]
          },
          "metadata": {},
          "execution_count": 19
        }
      ]
    },
    {
      "cell_type": "code",
      "metadata": {
        "id": "k7H81MQe4Fta",
        "outputId": "c4f1e097-1d37-4abc-fd82-d02ce177dc7d",
        "colab": {
          "base_uri": "https://localhost:8080/"
        }
      },
      "source": [
        "model.fc2.weight.shape"
      ],
      "execution_count": 20,
      "outputs": [
        {
          "output_type": "execute_result",
          "data": {
            "text/plain": [
              "torch.Size([64, 128])"
            ]
          },
          "metadata": {},
          "execution_count": 20
        }
      ]
    },
    {
      "cell_type": "markdown",
      "metadata": {
        "id": "tSWiMqRdEe9l"
      },
      "source": [
        "For custom initialization, we want to modify these tensors in place. These are actually autograd *Variables*, so we need to get back the actual tensors with `model.fc1.weight.data`. Once we have the tensors, we can fill them with zeros (for biases) or random normal values."
      ]
    },
    {
      "cell_type": "code",
      "metadata": {
        "id": "-L6mnBSiEe9n",
        "outputId": "df44e3d9-acea-4d85-fdd9-48287a12b7af",
        "colab": {
          "base_uri": "https://localhost:8080/"
        }
      },
      "source": [
        "# Set biases to all zeros\n",
        "model.fc1.bias.data.fill_(0)"
      ],
      "execution_count": 21,
      "outputs": [
        {
          "output_type": "execute_result",
          "data": {
            "text/plain": [
              "tensor([0., 0., 0., 0., 0., 0., 0., 0., 0., 0., 0., 0., 0., 0., 0., 0., 0., 0., 0., 0., 0., 0., 0., 0.,\n",
              "        0., 0., 0., 0., 0., 0., 0., 0., 0., 0., 0., 0., 0., 0., 0., 0., 0., 0., 0., 0., 0., 0., 0., 0.,\n",
              "        0., 0., 0., 0., 0., 0., 0., 0., 0., 0., 0., 0., 0., 0., 0., 0., 0., 0., 0., 0., 0., 0., 0., 0.,\n",
              "        0., 0., 0., 0., 0., 0., 0., 0., 0., 0., 0., 0., 0., 0., 0., 0., 0., 0., 0., 0., 0., 0., 0., 0.,\n",
              "        0., 0., 0., 0., 0., 0., 0., 0., 0., 0., 0., 0., 0., 0., 0., 0., 0., 0., 0., 0., 0., 0., 0., 0.,\n",
              "        0., 0., 0., 0., 0., 0., 0., 0.])"
            ]
          },
          "metadata": {},
          "execution_count": 21
        }
      ]
    },
    {
      "cell_type": "code",
      "metadata": {
        "id": "vVHCtckHEe9s",
        "outputId": "f707d5be-0363-48a2-e207-b494fdf94b12",
        "colab": {
          "base_uri": "https://localhost:8080/"
        }
      },
      "source": [
        "# sample from random normal with standard dev = 0.01\n",
        "model.fc1.weight.data.normal_(std=0.01)"
      ],
      "execution_count": 22,
      "outputs": [
        {
          "output_type": "execute_result",
          "data": {
            "text/plain": [
              "tensor([[-0.0053, -0.0103, -0.0005,  ...,  0.0099,  0.0020, -0.0062],\n",
              "        [ 0.0055, -0.0132,  0.0039,  ..., -0.0102,  0.0009, -0.0001],\n",
              "        [-0.0111, -0.0092, -0.0111,  ..., -0.0089, -0.0032,  0.0010],\n",
              "        ...,\n",
              "        [-0.0142, -0.0037,  0.0070,  ...,  0.0008,  0.0105,  0.0019],\n",
              "        [-0.0023, -0.0062,  0.0053,  ...,  0.0157, -0.0066, -0.0019],\n",
              "        [-0.0116, -0.0031, -0.0101,  ..., -0.0007,  0.0091,  0.0022]])"
            ]
          },
          "metadata": {},
          "execution_count": 22
        }
      ]
    },
    {
      "cell_type": "markdown",
      "metadata": {
        "id": "fxZRejHIEe90"
      },
      "source": [
        "### Forward pass\n",
        "\n",
        "Now that we have a network, let's see what happens when we pass in an image."
      ]
    },
    {
      "cell_type": "code",
      "metadata": {
        "id": "vyN12FlVEe91",
        "outputId": "0f8bc9e1-c171-42c3-b43e-748d8dfba97a",
        "colab": {
          "base_uri": "https://localhost:8080/",
          "height": 269
        }
      },
      "source": [
        "# Grab some data \n",
        "dataiter = iter(trainloader)\n",
        "images, labels = dataiter.next()\n",
        "\n",
        "# Resize images into a 1D vector, new shape is (batch size, color channels, image pixels) \n",
        "images.resize_(64, 1, 784)\n",
        "# or images.resize_(images.shape[0], 1, 784) to automatically get batch size\n",
        "\n",
        "# Forward pass through the network\n",
        "img_idx = 0\n",
        "ps = model.forward(images[img_idx,:])\n",
        "\n",
        "img = images[img_idx]\n",
        "view_classify(img.view(1, 28, 28), ps)"
      ],
      "execution_count": 23,
      "outputs": [
        {
          "output_type": "stream",
          "name": "stderr",
          "text": [
            "/usr/local/lib/python3.7/dist-packages/ipykernel_launcher.py:17: UserWarning: Implicit dimension choice for softmax has been deprecated. Change the call to include dim=X as an argument.\n"
          ]
        },
        {
          "output_type": "display_data",
          "data": {
            "text/plain": [
              "<Figure size 432x648 with 2 Axes>"
            ],
            "image/png": "[encoded data removed]"
          },
          "metadata": {
            "image/png": {
              "width": 424,
              "height": 235
            },
            "needs_background": "light"
          }
        }
      ]
    },
    {
      "cell_type": "markdown",
      "metadata": {
        "id": "OJysniZqEe97"
      },
      "source": [
        "As you can see above, our network has basically no idea what this digit is. It's because we haven't trained it yet, all the weights are random!\n",
        "\n",
        "### Using `nn.Sequential`\n",
        "\n",
        "PyTorch provides a convenient way to build networks like this where a tensor is passed sequentially through operations, `nn.Sequential` ([documentation](https://pytorch.org/docs/master/nn.html#torch.nn.Sequential)). Using this to build the equivalent network:"
      ]
    },
    {
      "cell_type": "code",
      "metadata": {
        "id": "X2z_7gQLEe99",
        "outputId": "d0e43f1f-cbc1-45be-b750-05263405ef6f",
        "colab": {
          "base_uri": "https://localhost:8080/",
          "height": 391
        }
      },
      "source": [
        "# Hyperparameters for our network\n",
        "input_size = 784\n",
        "hidden_sizes = [128, 64]\n",
        "output_size = 10\n",
        "\n",
        "# Build a feed-forward network\n",
        "model = nn.Sequential(nn.Linear(input_size, hidden_sizes[0]),\n",
        "                      nn.ReLU(),\n",
        "                      nn.Linear(hidden_sizes[0], hidden_sizes[1]),\n",
        "                      nn.ReLU(),\n",
        "                      nn.Linear(hidden_sizes[1], output_size),\n",
        "                      nn.Softmax(dim=1))\n",
        "print(model)\n",
        "\n",
        "# Forward pass through the network and display output\n",
        "images, labels = next(iter(trainloader))\n",
        "images.resize_(images.shape[0], 1, 784)\n",
        "ps = model.forward(images[0,:])\n",
        "view_classify(images[0].view(1, 28, 28), ps)"
      ],
      "execution_count": 25,
      "outputs": [
        {
          "output_type": "stream",
          "name": "stdout",
          "text": [
            "Sequential(\n",
            "  (0): Linear(in_features=784, out_features=128, bias=True)\n",
            "  (1): ReLU()\n",
            "  (2): Linear(in_features=128, out_features=64, bias=True)\n",
            "  (3): ReLU()\n",
            "  (4): Linear(in_features=64, out_features=10, bias=True)\n",
            "  (5): Softmax(dim=1)\n",
            ")\n"
          ]
        },
        {
          "output_type": "display_data",
          "data": {
            "text/plain": [
              "<Figure size 432x648 with 2 Axes>"
            ],
            "image/png": "[encoded data removed]"
          },
          "metadata": {
            "image/png": {
              "width": 424,
              "height": 235
            },
            "needs_background": "light"
          }
        }
      ]
    },
    {
      "cell_type": "markdown",
      "metadata": {
        "id": "HLprn_JdEe-E"
      },
      "source": [
        "Here our model is the same as before: 784 input units, a hidden layer with 128 units, ReLU activation, 64 unit hidden layer, another ReLU, then the output layer with 10 units, and the softmax output.\n",
        "\n",
        "The operations are available by passing in the appropriate index. For example, if you want to get first Linear operation and look at the weights, you'd use `model[0]`."
      ]
    },
    {
      "cell_type": "code",
      "metadata": {
        "id": "n_jjZnNqEe-F",
        "outputId": "5218b5cd-a5b4-4aa3-b580-79be50292d4a",
        "colab": {
          "base_uri": "https://localhost:8080/"
        }
      },
      "source": [
        "print(model[0])\n",
        "model[0].weight"
      ],
      "execution_count": 26,
      "outputs": [
        {
          "output_type": "stream",
          "name": "stdout",
          "text": [
            "Linear(in_features=784, out_features=128, bias=True)\n"
          ]
        },
        {
          "output_type": "execute_result",
          "data": {
            "text/plain": [
              "Parameter containing:\n",
              "tensor([[-0.0066, -0.0262,  0.0038,  ...,  0.0249, -0.0064,  0.0149],\n",
              "        [ 0.0092, -0.0181,  0.0263,  ..., -0.0304,  0.0116,  0.0052],\n",
              "        [-0.0279,  0.0083,  0.0160,  ..., -0.0024, -0.0008, -0.0288],\n",
              "        ...,\n",
              "        [ 0.0275,  0.0329,  0.0115,  ...,  0.0309, -0.0110, -0.0269],\n",
              "        [-0.0175,  0.0132,  0.0308,  ...,  0.0196,  0.0031,  0.0011],\n",
              "        [ 0.0190, -0.0076, -0.0322,  ...,  0.0066, -0.0112, -0.0067]],\n",
              "       requires_grad=True)"
            ]
          },
          "metadata": {},
          "execution_count": 26
        }
      ]
    },
    {
      "cell_type": "markdown",
      "metadata": {
        "id": "d7R_SDiwEe-M"
      },
      "source": [
        "You can also pass in an `OrderedDict` to name the individual layers and operations, instead of using incremental integers. Note that dictionary keys must be unique, so _each operation must have a different name_."
      ]
    },
    {
      "cell_type": "code",
      "metadata": {
        "id": "nmxOz-mcEe-O",
        "outputId": "efbe595c-c6cc-4397-8324-928e585c76dd",
        "colab": {
          "base_uri": "https://localhost:8080/"
        }
      },
      "source": [
        "from collections import OrderedDict\n",
        "model = nn.Sequential(OrderedDict([\n",
        "                      ('fc1', nn.Linear(input_size, hidden_sizes[0])),\n",
        "                      ('relu1', nn.ReLU()),\n",
        "                      ('fc2', nn.Linear(hidden_sizes[0], hidden_sizes[1])),\n",
        "                      ('relu2', nn.ReLU()),\n",
        "                      ('output', nn.Linear(hidden_sizes[1], output_size)),\n",
        "                      ('softmax', nn.Softmax(dim=1))]))\n",
        "model"
      ],
      "execution_count": 27,
      "outputs": [
        {
          "output_type": "execute_result",
          "data": {
            "text/plain": [
              "Sequential(\n",
              "  (fc1): Linear(in_features=784, out_features=128, bias=True)\n",
              "  (relu1): ReLU()\n",
              "  (fc2): Linear(in_features=128, out_features=64, bias=True)\n",
              "  (relu2): ReLU()\n",
              "  (output): Linear(in_features=64, out_features=10, bias=True)\n",
              "  (softmax): Softmax(dim=1)\n",
              ")"
            ]
          },
          "metadata": {},
          "execution_count": 27
        }
      ]
    },
    {
      "cell_type": "markdown",
      "metadata": {
        "id": "PnGCLRYTEe-T"
      },
      "source": [
        "Now you can access layers either by integer or the name"
      ]
    },
    {
      "cell_type": "code",
      "metadata": {
        "id": "goPIHnd6Ee-U",
        "outputId": "630a93f6-1e6a-445f-ba36-d2840a94c4ae",
        "colab": {
          "base_uri": "https://localhost:8080/"
        }
      },
      "source": [
        "print(model[0])\n",
        "print(model.fc1)"
      ],
      "execution_count": 28,
      "outputs": [
        {
          "output_type": "stream",
          "name": "stdout",
          "text": [
            "Linear(in_features=784, out_features=128, bias=True)\n",
            "Linear(in_features=784, out_features=128, bias=True)\n"
          ]
        }
      ]
    },
    {
      "cell_type": "markdown",
      "metadata": {
        "id": "TNrkfoDjEe-Z"
      },
      "source": [
        "In the next notebook, we'll see how we can train a neural network to accuractly predict the numbers appearing in the MNIST images."
      ]
    }
  ]
}