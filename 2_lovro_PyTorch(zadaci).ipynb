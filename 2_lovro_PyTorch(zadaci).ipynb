{
  "nbformat": 4,
  "nbformat_minor": 0,
  "metadata": {
    "kernelspec": {
      "name": "python3",
      "display_name": "Python 3"
    },
    "language_info": {
      "codemirror_mode": {
        "name": "ipython",
        "version": 3
      },
      "file_extension": ".py",
      "mimetype": "text/x-python",
      "name": "python",
      "nbconvert_exporter": "python",
      "pygments_lexer": "ipython3",
      "version": "3.6.4"
    },
    "colab": {
      "name": "lovro - PyTorch(zadaci).ipynb",
      "provenance": [],
      "collapsed_sections": [],
      "include_colab_link": true
    },
    "accelerator": "GPU"
  },
  "cells": [
    {
      "cell_type": "markdown",
      "metadata": {
        "id": "view-in-github",
        "colab_type": "text"
      },
      "source": [
        "<a href=\"https://colab.research.google.com/github/ZvoneST/pytorch-labs/blob/master/2_lovro_PyTorch(zadaci).ipynb\" target=\"_parent\"><img src=\"https://colab.research.google.com/assets/colab-badge.svg\" alt=\"Open In Colab\"/></a>"
      ]
    },
    {
      "cell_type": "markdown",
      "metadata": {
        "id": "6YNP_YH_Ee7B"
      },
      "source": [
        "# Neural networks with PyTorch\n",
        "\n",
        "Deep learning networks tend to be massive with dozens or hundreds of layers, that's where the term \"deep\" comes from. You can build one of these deep networks using only weight matrices as we did in the previous notebook, but in general it's very cumbersome and difficult to implement. PyTorch has a nice module `nn` that provides a nice way to efficiently build large neural networks."
      ]
    },
    {
      "cell_type": "markdown",
      "source": [
        "https://alt-f1-software-architecture.readthedocs.io/en/latest/secure_and_private_ai/jupyter-notebook/chap1/Part_1-Tensors_in_PyTorch-Exercises.html#id1"
      ],
      "metadata": {
        "id": "D-AOyTQgh3Gm"
      }
    },
    {
      "cell_type": "code",
      "metadata": {
        "id": "hm6wlkYvEe7I"
      },
      "source": [
        "# Import necessary packages\n",
        "\n",
        "%matplotlib inline\n",
        "%config InlineBackend.figure_format = 'retina'\n",
        "\n",
        "import numpy as np\n",
        "import torch\n",
        "\n",
        "import matplotlib.pyplot as plt"
      ],
      "execution_count": 2,
      "outputs": []
    },
    {
      "cell_type": "code",
      "metadata": {
        "id": "4vovo_J0WIMe"
      },
      "source": [
        "# https://github.com/udacity/deep-learning-v2-pytorch/blob/master/intro-to-pytorch/helper.py\n",
        "def view_classify(img, ps, version=\"MNIST\"):\n",
        "    ''' Function for viewing an image and it's predicted classes.\n",
        "    '''\n",
        "    ps = ps.data.numpy().squeeze()\n",
        "\n",
        "    fig, (ax1, ax2) = plt.subplots(figsize=(6,9), ncols=2)\n",
        "    ax1.imshow(img.resize_(1, 28, 28).numpy().squeeze())\n",
        "    ax1.axis('off')\n",
        "    ax2.barh(np.arange(10), ps)\n",
        "    ax2.set_aspect(0.1)\n",
        "    ax2.set_yticks(np.arange(10))\n",
        "    if version == \"MNIST\":\n",
        "        ax2.set_yticklabels(np.arange(10))\n",
        "    elif version == \"Fashion\":\n",
        "        ax2.set_yticklabels(['T-shirt/top',\n",
        "                            'Trouser',\n",
        "                            'Pullover',\n",
        "                            'Dress',\n",
        "                            'Coat',\n",
        "                            'Sandal',\n",
        "                            'Shirt',\n",
        "                            'Sneaker',\n",
        "                            'Bag',\n",
        "                            'Ankle Boot'], size='small');\n",
        "    ax2.set_title('Class Probability')\n",
        "    ax2.set_xlim(0, 1.1)\n",
        "\n",
        "    plt.tight_layout()"
      ],
      "execution_count": 3,
      "outputs": []
    },
    {
      "cell_type": "markdown",
      "metadata": {
        "id": "UdvvONe6Ee7c"
      },
      "source": [
        "\n",
        "Now we're going to build a larger network that can solve a (formerly) difficult problem, identifying text in an image. Here we'll use the MNIST dataset which consists of greyscale handwritten digits. Each image is 28x28 pixels, you can see a sample below\n",
        "\n",
        "<img src='https://github.com/udacity/deep-learning-v2-pytorch/blob/master/intro-to-pytorch/assets/mnist.png?raw=1'>\n",
        "\n",
        "Our goal is to build a neural network that can take one of these images and predict the digit in the image.\n",
        "\n",
        "First up, we need to get our dataset. This is provided through the `torchvision` package. The code below will download the MNIST dataset, then create training and test datasets for us. Don't worry too much about the details here, you'll learn more about this later."
      ]
    },
    {
      "cell_type": "code",
      "metadata": {
        "id": "rzjwQ3RUEe7f"
      },
      "source": [
        "### Run this cell\n",
        "\n",
        "from torchvision import datasets, transforms\n",
        "\n",
        "# Define a transform to normalize the data\n",
        "transform = transforms.Compose([transforms.ToTensor(),\n",
        "                              transforms.Normalize((0.5,), (0.5,)),\n",
        "                              ])\n",
        "\n",
        "# Download and load the training data\n",
        "trainset = datasets.MNIST('~/.pytorch/MNIST_data/', download=True, train=True, transform=transform)\n",
        "trainloader = torch.utils.data.DataLoader(trainset, batch_size=64, shuffle=True)"
      ],
      "execution_count": 6,
      "outputs": []
    },
    {
      "cell_type": "markdown",
      "metadata": {
        "id": "DTt-sEWMEe7q"
      },
      "source": [
        "We have the training data loaded into `trainloader` and we make that an iterator with `iter(trainloader)`. Later, we'll use this to loop through the dataset for training, like\n",
        "\n",
        "```python\n",
        "for image, label in trainloader:\n",
        "    ## do things with images and labels\n",
        "```\n",
        "\n",
        "You'll notice I created the `trainloader` with a batch size of 64, and `shuffle=True`. The batch size is the number of images we get in one iteration from the data loader and pass through our network, often called a *batch*. And `shuffle=True` tells it to shuffle the dataset every time we start going through the data loader again. But here I'm just grabbing the first batch so we can check out the data. We can see below that `images` is just a tensor with size `(64, 1, 28, 28)`. So, 64 images per batch, 1 color channel, and 28x28 images."
      ]
    },
    {
      "cell_type": "code",
      "metadata": {
        "id": "Ia4eMwp4Ee7v",
        "colab": {
          "base_uri": "https://localhost:8080/"
        },
        "outputId": "b774c8d5-52fb-4e06-c781-b071da2e9c93"
      },
      "source": [
        "dataiter = iter(trainloader)\n",
        "images, labels = dataiter.next()\n",
        "print(type(images))\n",
        "print(images.shape)\n",
        "print(labels.shape)"
      ],
      "execution_count": 10,
      "outputs": [
        {
          "output_type": "stream",
          "name": "stdout",
          "text": [
            "<class 'torch.Tensor'>\n",
            "torch.Size([64, 1, 28, 28])\n",
            "torch.Size([64])\n"
          ]
        }
      ]
    },
    {
      "cell_type": "markdown",
      "metadata": {
        "id": "NqW5zm7QEe75"
      },
      "source": [
        "This is what one of the images looks like. "
      ]
    },
    {
      "cell_type": "code",
      "metadata": {
        "id": "pGag6wUZEe7-",
        "colab": {
          "base_uri": "https://localhost:8080/",
          "height": 265
        },
        "outputId": "a140d7d8-897c-4c9c-c5b9-dcaaac6eacc8"
      },
      "source": [
        "plt.imshow(images[1].numpy().squeeze(), cmap='Greys_r');"
      ],
      "execution_count": 11,
      "outputs": [
        {
          "output_type": "display_data",
          "data": {
            "text/plain": [
              "<Figure size 432x288 with 1 Axes>"
            ],
            "image/png": "[encoded data removed]"
          },
          "metadata": {
            "image/png": {
              "width": 251,
              "height": 248
            },
            "needs_background": "light"
          }
        }
      ]
    },
    {
      "cell_type": "markdown",
      "metadata": {
        "id": "ZXrhU9goEe8I"
      },
      "source": [
        "First, let's try to build a simple network for this dataset using weight matrices and matrix multiplications. Then, we'll see how to do it using PyTorch's `nn` module which provides a much more convenient and powerful method for defining network architectures.\n",
        "\n",
        "The networks you've seen so far are called *fully-connected* or *dense* networks. Each unit in one layer is connected to each unit in the next layer. In fully-connected networks, the input to each layer must be a one-dimensional vector (which can be stacked into a 2D tensor as a batch of multiple examples). However, our images are 28x28 2D tensors, so we need to convert them into 1D vectors. Thinking about sizes, we need to convert the batch of images with shape `(64, 1, 28, 28)` to a have a shape of `(64, 784)`, 784 is 28 times 28. This is typically called *flattening*, we flattened the 2D images into 1D vectors.\n",
        "\n",
        "Previously you built a network with one output unit. Here we need 10 output units, one for each digit. We want our network to predict the digit shown in an image, so what we'll do is calculate probabilities that the image is of any one digit or class. This ends up being a discrete probability distribution over the classes (digits) that tells us the most likely class for the image. That means we need 10 output units for the 10 classes (digits). We'll see how to convert the network output into a probability distribution next.\n",
        "\n",
        "> **Exercise:** Flatten the batch of images `images`. Then build a multi-layer network with 784 input units, 256 hidden units, and 10 output units using random tensors for the weights and biases. For now, use a sigmoid activation for the hidden layer. Leave the output layer without an activation, we'll add one that gives us a probability distribution next."
      ]
    },
    {
      "cell_type": "code",
      "metadata": {
        "id": "TZ7inl6qEe8L",
        "colab": {
          "base_uri": "https://localhost:8080/"
        },
        "outputId": "e85d0cdc-4b92-4a75-cf8a-f9cdb6b670ef"
      },
      "source": [
        "## Your solution\n",
        "\n",
        "# TODO\n",
        "def activation(x):\n",
        "  # sigmoid\n",
        "  return 1/(1 + torch.exp(-x))\n",
        "\n",
        "# flatten the image\n",
        "# shape (64, 784)\n",
        "inputs = images.view(images.shape[0], -1)\n",
        "\n",
        "# params\n",
        "# TODO\n",
        "w1 = torch.randn(784, 256)\n",
        "b1 = torch.randn(256)\n",
        "\n",
        "w2 = torch.randn(256, 10)\n",
        "b2 = torch.randn(10)\n",
        "\n",
        "h = activation(torch.mm(inputs, w1) + b1)\n",
        "out = activation(torch.mm(h, w2) + b2)\n",
        "# output of your network, should have shape (64,10)\n",
        "out"
      ],
      "execution_count": 12,
      "outputs": [
        {
          "output_type": "execute_result",
          "data": {
            "text/plain": [
              "tensor([[1.9813e-03, 1.4066e-10, 1.0320e-08, 9.9984e-01, 3.2137e-01, 9.9449e-01,\n",
              "         1.9912e-09, 8.0324e-01, 7.0319e-06, 1.0000e+00],\n",
              "        [6.6554e-02, 1.1911e-16, 9.7670e-04, 9.9606e-01, 7.8038e-02, 9.8251e-01,\n",
              "         1.2952e-07, 9.9999e-01, 1.0979e-02, 9.7178e-01],\n",
              "        [2.4065e-03, 2.4148e-14, 4.9002e-03, 9.9330e-01, 3.0560e-03, 4.8194e-01,\n",
              "         4.1946e-06, 9.9858e-01, 6.0968e-05, 9.9888e-01],\n",
              "        [1.5691e-01, 8.1183e-15, 4.1155e-05, 1.0207e-01, 9.9727e-01, 9.8377e-01,\n",
              "         3.0003e-04, 9.9994e-01, 3.1862e-01, 9.9898e-01],\n",
              "        [2.6368e-01, 1.0013e-13, 1.9818e-05, 1.0000e+00, 9.9080e-01, 9.9966e-01,\n",
              "         8.0313e-10, 3.2020e-01, 3.4008e-07, 9.9365e-01],\n",
              "        [1.9693e-02, 6.5704e-12, 2.0669e-06, 9.9999e-01, 6.0393e-01, 1.8716e-01,\n",
              "         9.2199e-08, 9.2245e-01, 9.7660e-05, 2.6389e-01],\n",
              "        [4.8660e-01, 5.4140e-11, 2.8915e-04, 9.8311e-01, 5.3622e-01, 9.9999e-01,\n",
              "         6.3390e-08, 1.0000e+00, 2.6560e-01, 9.4911e-01],\n",
              "        [9.9974e-01, 5.2369e-11, 1.7693e-01, 9.9979e-01, 3.3962e-01, 3.8926e-03,\n",
              "         6.5233e-07, 1.0000e+00, 9.5652e-01, 9.9512e-01],\n",
              "        [1.8487e-04, 1.1580e-12, 1.3212e-02, 3.9597e-01, 9.9902e-01, 9.9996e-01,\n",
              "         1.9134e-06, 9.9993e-01, 7.4407e-05, 7.9712e-01],\n",
              "        [6.7327e-01, 1.5168e-13, 3.1115e-02, 9.9997e-01, 2.7964e-06, 9.8839e-01,\n",
              "         5.9795e-10, 9.9997e-01, 1.0012e-04, 9.9998e-01],\n",
              "        [3.7882e-05, 5.6268e-10, 1.1799e-02, 6.0601e-01, 2.6502e-05, 8.5431e-01,\n",
              "         1.7815e-06, 9.9992e-01, 1.6072e-03, 9.2508e-01],\n",
              "        [4.8565e-03, 3.9766e-11, 1.5064e-05, 9.9999e-01, 5.4952e-02, 1.0150e-02,\n",
              "         1.4855e-10, 9.9986e-01, 3.2140e-04, 9.9983e-01],\n",
              "        [3.3479e-05, 1.1915e-14, 1.0246e-04, 9.9962e-01, 3.4658e-02, 9.7246e-02,\n",
              "         1.2521e-10, 9.9673e-01, 1.6375e-06, 9.9999e-01],\n",
              "        [8.9813e-04, 2.0226e-11, 3.9754e-01, 9.9952e-01, 9.6246e-01, 9.9948e-01,\n",
              "         1.5775e-08, 1.0000e+00, 7.0955e-04, 3.0302e-06],\n",
              "        [1.2338e-02, 1.7246e-12, 7.6691e-07, 1.0000e+00, 4.1801e-01, 8.3123e-01,\n",
              "         2.8098e-06, 9.8801e-01, 4.4708e-06, 3.5249e-03],\n",
              "        [2.8588e-01, 6.7301e-12, 1.2189e-05, 2.3791e-03, 9.9059e-01, 2.1948e-03,\n",
              "         9.0696e-08, 9.9213e-01, 1.1448e-01, 1.0000e+00],\n",
              "        [4.0920e-01, 2.8747e-16, 3.7606e-04, 8.2091e-01, 9.9427e-01, 9.0240e-01,\n",
              "         2.0537e-09, 1.9597e-02, 6.1019e-02, 1.0000e+00],\n",
              "        [1.8239e-02, 7.2207e-13, 9.5385e-04, 8.5780e-01, 3.5653e-08, 9.4821e-02,\n",
              "         3.8452e-08, 1.0000e+00, 1.2176e-02, 9.9992e-01],\n",
              "        [1.4862e-01, 1.4859e-10, 1.6477e-01, 1.4067e-05, 7.9875e-01, 4.9324e-02,\n",
              "         5.9333e-03, 9.6305e-01, 4.8732e-01, 9.9730e-01],\n",
              "        [3.9397e-03, 4.0754e-10, 5.0045e-02, 9.9201e-01, 1.0549e-06, 1.2967e-01,\n",
              "         9.7039e-11, 9.9326e-01, 9.3333e-05, 9.4918e-01],\n",
              "        [5.2688e-01, 7.8701e-10, 6.4501e-03, 1.0000e+00, 1.2010e-04, 7.0695e-05,\n",
              "         2.7854e-10, 9.9997e-01, 1.1622e-03, 9.9998e-01],\n",
              "        [9.9992e-01, 2.5254e-16, 1.8263e-04, 8.8985e-01, 9.7868e-01, 9.9999e-01,\n",
              "         3.3546e-08, 3.3819e-01, 6.1828e-01, 9.9795e-01],\n",
              "        [4.3025e-02, 1.7093e-11, 2.9713e-05, 9.9849e-01, 5.0443e-01, 9.6520e-01,\n",
              "         5.7295e-05, 9.9990e-01, 1.7110e-03, 9.6303e-01],\n",
              "        [6.1621e-01, 6.2881e-13, 1.8896e-05, 9.2194e-01, 6.2514e-03, 9.5972e-01,\n",
              "         3.1494e-08, 9.9998e-01, 4.4663e-03, 5.7764e-02],\n",
              "        [9.6000e-05, 1.2738e-10, 2.6458e-04, 9.7848e-01, 8.2298e-03, 1.0000e+00,\n",
              "         1.1028e-05, 9.9998e-01, 7.4295e-05, 9.9978e-01],\n",
              "        [1.4435e-01, 6.9452e-15, 9.9730e-02, 2.1416e-02, 9.9514e-01, 7.6567e-01,\n",
              "         2.6368e-05, 9.9811e-01, 2.2639e-02, 9.9744e-01],\n",
              "        [9.2493e-02, 4.9937e-11, 1.4993e-05, 9.9477e-01, 1.6585e-03, 9.9998e-01,\n",
              "         6.0980e-06, 8.4331e-01, 1.7183e-01, 9.9600e-01],\n",
              "        [9.5463e-03, 1.4509e-12, 1.0542e-03, 1.0000e+00, 9.4624e-01, 4.2902e-01,\n",
              "         3.5062e-08, 9.9648e-01, 7.9247e-05, 5.5831e-01],\n",
              "        [9.9952e-01, 5.3554e-11, 7.2415e-01, 9.9955e-01, 8.3888e-01, 9.9978e-01,\n",
              "         3.4942e-09, 9.8931e-01, 8.4368e-04, 1.4524e-02],\n",
              "        [8.8312e-01, 4.2477e-09, 3.4050e-04, 9.9980e-01, 9.5669e-01, 8.6736e-02,\n",
              "         1.5287e-09, 9.9920e-01, 1.3491e-05, 9.9989e-01],\n",
              "        [2.9246e-03, 7.6039e-10, 2.9436e-04, 2.6544e-01, 1.3412e-03, 9.9883e-01,\n",
              "         8.9833e-07, 9.9998e-01, 1.6156e-04, 9.8898e-01],\n",
              "        [1.6920e-03, 1.3629e-10, 9.7853e-03, 6.7782e-01, 5.8800e-04, 9.9825e-01,\n",
              "         9.7046e-06, 9.9989e-01, 2.0343e-02, 4.3349e-02],\n",
              "        [1.1700e-01, 7.6030e-11, 5.7310e-05, 9.1632e-01, 2.1932e-02, 9.9947e-01,\n",
              "         1.2088e-09, 1.0000e+00, 1.8457e-04, 9.4959e-01],\n",
              "        [3.2063e-04, 1.0764e-11, 5.0764e-05, 9.4318e-01, 1.0499e-05, 9.9736e-01,\n",
              "         2.1971e-07, 9.9933e-01, 3.7074e-02, 7.9612e-02],\n",
              "        [3.7907e-01, 1.2935e-11, 1.0860e-02, 2.9653e-02, 6.4395e-01, 9.4936e-01,\n",
              "         1.4439e-04, 1.0000e+00, 1.1527e-02, 9.9983e-01],\n",
              "        [1.8932e-01, 3.0884e-13, 3.9156e-01, 9.3683e-01, 9.8241e-01, 9.9945e-01,\n",
              "         2.4540e-12, 9.9998e-01, 1.4704e-03, 9.9212e-01],\n",
              "        [6.1712e-01, 3.7268e-16, 3.9581e-01, 9.9988e-01, 9.9923e-01, 6.1957e-01,\n",
              "         8.6851e-08, 2.9845e-01, 1.3452e-04, 9.9999e-01],\n",
              "        [8.2771e-03, 4.5012e-11, 2.0784e-05, 1.0000e+00, 9.9991e-01, 5.0584e-01,\n",
              "         2.1500e-07, 5.3584e-01, 5.0483e-06, 8.9714e-01],\n",
              "        [2.7723e-03, 3.8633e-11, 1.0363e-04, 9.9983e-01, 9.9329e-01, 9.9602e-01,\n",
              "         3.1069e-10, 9.9864e-01, 2.8077e-01, 9.3910e-01],\n",
              "        [2.0443e-03, 7.6890e-14, 8.0420e-04, 5.9570e-04, 1.2142e-01, 9.9482e-01,\n",
              "         9.5782e-04, 9.9978e-01, 2.3967e-01, 9.9587e-01],\n",
              "        [8.0718e-01, 1.9149e-15, 1.0063e-05, 1.0000e+00, 1.0000e+00, 1.4794e-01,\n",
              "         3.8807e-08, 3.9297e-05, 1.0308e-05, 9.9929e-01],\n",
              "        [9.9990e-01, 1.5540e-09, 2.5731e-06, 9.9024e-01, 3.4552e-01, 3.3013e-02,\n",
              "         1.2082e-07, 1.0567e-01, 9.5580e-03, 9.9996e-01],\n",
              "        [9.0283e-01, 2.4080e-10, 9.9949e-01, 9.9995e-01, 4.4161e-03, 3.0240e-02,\n",
              "         1.4842e-10, 9.9964e-01, 2.1437e-09, 9.9101e-01],\n",
              "        [1.7850e-04, 5.4371e-10, 1.1647e-06, 9.8784e-01, 1.0697e-01, 9.9936e-01,\n",
              "         5.8224e-07, 9.9998e-01, 7.4050e-05, 4.1294e-01],\n",
              "        [1.4546e-01, 5.0615e-15, 8.9997e-04, 9.9883e-01, 4.8850e-07, 1.0728e-04,\n",
              "         2.5131e-07, 1.0000e+00, 9.0138e-04, 9.9802e-01],\n",
              "        [9.8926e-01, 4.1058e-14, 5.7682e-02, 9.9998e-01, 9.0394e-01, 5.9529e-01,\n",
              "         4.5598e-06, 2.7117e-01, 2.6640e-05, 9.9997e-01],\n",
              "        [1.1884e-01, 5.4463e-13, 6.0539e-03, 1.0000e+00, 9.3374e-01, 1.4514e-02,\n",
              "         5.8740e-12, 1.7672e-02, 6.9192e-08, 9.5995e-01],\n",
              "        [9.7106e-01, 3.6281e-14, 1.3533e-03, 8.4869e-01, 1.7170e-02, 9.8544e-01,\n",
              "         9.2396e-10, 1.0000e+00, 1.5176e-02, 9.9057e-01],\n",
              "        [7.0137e-02, 1.3101e-15, 1.3239e-04, 8.8308e-01, 9.9998e-01, 9.9768e-01,\n",
              "         1.0948e-06, 7.7080e-01, 1.0869e-05, 9.8810e-01],\n",
              "        [1.5917e-03, 2.6679e-12, 4.6982e-05, 9.9989e-01, 2.7754e-05, 9.9758e-01,\n",
              "         1.8158e-07, 9.7127e-01, 1.7395e-04, 3.5909e-01],\n",
              "        [5.1753e-01, 1.0121e-11, 2.2665e-02, 1.0000e+00, 6.9968e-01, 4.0425e-01,\n",
              "         3.1328e-04, 9.9945e-01, 3.1078e-06, 1.0000e+00],\n",
              "        [3.3994e-01, 2.7600e-12, 3.9446e-08, 1.0000e+00, 2.1049e-02, 5.3088e-03,\n",
              "         5.0428e-11, 6.9912e-01, 8.2050e-03, 1.0000e+00],\n",
              "        [5.3434e-03, 1.7664e-15, 3.0149e-05, 1.0000e+00, 4.0958e-01, 4.5798e-01,\n",
              "         8.1638e-11, 9.9894e-01, 9.7944e-01, 9.9991e-01],\n",
              "        [1.1965e-01, 7.6077e-21, 9.9999e-01, 9.9995e-01, 9.9999e-01, 9.9999e-01,\n",
              "         5.6796e-03, 1.1916e-05, 2.1315e-03, 3.3629e-01],\n",
              "        [9.9955e-01, 3.7969e-15, 4.5498e-03, 5.4958e-01, 9.9511e-01, 2.3495e-02,\n",
              "         3.0790e-07, 1.0000e+00, 1.0870e-02, 9.9864e-01],\n",
              "        [9.5451e-01, 7.8763e-12, 1.5491e-04, 8.4839e-01, 1.0000e+00, 1.8713e-02,\n",
              "         9.0221e-02, 9.9788e-01, 1.7965e-01, 9.3263e-01],\n",
              "        [7.0458e-01, 1.0295e-11, 2.2940e-05, 7.1797e-01, 9.9367e-01, 9.9892e-01,\n",
              "         1.7918e-05, 9.9978e-01, 9.9956e-06, 9.9039e-01],\n",
              "        [3.8311e-03, 1.8896e-12, 4.9802e-07, 9.9995e-01, 1.2093e-03, 4.5545e-01,\n",
              "         4.7085e-09, 9.9971e-01, 9.4533e-01, 9.9997e-01],\n",
              "        [9.9376e-01, 3.7077e-12, 1.9143e-02, 8.8856e-01, 9.9556e-01, 9.9984e-01,\n",
              "         9.7344e-10, 1.0000e+00, 3.3348e-02, 9.9896e-01],\n",
              "        [6.2121e-01, 1.8726e-10, 6.4510e-02, 9.5787e-01, 1.3028e-01, 9.9637e-01,\n",
              "         1.3352e-08, 5.6756e-01, 1.3210e-02, 9.9998e-01],\n",
              "        [1.8711e-02, 3.2605e-14, 5.1980e-03, 9.3088e-01, 7.8578e-04, 1.6768e-01,\n",
              "         8.6836e-12, 9.9589e-01, 1.6850e-04, 9.9996e-01],\n",
              "        [9.6368e-01, 5.4113e-12, 2.0188e-07, 1.0000e+00, 6.1145e-01, 9.8232e-01,\n",
              "         1.5332e-06, 9.9999e-01, 1.6490e-03, 9.9859e-01],\n",
              "        [5.0169e-02, 1.9422e-10, 1.5337e-04, 2.6950e-01, 2.3812e-03, 9.9990e-01,\n",
              "         1.1749e-08, 1.0000e+00, 2.4073e-05, 3.3475e-02],\n",
              "        [9.4787e-01, 1.9473e-12, 9.8127e-03, 9.9999e-01, 2.7901e-01, 5.1972e-01,\n",
              "         4.9225e-09, 9.9989e-01, 4.7730e-03, 1.0000e+00]])"
            ]
          },
          "metadata": {},
          "execution_count": 12
        }
      ]
    },
    {
      "cell_type": "code",
      "metadata": {
        "id": "e1682zu-qz5h"
      },
      "source": [
        "images.view?"
      ],
      "execution_count": 13,
      "outputs": []
    },
    {
      "cell_type": "code",
      "metadata": {
        "id": "H_3daDNUrAZA",
        "colab": {
          "base_uri": "https://localhost:8080/"
        },
        "outputId": "62e7f4f6-1acb-4285-a6de-406e531c8e5d"
      },
      "source": [
        "28*28"
      ],
      "execution_count": 14,
      "outputs": [
        {
          "output_type": "execute_result",
          "data": {
            "text/plain": [
              "784"
            ]
          },
          "metadata": {},
          "execution_count": 14
        }
      ]
    },
    {
      "cell_type": "markdown",
      "metadata": {
        "id": "fhGjJBNeEe8T"
      },
      "source": [
        "Now we have 10 outputs for our network. We want to pass in an image to our network and get out a probability distribution over the classes that tells us the likely class(es) the image belongs to. Something that looks like this:\n",
        "<img src='https://github.com/udacity/deep-learning-v2-pytorch/blob/master/intro-to-pytorch/assets/image_distribution.png?raw=1' width=500px>\n",
        "\n",
        "Here we see that the probability for each class is roughly the same. This is representing an untrained network, it hasn't seen any data yet so it just returns a uniform distribution with equal probabilities for each class.\n",
        "\n",
        "To calculate this probability distribution, we often use the [**softmax** function](https://en.wikipedia.org/wiki/Softmax_function). Mathematically this looks like\n",
        "\n",
        "$$\n",
        "\\Large \\sigma(x_i) = \\cfrac{e^{x_i}}{\\sum_k^K{e^{x_k}}}\n",
        "$$\n",
        "\n",
        "What this does is squish each input $x_i$ between 0 and 1 and normalizes the values to give you a proper probability distribution where the probabilites sum up to one.\n",
        "\n",
        "> **Exercise:** Implement a function `softmax` that performs the softmax calculation and returns probability distributions for each example in the batch. Note that you'll need to pay attention to the shapes when doing this. If you have a tensor `a` with shape `(64, 10)` and a tensor `b` with shape `(64,)`, doing `a/b` will give you an error because PyTorch will try to do the division across the columns (called broadcasting) but you'll get a size mismatch. The way to think about this is for each of the 64 examples, you only want to divide by one value, the sum in the denominator. So you need `b` to have a shape of `(64, 1)`. This way PyTorch will divide the 10 values in each row of `a` by the one value in each row of `b`. Pay attention to how you take the sum as well. You'll need to define the `dim` keyword in `torch.sum`. Setting `dim=0` takes the sum across the rows while `dim=1` takes the sum across the columns."
      ]
    },
    {
      "cell_type": "code",
      "metadata": {
        "id": "gsDHvQFXEe8W",
        "colab": {
          "base_uri": "https://localhost:8080/",
          "height": 235
        },
        "outputId": "53eb73e5-84ec-481f-f1d6-9c857d9846d2"
      },
      "source": [
        "def softmax(x):\n",
        "    return\n",
        "    ## TODO: Implement the softmax function here\n",
        "\n",
        "\n",
        "# Here, out should be the output of the network in the previous excercise with shape (64,10)\n",
        "probabilities = softmax(out)\n",
        "\n",
        "# Does it have the right shape? Should be (64, 10)\n",
        "print(probabilities.shape)\n",
        "# Does it sum to 1?\n",
        "print(probabilities.sum(dim=1))"
      ],
      "execution_count": 15,
      "outputs": [
        {
          "output_type": "error",
          "ename": "AttributeError",
          "evalue": "ignored",
          "traceback": [
            "\u001b[0;31m---------------------------------------------------------------------------\u001b[0m",
            "\u001b[0;31mAttributeError\u001b[0m                            Traceback (most recent call last)",
            "\u001b[0;32m<ipython-input-15-fb56dc52ef2f>\u001b[0m in \u001b[0;36m<module>\u001b[0;34m()\u001b[0m\n\u001b[1;32m      8\u001b[0m \u001b[0;34m\u001b[0m\u001b[0m\n\u001b[1;32m      9\u001b[0m \u001b[0;31m# Does it have the right shape? Should be (64, 10)\u001b[0m\u001b[0;34m\u001b[0m\u001b[0;34m\u001b[0m\u001b[0;34m\u001b[0m\u001b[0m\n\u001b[0;32m---> 10\u001b[0;31m \u001b[0mprint\u001b[0m\u001b[0;34m(\u001b[0m\u001b[0mprobabilities\u001b[0m\u001b[0;34m.\u001b[0m\u001b[0mshape\u001b[0m\u001b[0;34m)\u001b[0m\u001b[0;34m\u001b[0m\u001b[0;34m\u001b[0m\u001b[0m\n\u001b[0m\u001b[1;32m     11\u001b[0m \u001b[0;31m# Does it sum to 1?\u001b[0m\u001b[0;34m\u001b[0m\u001b[0;34m\u001b[0m\u001b[0;34m\u001b[0m\u001b[0m\n\u001b[1;32m     12\u001b[0m \u001b[0mprint\u001b[0m\u001b[0;34m(\u001b[0m\u001b[0mprobabilities\u001b[0m\u001b[0;34m.\u001b[0m\u001b[0msum\u001b[0m\u001b[0;34m(\u001b[0m\u001b[0mdim\u001b[0m\u001b[0;34m=\u001b[0m\u001b[0;36m1\u001b[0m\u001b[0;34m)\u001b[0m\u001b[0;34m)\u001b[0m\u001b[0;34m\u001b[0m\u001b[0;34m\u001b[0m\u001b[0m\n",
            "\u001b[0;31mAttributeError\u001b[0m: 'NoneType' object has no attribute 'shape'"
          ]
        }
      ]
    },
    {
      "cell_type": "markdown",
      "metadata": {
        "id": "k8Jb3pXEEe8h"
      },
      "source": [
        "## Building networks with PyTorch\n",
        "\n",
        "PyTorch provides a module `nn` that makes building networks much simpler. Here I'll show you how to build the same one as above with 784 inputs, 256 hidden units, 10 output units and a softmax output."
      ]
    },
    {
      "cell_type": "code",
      "metadata": {
        "id": "lm2W-iFBEe8j"
      },
      "source": [
        "from torch import nn"
      ],
      "execution_count": null,
      "outputs": []
    },
    {
      "cell_type": "code",
      "metadata": {
        "id": "Nz4iDEbhEe8t"
      },
      "source": [
        "class Network(nn.Module):\n",
        "    def __init__(self):\n",
        "        super().__init__()\n",
        "        \n",
        "        # Inputs to hidden layer linear transformation\n",
        "        self.hidden = nn.Linear(784, 256)\n",
        "        # Output layer, 10 units - one for each digit\n",
        "        self.output = nn.Linear(256, 10)\n",
        "        \n",
        "        # Define sigmoid activation and softmax output \n",
        "        self.sigmoid = nn.Sigmoid()\n",
        "        self.softmax = nn.Softmax(dim=1)\n",
        "        \n",
        "    def forward(self, x):\n",
        "        # Pass the input tensor through each of our operations\n",
        "        x = self.hidden(x)\n",
        "        x = self.sigmoid(x)\n",
        "        x = self.output(x)\n",
        "        x = self.softmax(x)\n",
        "        \n",
        "        return x"
      ],
      "execution_count": null,
      "outputs": []
    },
    {
      "cell_type": "markdown",
      "metadata": {
        "id": "CUc1YWzJEe83"
      },
      "source": [
        "Let's go through this bit by bit.\n",
        "\n",
        "```python\n",
        "class Network(nn.Module):\n",
        "```\n",
        "\n",
        "Here we're inheriting from `nn.Module`. Combined with `super().__init__()` this creates a class that tracks the architecture and provides a lot of useful methods and attributes. It is mandatory to inherit from `nn.Module` when you're creating a class for your network. The name of the class itself can be anything.\n",
        "\n",
        "```python\n",
        "self.hidden = nn.Linear(784, 256)\n",
        "```\n",
        "\n",
        "This line creates a module for a linear transformation, $x\\mathbf{W} + b$, with 784 inputs and 256 outputs and assigns it to `self.hidden`. The module automatically creates the weight and bias tensors which we'll use in the `forward` method. You can access the weight and bias tensors once the network (`net`) is created with `net.hidden.weight` and `net.hidden.bias`.\n",
        "\n",
        "```python\n",
        "self.output = nn.Linear(256, 10)\n",
        "```\n",
        "\n",
        "Similarly, this creates another linear transformation with 256 inputs and 10 outputs.\n",
        "\n",
        "```python\n",
        "self.sigmoid = nn.Sigmoid()\n",
        "self.softmax = nn.Softmax(dim=1)\n",
        "```\n",
        "\n",
        "Here I defined operations for the sigmoid activation and softmax output. Setting `dim=1` in `nn.Softmax(dim=1)` calculates softmax across the columns.\n",
        "\n",
        "```python\n",
        "def forward(self, x):\n",
        "```\n",
        "\n",
        "PyTorch networks created with `nn.Module` must have a `forward` method defined. It takes in a tensor `x` and passes it through the operations you defined in the `__init__` method.\n",
        "\n",
        "```python\n",
        "x = self.hidden(x)\n",
        "x = self.sigmoid(x)\n",
        "x = self.output(x)\n",
        "x = self.softmax(x)\n",
        "```\n",
        "\n",
        "Here the input tensor `x` is passed through each operation and reassigned to `x`. We can see that the input tensor goes through the hidden layer, then a sigmoid function, then the output layer, and finally the softmax function. It doesn't matter what you name the variables here, as long as the inputs and outputs of the operations match the network architecture you want to build. The order in which you define things in the `__init__` method doesn't matter, but you'll need to sequence the operations correctly in the `forward` method.\n",
        "\n",
        "Now we can create a `Network` object."
      ]
    },
    {
      "cell_type": "code",
      "metadata": {
        "id": "vlchO1pyEe86"
      },
      "source": [
        "# Create the network and look at it's text representation\n",
        "model = Network()\n",
        "model"
      ],
      "execution_count": null,
      "outputs": []
    },
    {
      "cell_type": "markdown",
      "metadata": {
        "id": "-PYAzByWEe9D"
      },
      "source": [
        "You can define the network somewhat more concisely and clearly using the `torch.nn.functional` module. This is the most common way you'll see networks defined as many operations are simple element-wise functions. We normally import this module as `F`, `import torch.nn.functional as F`."
      ]
    },
    {
      "cell_type": "code",
      "metadata": {
        "id": "54nlecqIEe9F"
      },
      "source": [
        "import torch.nn.functional as F\n",
        "\n",
        "class Network(nn.Module):\n",
        "    def __init__(self):\n",
        "        super().__init__()\n",
        "        # Inputs to hidden layer linear transformation\n",
        "        self.hidden = nn.Linear(784, 256)\n",
        "        # Output layer, 10 units - one for each digit\n",
        "        self.output = nn.Linear(256, 10)\n",
        "        \n",
        "    def forward(self, x):\n",
        "        # Hidden layer with sigmoid activation\n",
        "        x = F.sigmoid(self.hidden(x))\n",
        "        # Output layer with softmax activation\n",
        "        x = F.softmax(self.output(x), dim=1)\n",
        "        \n",
        "        return x"
      ],
      "execution_count": null,
      "outputs": []
    },
    {
      "cell_type": "markdown",
      "metadata": {
        "id": "yQ4qMyTfEe9M"
      },
      "source": [
        "### Activation functions\n",
        "\n",
        "So far we've only been looking at the sigmoid activation function, but in general any function can be used as an activation function. The only requirement is that for a network to approximate a non-linear function, the activation functions must be non-linear. Here are a few more examples of common activation functions: Tanh (hyperbolic tangent), and ReLU (rectified linear unit).\n",
        "\n",
        "<img src=\"https://github.com/udacity/deep-learning-v2-pytorch/blob/master/intro-to-pytorch/assets/activation.png?raw=1\" width=700px>\n",
        "\n",
        "In practice, the ReLU function is used almost exclusively as the activation function for hidden layers."
      ]
    },
    {
      "cell_type": "markdown",
      "metadata": {
        "id": "Q4O380AVEe9P"
      },
      "source": [
        "### Your Turn to Build a Network\n",
        "\n",
        "<img src=\"https://github.com/udacity/deep-learning-v2-pytorch/blob/master/intro-to-pytorch/assets/mlp_mnist.png?raw=1\" width=600px>\n",
        "\n",
        "> **Exercise:** Create a network with 784 input units, a hidden layer with 128 units and a ReLU activation, then a hidden layer with 64 units and a ReLU activation, and finally an output layer with a softmax activation as shown above. You can use a ReLU activation with the `nn.ReLU` module or `F.relu` function.\n",
        "\n",
        "It's good practice to name your layers by their type of network, for instance 'fc' to represent a fully-connected layer. As you code your solution, use `fc1`, `fc2`, and `fc3` as your layer names."
      ]
    },
    {
      "cell_type": "code",
      "metadata": {
        "scrolled": true,
        "id": "MFUB3WXeEe9S"
      },
      "source": [
        "## Your solution here\n",
        "\n",
        "class Network(nn.Module):\n",
        "  def __init__(self):\n",
        "    super().__init__()\n",
        "    self.fc1 = \n",
        "    self.fc2 = \n",
        "    self.fc3 = \n",
        "  \n",
        "  def forward(self, x):\n",
        "\n",
        "\n",
        "model = Network()\n",
        "model\n"
      ],
      "execution_count": null,
      "outputs": []
    },
    {
      "cell_type": "markdown",
      "metadata": {
        "id": "T0-ApTi2Ee9a"
      },
      "source": [
        "### Initializing weights and biases\n",
        "\n",
        "The weights and such are automatically initialized for you, but it's possible to customize how they are initialized. The weights and biases are tensors attached to the layer you defined, you can get them with `model.fc1.weight` for instance."
      ]
    },
    {
      "cell_type": "code",
      "metadata": {
        "id": "xTQNKrLDEe9d"
      },
      "source": [
        "print(model.fc1.weight)\n",
        "print(model.fc1.bias)"
      ],
      "execution_count": null,
      "outputs": []
    },
    {
      "cell_type": "code",
      "metadata": {
        "id": "c-Pdiry43kH7"
      },
      "source": [
        "model.fc1.weight.shape"
      ],
      "execution_count": null,
      "outputs": []
    },
    {
      "cell_type": "code",
      "metadata": {
        "id": "k7H81MQe4Fta"
      },
      "source": [
        "model.fc2.weight.shape"
      ],
      "execution_count": null,
      "outputs": []
    },
    {
      "cell_type": "markdown",
      "metadata": {
        "id": "tSWiMqRdEe9l"
      },
      "source": [
        "For custom initialization, we want to modify these tensors in place. These are actually autograd *Variables*, so we need to get back the actual tensors with `model.fc1.weight.data`. Once we have the tensors, we can fill them with zeros (for biases) or random normal values."
      ]
    },
    {
      "cell_type": "code",
      "metadata": {
        "id": "-L6mnBSiEe9n"
      },
      "source": [
        "# Set biases to all zeros\n",
        "model.fc1.bias.data.fill_(0)"
      ],
      "execution_count": null,
      "outputs": []
    },
    {
      "cell_type": "code",
      "metadata": {
        "id": "vVHCtckHEe9s"
      },
      "source": [
        "# sample from random normal with standard dev = 0.01\n",
        "model.fc1.weight.data.normal_(std=0.01)"
      ],
      "execution_count": null,
      "outputs": []
    },
    {
      "cell_type": "markdown",
      "metadata": {
        "id": "fxZRejHIEe90"
      },
      "source": [
        "### Forward pass\n",
        "\n",
        "Now that we have a network, let's see what happens when we pass in an image."
      ]
    },
    {
      "cell_type": "code",
      "metadata": {
        "id": "vyN12FlVEe91"
      },
      "source": [
        "# Grab some data \n",
        "dataiter = iter(trainloader)\n",
        "images, labels = dataiter.next()\n",
        "\n",
        "# Resize images into a 1D vector, new shape is (batch size, color channels, image pixels) \n",
        "images.resize_(64, 1, 784)\n",
        "# or images.resize_(images.shape[0], 1, 784) to automatically get batch size\n",
        "\n",
        "# Forward pass through the network\n",
        "img_idx = 0\n",
        "ps = model.forward(images[img_idx,:])\n",
        "\n",
        "img = images[img_idx]\n",
        "view_classify(img.view(1, 28, 28), ps)"
      ],
      "execution_count": null,
      "outputs": []
    },
    {
      "cell_type": "markdown",
      "metadata": {
        "id": "OJysniZqEe97"
      },
      "source": [
        "As you can see above, our network has basically no idea what this digit is. It's because we haven't trained it yet, all the weights are random!\n",
        "\n",
        "### Using `nn.Sequential`\n",
        "\n",
        "PyTorch provides a convenient way to build networks like this where a tensor is passed sequentially through operations, `nn.Sequential` ([documentation](https://pytorch.org/docs/master/nn.html#torch.nn.Sequential)). Using this to build the equivalent network:"
      ]
    },
    {
      "cell_type": "code",
      "metadata": {
        "id": "X2z_7gQLEe99"
      },
      "source": [
        "# Hyperparameters for our network\n",
        "input_size = 784\n",
        "hidden_sizes = [128, 64]\n",
        "output_size = 10\n",
        "\n",
        "# Build a feed-forward network\n",
        "model = nn.Sequential(nn.Linear(input_size, hidden_sizes[0]),\n",
        "                      nn.ReLU(),\n",
        "                      nn.Linear(hidden_sizes[0], hidden_sizes[1]),\n",
        "                      nn.ReLU(),\n",
        "                      nn.Linear(hidden_sizes[1], output_size),\n",
        "                      nn.Softmax(dim=1))\n",
        "print(model)\n",
        "\n",
        "# Forward pass through the network and display output\n",
        "images, labels = next(iter(trainloader))\n",
        "images.resize_(images.shape[0], 1, 784)\n",
        "ps = model.forward(images[0,:])\n",
        "view_classify(images[0].view(1, 28, 28), ps)"
      ],
      "execution_count": null,
      "outputs": []
    },
    {
      "cell_type": "markdown",
      "metadata": {
        "id": "HLprn_JdEe-E"
      },
      "source": [
        "Here our model is the same as before: 784 input units, a hidden layer with 128 units, ReLU activation, 64 unit hidden layer, another ReLU, then the output layer with 10 units, and the softmax output.\n",
        "\n",
        "The operations are available by passing in the appropriate index. For example, if you want to get first Linear operation and look at the weights, you'd use `model[0]`."
      ]
    },
    {
      "cell_type": "code",
      "metadata": {
        "id": "n_jjZnNqEe-F"
      },
      "source": [
        "print(model[0])\n",
        "model[0].weight"
      ],
      "execution_count": null,
      "outputs": []
    },
    {
      "cell_type": "markdown",
      "metadata": {
        "id": "d7R_SDiwEe-M"
      },
      "source": [
        "You can also pass in an `OrderedDict` to name the individual layers and operations, instead of using incremental integers. Note that dictionary keys must be unique, so _each operation must have a different name_."
      ]
    },
    {
      "cell_type": "code",
      "metadata": {
        "id": "nmxOz-mcEe-O"
      },
      "source": [
        "from collections import OrderedDict\n",
        "model = nn.Sequential(OrderedDict([\n",
        "                      ('fc1', nn.Linear(input_size, hidden_sizes[0])),\n",
        "                      ('relu1', nn.ReLU()),\n",
        "                      ('fc2', nn.Linear(hidden_sizes[0], hidden_sizes[1])),\n",
        "                      ('relu2', nn.ReLU()),\n",
        "                      ('output', nn.Linear(hidden_sizes[1], output_size)),\n",
        "                      ('softmax', nn.Softmax(dim=1))]))\n",
        "model"
      ],
      "execution_count": null,
      "outputs": []
    },
    {
      "cell_type": "markdown",
      "metadata": {
        "id": "PnGCLRYTEe-T"
      },
      "source": [
        "Now you can access layers either by integer or the name"
      ]
    },
    {
      "cell_type": "code",
      "metadata": {
        "id": "goPIHnd6Ee-U"
      },
      "source": [
        "print(model[0])\n",
        "print(model.fc1)"
      ],
      "execution_count": null,
      "outputs": []
    },
    {
      "cell_type": "markdown",
      "metadata": {
        "id": "TNrkfoDjEe-Z"
      },
      "source": [
        "In the next notebook, we'll see how we can train a neural network to accuractly predict the numbers appearing in the MNIST images."
      ]
    }
  ]
}