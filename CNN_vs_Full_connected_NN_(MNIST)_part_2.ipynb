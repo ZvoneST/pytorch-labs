{
  "cells": [
    {
      "cell_type": "markdown",
      "metadata": {
        "id": "view-in-github",
        "colab_type": "text"
      },
      "source": [
        "<a href=\"https://colab.research.google.com/github/ZvoneST/pytorch-labs/blob/master/CNN_vs_Full_connected_NN_(MNIST)_part_2.ipynb\" target=\"_parent\"><img src=\"https://colab.research.google.com/assets/colab-badge.svg\" alt=\"Open In Colab\"/></a>"
      ]
    },
    {
      "cell_type": "markdown",
      "id": "ef5edb03",
      "metadata": {
        "id": "ef5edb03"
      },
      "source": [
        "### Step 1: Install Torch\n",
        "- Execute the following cell which will install **torch** and **torchvision**"
      ]
    },
    {
      "cell_type": "code",
      "execution_count": null,
      "id": "c19e8755",
      "metadata": {
        "id": "c19e8755"
      },
      "outputs": [],
      "source": [
        "#!pip install torchvision"
      ]
    },
    {
      "cell_type": "markdown",
      "id": "6b8bc9a2",
      "metadata": {
        "id": "6b8bc9a2"
      },
      "source": [
        "### Step 2: Import libraries"
      ]
    },
    {
      "cell_type": "code",
      "execution_count": null,
      "id": "fca19d9d",
      "metadata": {
        "id": "fca19d9d"
      },
      "outputs": [],
      "source": [
        "import torch\n",
        "import torch.nn as nn\n",
        "from torch import optim\n",
        "from torchvision import datasets\n",
        "from torchvision import transforms\n",
        "import matplotlib.pyplot as plt\n",
        "%matplotlib inline"
      ]
    },
    {
      "cell_type": "markdown",
      "id": "cb3a4ae5",
      "metadata": {
        "id": "cb3a4ae5"
      },
      "source": [
        "### Step 3: Download the CIFAR10 dataset\n"
      ]
    },
    {
      "cell_type": "code",
      "execution_count": null,
      "id": "73c6e5bb",
      "metadata": {
        "colab": {
          "base_uri": "https://localhost:8080/"
        },
        "id": "73c6e5bb",
        "outputId": "3e12da68-d2e6-441b-ffd4-37e51ef8ac7c"
      },
      "outputs": [
        {
          "output_type": "stream",
          "name": "stdout",
          "text": [
            "Files already downloaded and verified\n",
            "Files already downloaded and verified\n"
          ]
        }
      ],
      "source": [
        "data_path = 'downloads/'\n",
        "cifar10 = datasets.CIFAR10(data_path, train=True, download=True)\n",
        "cifar10_val = datasets.CIFAR10(data_path, train=False, download=True)"
      ]
    },
    {
      "cell_type": "markdown",
      "id": "cd1bd0ca",
      "metadata": {
        "id": "cd1bd0ca"
      },
      "source": [
        "### Step 4: Explore the dataset\n"
      ]
    },
    {
      "cell_type": "code",
      "execution_count": null,
      "id": "a18c1717",
      "metadata": {
        "colab": {
          "base_uri": "https://localhost:8080/"
        },
        "id": "a18c1717",
        "outputId": "650da8c3-dc49-4d65-a5b8-3e9f7e4cd42c"
      },
      "outputs": [
        {
          "output_type": "execute_result",
          "data": {
            "text/plain": [
              "torchvision.datasets.cifar.CIFAR10"
            ]
          },
          "metadata": {},
          "execution_count": 30
        }
      ],
      "source": [
        "type(cifar10)"
      ]
    },
    {
      "cell_type": "code",
      "execution_count": null,
      "id": "5494a539",
      "metadata": {
        "colab": {
          "base_uri": "https://localhost:8080/"
        },
        "id": "5494a539",
        "outputId": "f6b02aee-705a-4b3a-f4b3-31da5307d979"
      },
      "outputs": [
        {
          "output_type": "execute_result",
          "data": {
            "text/plain": [
              "(50000, 10000)"
            ]
          },
          "metadata": {},
          "execution_count": 31
        }
      ],
      "source": [
        "len(cifar10), len(cifar10_val)"
      ]
    },
    {
      "cell_type": "code",
      "execution_count": null,
      "id": "6f74c3dc",
      "metadata": {
        "id": "6f74c3dc"
      },
      "outputs": [],
      "source": [
        "img, label = cifar10[1000]"
      ]
    },
    {
      "cell_type": "markdown",
      "id": "65639015",
      "metadata": {
        "id": "65639015"
      },
      "source": [
        "### Step 5: Visualize the image\n"
      ]
    },
    {
      "cell_type": "code",
      "execution_count": null,
      "id": "3dbf5fa3",
      "metadata": {
        "colab": {
          "base_uri": "https://localhost:8080/",
          "height": 283
        },
        "id": "3dbf5fa3",
        "outputId": "df57f684-f9c0-4f4b-8ab0-669b8ab8f8be"
      },
      "outputs": [
        {
          "output_type": "execute_result",
          "data": {
            "text/plain": [
              "<matplotlib.image.AxesImage at 0x7f471ac6bc50>"
            ]
          },
          "metadata": {},
          "execution_count": 33
        },
        {
          "output_type": "display_data",
          "data": {
            "text/plain": [
              "<Figure size 432x288 with 1 Axes>"
            ],
            "image/png": "[encoded data removed]"
          },
          "metadata": {
            "needs_background": "light"
          }
        }
      ],
      "source": [
        "plt.imshow(img)"
      ]
    },
    {
      "cell_type": "code",
      "execution_count": null,
      "id": "8c1e704f",
      "metadata": {
        "id": "8c1e704f"
      },
      "outputs": [],
      "source": [
        ""
      ]
    },
    {
      "cell_type": "markdown",
      "id": "8005d75d",
      "metadata": {
        "id": "8005d75d"
      },
      "source": [
        "### Step 6: Transform images\n"
      ]
    },
    {
      "cell_type": "code",
      "execution_count": null,
      "id": "5d7c8a44",
      "metadata": {
        "id": "5d7c8a44"
      },
      "outputs": [],
      "source": [
        "tensor_cifar10 = datasets.CIFAR10(data_path, train = True, download = False, transform = transforms.ToTensor())"
      ]
    },
    {
      "cell_type": "code",
      "execution_count": null,
      "id": "a9dac2ba",
      "metadata": {
        "id": "a9dac2ba"
      },
      "outputs": [],
      "source": [
        "imgs = torch.stack([img_t for img_t, _ in tensor_cifar10], dim = 3)"
      ]
    },
    {
      "cell_type": "markdown",
      "id": "fe65a981",
      "metadata": {
        "id": "fe65a981"
      },
      "source": [
        "### Step 7: Normalize images\n"
      ]
    },
    {
      "cell_type": "code",
      "execution_count": null,
      "id": "2f02d859",
      "metadata": {
        "colab": {
          "base_uri": "https://localhost:8080/"
        },
        "id": "2f02d859",
        "outputId": "a7b825e1-2fb0-4d3f-e222-6074ba0549b0"
      },
      "outputs": [
        {
          "output_type": "execute_result",
          "data": {
            "text/plain": [
              "tensor([0.4914, 0.4822, 0.4465])"
            ]
          },
          "metadata": {},
          "execution_count": 36
        }
      ],
      "source": [
        "imgs.view(3, -1).mean(dim = 1)   #Why is output a 3 number?"
      ]
    },
    {
      "cell_type": "code",
      "execution_count": null,
      "id": "c9707c57",
      "metadata": {
        "colab": {
          "base_uri": "https://localhost:8080/"
        },
        "id": "c9707c57",
        "outputId": "83640b73-113c-4069-9ce5-d2c6c9c9d25d"
      },
      "outputs": [
        {
          "output_type": "execute_result",
          "data": {
            "text/plain": [
              "tensor([0.2470, 0.2435, 0.2616])"
            ]
          },
          "metadata": {},
          "execution_count": 37
        }
      ],
      "source": [
        "imgs.view(3, -1).std(dim = 1) "
      ]
    },
    {
      "cell_type": "code",
      "execution_count": null,
      "id": "5789d4b3",
      "metadata": {
        "id": "5789d4b3"
      },
      "outputs": [],
      "source": [
        ""
      ]
    },
    {
      "cell_type": "markdown",
      "id": "d298703f",
      "metadata": {
        "id": "d298703f"
      },
      "source": [
        "### Step 8: Normalize the data\n"
      ]
    },
    {
      "cell_type": "code",
      "execution_count": null,
      "id": "069a5ea8",
      "metadata": {
        "id": "069a5ea8"
      },
      "outputs": [],
      "source": [
        "cifar10 = datasets.CIFAR10(data_path, train = True, download = False, transform = transforms.Compose([\n",
        "                                                                                                             transforms.ToTensor(),\n",
        "                                                                                                             transforms.Normalize((0.4914, 0.4822, 0.4465), (0.2470, 0.2435, 0.2616))]))\n"
      ]
    },
    {
      "cell_type": "code",
      "execution_count": null,
      "id": "037d04db",
      "metadata": {
        "id": "037d04db"
      },
      "outputs": [],
      "source": [
        "cifar10_val = datasets.CIFAR10(data_path, train = False, download = False, transform = transforms.Compose([\n",
        "                                                                                                             transforms.ToTensor(),\n",
        "                                                                                                             transforms.Normalize((0.4914, 0.4822, 0.4465), (0.2470, 0.2435, 0.2616))]))\n"
      ]
    },
    {
      "cell_type": "markdown",
      "id": "f1ef2dcd",
      "metadata": {
        "id": "f1ef2dcd"
      },
      "source": [
        "### Step 9: Limit the dataset\n"
      ]
    },
    {
      "cell_type": "code",
      "execution_count": null,
      "id": "d81727b1",
      "metadata": {
        "id": "d81727b1"
      },
      "outputs": [],
      "source": [
        "label_map = {0: 0, 2: 1}\n",
        "cifar2 = [(img, label_map[label]) for img, label in cifar10 if label in [0, 2]]\n",
        "cifar2_val = [(img, label_map[label]) for img, label in cifar10_val if label in [0, 2]]\n"
      ]
    },
    {
      "cell_type": "markdown",
      "id": "60bb3eac",
      "metadata": {
        "id": "60bb3eac"
      },
      "source": [
        "### Step 10: Create the model\n",
        "**Ex2:** Which number need to written in place of x and y? "
      ]
    },
    {
      "cell_type": "code",
      "execution_count": null,
      "id": "5a34ddf7",
      "metadata": {
        "id": "5a34ddf7"
      },
      "outputs": [],
      "source": [
        "model = nn.Sequential(nn.Linear(32*32*3, 512), nn.Tanh(), nn.Linear(512, 2), nn.LogSoftmax(dim=1))"
      ]
    },
    {
      "cell_type": "markdown",
      "id": "cf32440f",
      "metadata": {
        "id": "cf32440f"
      },
      "source": [
        "### Step 11: Train the model\n"
      ]
    },
    {
      "cell_type": "code",
      "execution_count": null,
      "id": "0571922e",
      "metadata": {
        "colab": {
          "base_uri": "https://localhost:8080/"
        },
        "id": "0571922e",
        "outputId": "84814750-ac76-4c5d-8739-1d48ecf1d1d7"
      },
      "outputs": [
        {
          "output_type": "stream",
          "name": "stdout",
          "text": [
            "Epoch: 0, Loss: 0.438571\n",
            "Epoch: 1, Loss: 0.512907\n",
            "Epoch: 2, Loss: 0.655156\n",
            "Epoch: 3, Loss: 0.501520\n",
            "Epoch: 4, Loss: 0.272134\n",
            "Epoch: 5, Loss: 0.624478\n",
            "Epoch: 6, Loss: 0.331266\n",
            "Epoch: 7, Loss: 0.353600\n",
            "Epoch: 8, Loss: 0.135475\n",
            "Epoch: 9, Loss: 0.447378\n"
          ]
        }
      ],
      "source": [
        "train_loader = torch.utils.data.DataLoader(cifar2, batch_size=64,\n",
        "                                           shuffle=True)\n",
        "learning_rate = 0.01\n",
        "optimizer = optim.SGD(model.parameters(), lr=learning_rate)\n",
        "loss_fn = nn.NLLLoss()\n",
        "n_epochs = 10\n",
        "for epoch in range(n_epochs):\n",
        "    for imgs, labels in train_loader:\n",
        "        optimizer.zero_grad()\n",
        "\n",
        "        batch_size = imgs.shape[0]\n",
        "        outputs = model(imgs.view(batch_size, -1))\n",
        "        loss = loss_fn(outputs, labels)\n",
        "\n",
        "        loss.backward()\n",
        "        optimizer.step()\n",
        "    print(\"Epoch: %d, Loss: %f\" % (epoch, float(loss)))"
      ]
    },
    {
      "cell_type": "markdown",
      "id": "92a127ed",
      "metadata": {
        "id": "92a127ed"
      },
      "source": [
        "### Step 12: Test the model\n"
      ]
    },
    {
      "cell_type": "code",
      "execution_count": null,
      "id": "b0239d06",
      "metadata": {
        "colab": {
          "base_uri": "https://localhost:8080/"
        },
        "id": "b0239d06",
        "outputId": "16dcd22a-6b2c-4769-9f6a-6c3722e1b68f"
      },
      "outputs": [
        {
          "output_type": "stream",
          "name": "stdout",
          "text": [
            "Accuracy: %f 0.8445\n"
          ]
        }
      ],
      "source": [
        "val_loader = torch.utils.data.DataLoader(cifar2_val, batch_size=64,\n",
        "                                       shuffle=False)\n",
        "correct = 0\n",
        "total = 0\n",
        "with torch.no_grad():\n",
        "  for imgs, labels in val_loader:\n",
        "      batch_size = imgs.shape[0]\n",
        "      outputs = model(imgs.view(batch_size, -1))\n",
        "      _, predicted = torch.max(outputs, dim=1)\n",
        "      total += labels.shape[0]\n",
        "      correct += int((predicted == labels).sum())\n",
        "print(\"Accuracy: %f\", correct / total)"
      ]
    },
    {
      "cell_type": "code",
      "execution_count": null,
      "id": "f167b492",
      "metadata": {
        "id": "f167b492"
      },
      "outputs": [],
      "source": [
        ""
      ]
    },
    {
      "cell_type": "markdown",
      "id": "99161df7",
      "metadata": {
        "id": "99161df7"
      },
      "source": [
        "### Step 13 (Optional): Improve the model\n",
        "\n",
        "\n",
        "1.   Try with CNN\n",
        "2.   ...\n",
        "\n"
      ]
    },
    {
      "cell_type": "code",
      "execution_count": null,
      "id": "37270489",
      "metadata": {
        "id": "37270489"
      },
      "outputs": [],
      "source": [
        "class Net(nn.Module):\n",
        "\n",
        "    def __init__(self):\n",
        "        super(Net, self).__init__()\n",
        "        self.conv1 = nn.Conv2d(3, 10, kernel_size=5)\n",
        "        self.conv2 = nn.Conv2d(10, 20, kernel_size=5)\n",
        "        self.conv3 = nn.Conv2d(20, 20, kernel_size=3)\n",
        "        self.mp = nn.MaxPool2d(2)\n",
        "        self.fc = nn.Linear(500, 2)\n",
        "\n",
        "    def forward(self, x):\n",
        "        in_size = x.size(0)\n",
        "        x = F.relu(self.conv1(x))\n",
        "        #print(x.shape)\n",
        "        x = F.relu(self.mp(self.conv2(x)))\n",
        "        x = F.relu(self.mp(self.conv3(x)))\n",
        "        \n",
        "        \n",
        "        x = x.view(in_size, -1)  # flatten the tensor\n",
        "        \n",
        "        x = self.fc(x)\n",
        "        return F.log_softmax(x)\n",
        "\n",
        "\n",
        "model2 = Net()\n",
        "#model = nn.Sequential(nn.Conv2d(3, 10, kernel_size=5),nn.MaxPool2d(2) ,nn.ReLU(), nn.Conv2d(10, 20, kernel_size=5),nn.MaxPool2d(2) ,nn.ReLU(), nn.Linear(500, 2), nn.Softmax(dim=1))"
      ]
    },
    {
      "cell_type": "code",
      "execution_count": null,
      "id": "281083ed",
      "metadata": {
        "id": "281083ed"
      },
      "outputs": [],
      "source": [
        "from torch.autograd import Variable\n",
        "import torch.nn.functional as F\n",
        "optimizer = optim.SGD(model2.parameters(), lr=0.01, momentum=0.5)\n",
        "test_loader = torch.utils.data.DataLoader(dataset=cifar2_val,\n",
        "                                          batch_size=batch_size,\n",
        "                                          shuffle=False)\n",
        "\n",
        "def train(epoch):\n",
        "    model2.train()\n",
        "    for batch_idx, (data, target) in enumerate(train_loader):\n",
        "        data, target = Variable(data), Variable(target)\n",
        "        optimizer.zero_grad()\n",
        "        output = model2(data)\n",
        "        loss = F.nll_loss(output, target)\n",
        "        loss.backward()\n",
        "        optimizer.step()\n",
        "       # if batch_idx % 10 == 0:\n",
        "            #print('Train Epoch: {} [{}/{} ({:.0f}%)]\\tLoss: {:.6f}'.format(\n",
        "                #epoch, batch_idx * len(data), len(train_loader.dataset),\n",
        "                #100. * batch_idx / len(train_loader), loss.item()))\n",
        "\n",
        "\n",
        "def test():\n",
        "    model2.eval()\n",
        "    test_loss = 0\n",
        "    correct = 0\n",
        "    for data, target in test_loader:\n",
        "        data, target = Variable(data, volatile=True), Variable(target)\n",
        "        output = model2(data)\n",
        "        # sum up batch loss\n",
        "        test_loss += F.nll_loss(output, target, size_average=False).data\n",
        "        # get the index of the max log-probability\n",
        "        pred = output.data.max(1, keepdim=True)[1]\n",
        "        correct += pred.eq(target.data.view_as(pred)).cpu().sum()\n",
        "\n",
        "    test_loss /= len(test_loader.dataset)\n",
        "    print('\\nTest set: Average loss: {:.4f}, Accuracy: {}/{} ({:.0f}%)\\n'.format(\n",
        "        test_loss, correct, len(test_loader.dataset),\n",
        "        100. * correct / len(test_loader.dataset)))\n",
        "\n",
        "\n"
      ]
    },
    {
      "cell_type": "code",
      "source": [
        ""
      ],
      "metadata": {
        "id": "BpR2wvnXV_yD"
      },
      "id": "BpR2wvnXV_yD",
      "execution_count": null,
      "outputs": []
    },
    {
      "cell_type": "markdown",
      "id": "0f103c9c",
      "metadata": {
        "id": "0f103c9c"
      },
      "source": [
        "### Ex3: Add more filtters\n"
      ]
    },
    {
      "cell_type": "code",
      "source": [
        "class Net(nn.Module):\n",
        "\n",
        "\n",
        "\n",
        "    def __init__(self):\n",
        "\n",
        "        super(Net, self).__init__()\n",
        "\n",
        "        self.conv1 = nn.Conv2d(3, 10, kernel_size=5)\n",
        "\n",
        "        self.conv2 = nn.Conv2d(10, 20, kernel_size=3)\n",
        "\n",
        "        self.conv3 = nn.Conv2d(20, 20, kernel_size=2)\n",
        "        self.mp = nn.MaxPool2d(2)\n",
        "\n",
        "        self.fc = nn.Linear(720, 2)\n",
        "\n",
        "\n",
        "\n",
        "    def forward(self, x):\n",
        "\n",
        "        in_size = x.size(0)\n",
        "\n",
        "        x = F.relu(self.conv1(x))\n",
        "\n",
        "        #print(x.shape)\n",
        "\n",
        "        x = F.relu(self.mp(self.conv2(x)))\n",
        "\n",
        "        x = F.relu(self.mp(self.conv3(x)))\n",
        "\n",
        "        #x = F.relu(self.mp(self.conv4(x)))\n",
        "\n",
        "        \n",
        "\n",
        "        #print(\"2.\", x.shape)\n",
        "\n",
        "       # x = F.relu(self.mp(self.conv3(x)))\n",
        "\n",
        "        x = x.view(in_size, -1)  # flatten the tensor\n",
        "\n",
        "        #print(\"3.\", x.shape)\n",
        "\n",
        "        x = self.fc(x)\n",
        "\n",
        "        return F.log_softmax(x)\n",
        "\n",
        "\n",
        "\n",
        "\n",
        "model2 = Net()"
      ],
      "metadata": {
        "id": "bYSyv_iXGHvB"
      },
      "id": "bYSyv_iXGHvB",
      "execution_count": null,
      "outputs": []
    },
    {
      "cell_type": "code",
      "source": [
        "test()"
      ],
      "metadata": {
        "colab": {
          "base_uri": "https://localhost:8080/"
        },
        "id": "-0BxPn544fI7",
        "outputId": "51485f4e-fefc-483c-e11f-2e0c9c822f0c"
      },
      "id": "-0BxPn544fI7",
      "execution_count": null,
      "outputs": [
        {
          "output_type": "stream",
          "name": "stderr",
          "text": [
            "/usr/local/lib/python3.7/dist-packages/ipykernel_launcher.py:28: UserWarning: volatile was removed and now has no effect. Use `with torch.no_grad():` instead.\n",
            "/usr/local/lib/python3.7/dist-packages/ipykernel_launcher.py:46: UserWarning: Implicit dimension choice for log_softmax has been deprecated. Change the call to include dim=X as an argument.\n",
            "/usr/local/lib/python3.7/dist-packages/torch/nn/_reduction.py:42: UserWarning: size_average and reduce args will be deprecated, please use reduction='sum' instead.\n",
            "  warnings.warn(warning.format(ret))\n"
          ]
        },
        {
          "output_type": "stream",
          "name": "stdout",
          "text": [
            "\n",
            "Test set: Average loss: 0.6952, Accuracy: 4311/10000 (43%)\n",
            "\n"
          ]
        }
      ]
    },
    {
      "cell_type": "markdown",
      "source": [
        "# Ex4: Try ensamble method"
      ],
      "metadata": {
        "id": "o3sVfPs75KdP"
      },
      "id": "o3sVfPs75KdP"
    },
    {
      "cell_type": "code",
      "source": [
        "\n",
        "class MyEnsemble(nn.Module):\n",
        "    def __init__(self, modelA, modelB):\n",
        "        super(MyEnsemble, self).__init__()\n",
        "        self.modelA = modelA\n",
        "        self.modelB = modelB\n",
        "        self.classifier = nn.Linear(3072, 2)\n"
      ],
      "metadata": {
        "id": "63rcpl3h5kjD"
      },
      "id": "63rcpl3h5kjD",
      "execution_count": null,
      "outputs": []
    },
    {
      "cell_type": "code",
      "source": [
        ""
      ],
      "metadata": {
        "id": "89OWdIbMu-fq"
      },
      "id": "89OWdIbMu-fq",
      "execution_count": null,
      "outputs": []
    },
    {
      "cell_type": "code",
      "source": [
        ""
      ],
      "metadata": {
        "id": "DSRGWCUOu5vU"
      },
      "id": "DSRGWCUOu5vU",
      "execution_count": null,
      "outputs": []
    }
  ],
  "metadata": {
    "kernelspec": {
      "display_name": "Python 3",
      "language": "python",
      "name": "python3"
    },
    "language_info": {
      "codemirror_mode": {
        "name": "ipython",
        "version": 3
      },
      "file_extension": ".py",
      "mimetype": "text/x-python",
      "name": "python",
      "nbconvert_exporter": "python",
      "pygments_lexer": "ipython3",
      "version": "3.8.8"
    },
    "colab": {
      "name": "CNN vs Full connected NN (MNIST) - part 2.ipynb",
      "provenance": [],
      "include_colab_link": true
    },
    "accelerator": "GPU"
  },
  "nbformat": 4,
  "nbformat_minor": 5
}