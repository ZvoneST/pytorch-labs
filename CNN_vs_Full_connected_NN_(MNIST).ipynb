{
  "cells": [
    {
      "cell_type": "markdown",
      "metadata": {
        "id": "view-in-github",
        "colab_type": "text"
      },
      "source": [
        "<a href=\"https://colab.research.google.com/github/ZvoneST/pytorch-labs/blob/master/CNN_vs_Full_connected_NN_(MNIST).ipynb\" target=\"_parent\"><img src=\"https://colab.research.google.com/assets/colab-badge.svg\" alt=\"Open In Colab\"/></a>"
      ]
    },
    {
      "cell_type": "markdown",
      "source": [
        "# CNN vs Full connected NN (MNIST)"
      ],
      "metadata": {
        "id": "iAGkaL4LpDp3"
      },
      "id": "iAGkaL4LpDp3"
    },
    {
      "cell_type": "code",
      "execution_count": null,
      "id": "087eadea",
      "metadata": {
        "id": "087eadea"
      },
      "outputs": [],
      "source": [
        "from torchvision import datasets\n",
        "from torchvision import transforms\n",
        "import torch\n",
        "import torch.nn as nn\n",
        "from torch import optim\n",
        "import matplotlib.pyplot as plt\n",
        "%matplotlib inline"
      ]
    },
    {
      "cell_type": "code",
      "execution_count": null,
      "id": "ada05ad3",
      "metadata": {
        "scrolled": true,
        "colab": {
          "base_uri": "https://localhost:8080/",
          "height": 449,
          "referenced_widgets": [
            "4ad15a27417843a0ae10f49c1b575609",
            "908db03b525541699260c2cf6a432d55",
            "3d75c13b86754fbf9af0aaf1e3ceeede",
            "6ecebf15afca47dc9439fc8f2d72e59a",
            "5a83c33124534ccf91a24395b0e545bd",
            "c38daa32b3954f5bb390e3293e2a983e",
            "bc9f15139f194bd3b8c1497219cf27af",
            "37030f8f89e844fbae9964fdaac10cc8",
            "3a3c6c2b62924758bc0f6b53cbee3585",
            "ccf413c8315e4626a16c3c5d015efe4e",
            "01595d685763449cb2a057f6daf94e2f",
            "978c392c14d44f3891d36b14938f7ae9",
            "534382d23a0d489c9498c10727da018b",
            "54c2f1db9cfd468bb61e7d5f3a46865e",
            "a6ba344fa5ac45aea567a124eaeaa04f",
            "b7de89653c94448493b97627e9b496cd",
            "cceb0a109c5442ee801f31ebb1d3f0c2",
            "7a1573f4ec184e6ea1e86b78096226c3",
            "f96e35f5282043e48cbcbfffe1b690ec",
            "922245026048412fb94adcdce7e8fb50",
            "8f29eea3e7454cc89fb45535061b9dae",
            "b1f11f234b9f4226acdfb9cdcd78e875",
            "fe2bd1fe7eb4482aae9aefcbdc7b9ac4",
            "c1c2b1c2da5346d38999ec9f084ca2ba",
            "f32443b746054b3a9857e96ac520e78d",
            "ffa02cf881734ca6b1538c815196bee0",
            "8ba87c45907f47cc97045158038ce25c",
            "0d2f18c92e974f21a19db99f0ca1f031",
            "ae0a145c322045a9bf4011cfd1c89b4c",
            "e1fdba80eed744909f1de79c9ef9870e",
            "4c0b4fa03024478ca71215479326d226",
            "65c8b7b679c146d3947548ff7acf806a",
            "cd68aeec733c471b8f3b263e49139000",
            "23bf2f39d9a748238307a0f7bb338d96",
            "3cb945395022446db57d3f371da0464d",
            "cee4e51bb44e4cec9044b26602e0ec02",
            "bf63e35905e74513a1f99d7f0e4f70eb",
            "fdd5fd78e3b842bd89dcd1298002a5fc",
            "86132671f39d45b9b3216cc2ba7363d8",
            "9651c83174f1474fb39cfacef937760b",
            "29d7524d58794c0c912459df38b875f9",
            "c911544986164a33bf6699168e3a36bd",
            "a6e27ce74e86473ebfab1990fee2a94f",
            "739ccce6b2a142aca40f8a84aaf11d7c"
          ]
        },
        "id": "ada05ad3",
        "outputId": "4498953b-a596-4409-d97a-5e55f87d8c0c"
      },
      "outputs": [
        {
          "output_type": "stream",
          "name": "stdout",
          "text": [
            "Downloading http://yann.lecun.com/exdb/mnist/train-images-idx3-ubyte.gz\n",
            "Downloading http://yann.lecun.com/exdb/mnist/train-images-idx3-ubyte.gz to downloads/MNIST/raw/train-images-idx3-ubyte.gz\n"
          ]
        },
        {
          "output_type": "display_data",
          "data": {
            "text/plain": [
              "  0%|          | 0/9912422 [00:00<?, ?it/s]"
            ],
            "application/vnd.jupyter.widget-view+json": {
              "version_major": 2,
              "version_minor": 0,
              "model_id": "4ad15a27417843a0ae10f49c1b575609"
            }
          },
          "metadata": {}
        },
        {
          "output_type": "stream",
          "name": "stdout",
          "text": [
            "Extracting downloads/MNIST/raw/train-images-idx3-ubyte.gz to downloads/MNIST/raw\n",
            "\n",
            "Downloading http://yann.lecun.com/exdb/mnist/train-labels-idx1-ubyte.gz\n",
            "Downloading http://yann.lecun.com/exdb/mnist/train-labels-idx1-ubyte.gz to downloads/MNIST/raw/train-labels-idx1-ubyte.gz\n"
          ]
        },
        {
          "output_type": "display_data",
          "data": {
            "text/plain": [
              "  0%|          | 0/28881 [00:00<?, ?it/s]"
            ],
            "application/vnd.jupyter.widget-view+json": {
              "version_major": 2,
              "version_minor": 0,
              "model_id": "978c392c14d44f3891d36b14938f7ae9"
            }
          },
          "metadata": {}
        },
        {
          "output_type": "stream",
          "name": "stdout",
          "text": [
            "Extracting downloads/MNIST/raw/train-labels-idx1-ubyte.gz to downloads/MNIST/raw\n",
            "\n",
            "Downloading http://yann.lecun.com/exdb/mnist/t10k-images-idx3-ubyte.gz\n",
            "Downloading http://yann.lecun.com/exdb/mnist/t10k-images-idx3-ubyte.gz to downloads/MNIST/raw/t10k-images-idx3-ubyte.gz\n"
          ]
        },
        {
          "output_type": "display_data",
          "data": {
            "text/plain": [
              "  0%|          | 0/1648877 [00:00<?, ?it/s]"
            ],
            "application/vnd.jupyter.widget-view+json": {
              "version_major": 2,
              "version_minor": 0,
              "model_id": "fe2bd1fe7eb4482aae9aefcbdc7b9ac4"
            }
          },
          "metadata": {}
        },
        {
          "output_type": "stream",
          "name": "stdout",
          "text": [
            "Extracting downloads/MNIST/raw/t10k-images-idx3-ubyte.gz to downloads/MNIST/raw\n",
            "\n",
            "Downloading http://yann.lecun.com/exdb/mnist/t10k-labels-idx1-ubyte.gz\n",
            "Downloading http://yann.lecun.com/exdb/mnist/t10k-labels-idx1-ubyte.gz to downloads/MNIST/raw/t10k-labels-idx1-ubyte.gz\n"
          ]
        },
        {
          "output_type": "display_data",
          "data": {
            "text/plain": [
              "  0%|          | 0/4542 [00:00<?, ?it/s]"
            ],
            "application/vnd.jupyter.widget-view+json": {
              "version_major": 2,
              "version_minor": 0,
              "model_id": "23bf2f39d9a748238307a0f7bb338d96"
            }
          },
          "metadata": {}
        },
        {
          "output_type": "stream",
          "name": "stdout",
          "text": [
            "Extracting downloads/MNIST/raw/t10k-labels-idx1-ubyte.gz to downloads/MNIST/raw\n",
            "\n"
          ]
        }
      ],
      "source": [
        "data_path = 'downloads/'\n",
        "mnist = datasets.MNIST(data_path, train=True, download=True)\n",
        "mnist_val = datasets.MNIST(data_path, train=False, download=True)"
      ]
    },
    {
      "cell_type": "code",
      "execution_count": null,
      "id": "6869574d",
      "metadata": {
        "id": "6869574d"
      },
      "outputs": [],
      "source": [
        "img, label = mnist[1000]"
      ]
    },
    {
      "cell_type": "code",
      "execution_count": null,
      "id": "dd6ef27b",
      "metadata": {
        "colab": {
          "base_uri": "https://localhost:8080/",
          "height": 35
        },
        "id": "dd6ef27b",
        "outputId": "ae6ad82c-9580-42b3-87bc-f2887d645496"
      },
      "outputs": [
        {
          "output_type": "execute_result",
          "data": {
            "text/plain": [
              "'0 - zero'"
            ],
            "application/vnd.google.colaboratory.intrinsic+json": {
              "type": "string"
            }
          },
          "metadata": {},
          "execution_count": 4
        }
      ],
      "source": [
        "mnist.classes[label]"
      ]
    },
    {
      "cell_type": "code",
      "execution_count": null,
      "id": "5dda9f4d",
      "metadata": {
        "colab": {
          "base_uri": "https://localhost:8080/",
          "height": 283
        },
        "id": "5dda9f4d",
        "outputId": "ef388f5e-9a3d-449b-cb14-a233899a3144"
      },
      "outputs": [
        {
          "output_type": "execute_result",
          "data": {
            "text/plain": [
              "<matplotlib.image.AxesImage at 0x7f2e14ab6e50>"
            ]
          },
          "metadata": {},
          "execution_count": 5
        },
        {
          "output_type": "display_data",
          "data": {
            "text/plain": [
              "<Figure size 432x288 with 1 Axes>"
            ],
            "image/png": "[encoded data removed]"
          },
          "metadata": {
            "needs_background": "light"
          }
        }
      ],
      "source": [
        "plt.imshow(img, cmap='gray')"
      ]
    },
    {
      "cell_type": "code",
      "execution_count": null,
      "id": "55a35037",
      "metadata": {
        "id": "55a35037"
      },
      "outputs": [],
      "source": [
        "mnist = datasets.MNIST(data_path, train=True, download=False, transform=transforms.ToTensor())"
      ]
    },
    {
      "cell_type": "code",
      "execution_count": null,
      "id": "9839aa01",
      "metadata": {
        "id": "9839aa01"
      },
      "outputs": [],
      "source": [
        "imgs = torch.stack([img_t for img_t, _ in mnist], dim=3)"
      ]
    },
    {
      "cell_type": "code",
      "execution_count": null,
      "id": "59aa2ee7",
      "metadata": {
        "colab": {
          "base_uri": "https://localhost:8080/"
        },
        "id": "59aa2ee7",
        "outputId": "8b37bf07-3e80-4843-bc08-f40b7ea65082"
      },
      "outputs": [
        {
          "output_type": "execute_result",
          "data": {
            "text/plain": [
              "tensor([0.1307])"
            ]
          },
          "metadata": {},
          "execution_count": 8
        }
      ],
      "source": [
        "imgs.view(1, -1).mean(dim=1)"
      ]
    },
    {
      "cell_type": "code",
      "execution_count": null,
      "id": "469847d8",
      "metadata": {
        "colab": {
          "base_uri": "https://localhost:8080/"
        },
        "id": "469847d8",
        "outputId": "9779536f-4e16-471c-f67a-2f39da23cdcb"
      },
      "outputs": [
        {
          "output_type": "execute_result",
          "data": {
            "text/plain": [
              "tensor([0.3081])"
            ]
          },
          "metadata": {},
          "execution_count": 9
        }
      ],
      "source": [
        "imgs.view(1, -1).std(dim=1)"
      ]
    },
    {
      "cell_type": "code",
      "execution_count": null,
      "id": "d0028073",
      "metadata": {
        "id": "d0028073"
      },
      "outputs": [],
      "source": [
        "mnist = datasets.MNIST(data_path, train=True, download=False, \n",
        "                       transform=transforms.Compose([\n",
        "                           transforms.ToTensor(),\n",
        "                           transforms.Normalize((0.1307),\n",
        "                                               (0.3081))]))\n",
        "\n",
        "mnist_val = datasets.MNIST(data_path, train=False, download=False, \n",
        "                       transform=transforms.Compose([\n",
        "                           transforms.ToTensor(),\n",
        "                           transforms.Normalize((0.1307),\n",
        "                                               (0.3081))]))"
      ]
    },
    {
      "cell_type": "markdown",
      "source": [
        " **Ex1**..  Write the code for the neural network written in the picture."
      ],
      "metadata": {
        "id": "38epyWKh11Ks"
      },
      "id": "38epyWKh11Ks"
    },
    {
      "cell_type": "markdown",
      "source": [
        "![nn.png](data:image/png;base64,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)"
      ],
      "metadata": {
        "id": "Ptk237Kd0CBB"
      },
      "id": "Ptk237Kd0CBB"
    },
    {
      "cell_type": "code",
      "execution_count": null,
      "id": "ed0709a0",
      "metadata": {
        "id": "ed0709a0"
      },
      "outputs": [],
      "source": [
        "input_size = 784 #  28*28\n",
        "hidden_sizes = [128, 64]\n",
        "output_size = 10\n",
        "\n",
        "model = nn.Sequential(nn.Linear(input_size, hidden_sizes[0]),\n",
        "                     nn.ReLU(),\n",
        "                     nn.Linear(hidden_sizes[0], hidden_sizes[1]),\n",
        "                     nn.ReLU(),\n",
        "                     nn.Linear(hidden_sizes[1], output_size),\n",
        "                     nn.LogSoftmax(dim=1))\n",
        "\n"
      ]
    },
    {
      "cell_type": "code",
      "execution_count": null,
      "id": "a43b093c",
      "metadata": {
        "colab": {
          "base_uri": "https://localhost:8080/"
        },
        "id": "a43b093c",
        "outputId": "ba71794d-a082-45b4-f754-884e83b38fb0"
      },
      "outputs": [
        {
          "output_type": "stream",
          "name": "stdout",
          "text": [
            "Epoch: 0, Loss: 0.285218\n",
            "Epoch: 1, Loss: 0.412948\n",
            "Epoch: 2, Loss: 0.078897\n",
            "Epoch: 3, Loss: 0.181380\n",
            "Epoch: 4, Loss: 0.205194\n",
            "Epoch: 5, Loss: 0.092807\n",
            "Epoch: 6, Loss: 0.077947\n",
            "Epoch: 7, Loss: 0.095562\n",
            "Epoch: 8, Loss: 0.126792\n",
            "Epoch: 9, Loss: 0.159269\n"
          ]
        }
      ],
      "source": [
        "train_loader = torch.utils.data.DataLoader(mnist, batch_size=64,\n",
        "                                           shuffle=True)\n",
        "\n",
        "optimizer = optim.SGD(model.parameters(), lr=0.01)\n",
        "loss_fn = nn.NLLLoss()\n",
        "\n",
        "n_epochs = 10\n",
        "for epoch in range(n_epochs):\n",
        "    for imgs, labels in train_loader:\n",
        "        optimizer.zero_grad()\n",
        "\n",
        "        batch_size = imgs.shape[0]\n",
        "        output = model(imgs.view(batch_size, -1))\n",
        "\n",
        "        loss = loss_fn(output, labels)\n",
        "\n",
        "        loss.backward()\n",
        "\n",
        "        optimizer.step()\n",
        "    print(\"Epoch: %d, Loss: %f\" % (epoch, float(loss)))"
      ]
    },
    {
      "cell_type": "code",
      "execution_count": null,
      "id": "e05112ce",
      "metadata": {
        "colab": {
          "base_uri": "https://localhost:8080/"
        },
        "id": "e05112ce",
        "outputId": "d8db0188-1302-41d3-9e80-999045ef13c2"
      },
      "outputs": [
        {
          "output_type": "stream",
          "name": "stdout",
          "text": [
            "Accuracy: 0.9627\n"
          ]
        }
      ],
      "source": [
        "val_loader = torch.utils.data.DataLoader(mnist_val, batch_size=64,\n",
        "                                           shuffle=True)\n",
        "\n",
        "\n",
        "correct = 0\n",
        "total = 0\n",
        "with torch.no_grad():\n",
        "    for imgs, labels in val_loader:\n",
        "        batch_size = imgs.shape[0]\n",
        "        outputs = model(imgs.view(batch_size, -1))\n",
        "        _, predicted = torch.max(outputs, dim=1)\n",
        "        total += labels.shape[0]\n",
        "        correct += int((predicted == labels).sum())\n",
        "print(\"Accuracy:\", correct / total)"
      ]
    },
    {
      "cell_type": "markdown",
      "source": [
        "**Remember we got 98% accuracy last time using CNN!**"
      ],
      "metadata": {
        "id": "zdvduzBY48le"
      },
      "id": "zdvduzBY48le"
    }
  ],
  "metadata": {
    "kernelspec": {
      "display_name": "Python 3 (ipykernel)",
      "language": "python",
      "name": "python3"
    },
    "language_info": {
      "codemirror_mode": {
        "name": "ipython",
        "version": 3
      },
      "file_extension": ".py",
      "mimetype": "text/x-python",
      "name": "python",
      "nbconvert_exporter": "python",
      "pygments_lexer": "ipython3",
      "version": "3.8.8"
    },
    "colab": {
      "name": "CNN vs Full connected NN (MNIST).ipynb",
      "provenance": [],
      "collapsed_sections": [],
      "include_colab_link": true
    },
    "widgets": {
      "application/vnd.jupyter.widget-state+json": {
        "4ad15a27417843a0ae10f49c1b575609": {
          "model_module": "@jupyter-widgets/controls",
          "model_name": "HBoxModel",
          "model_module_version": "1.5.0",
          "state": {
            "_dom_classes": [],
            "_model_module": "@jupyter-widgets/controls",
            "_model_module_version": "1.5.0",
            "_model_name": "HBoxModel",
            "_view_count": null,
            "_view_module": "@jupyter-widgets/controls",
            "_view_module_version": "1.5.0",
            "_view_name": "HBoxView",
            "box_style": "",
            "children": [
              "IPY_MODEL_908db03b525541699260c2cf6a432d55",
              "IPY_MODEL_3d75c13b86754fbf9af0aaf1e3ceeede",
              "IPY_MODEL_6ecebf15afca47dc9439fc8f2d72e59a"
            ],
            "layout": "IPY_MODEL_5a83c33124534ccf91a24395b0e545bd"
          }
        },
        "908db03b525541699260c2cf6a432d55": {
          "model_module": "@jupyter-widgets/controls",
          "model_name": "HTMLModel",
          "model_module_version": "1.5.0",
          "state": {
            "_dom_classes": [],
            "_model_module": "@jupyter-widgets/controls",
            "_model_module_version": "1.5.0",
            "_model_name": "HTMLModel",
            "_view_count": null,
            "_view_module": "@jupyter-widgets/controls",
            "_view_module_version": "1.5.0",
            "_view_name": "HTMLView",
            "description": "",
            "description_tooltip": null,
            "layout": "IPY_MODEL_c38daa32b3954f5bb390e3293e2a983e",
            "placeholder": "​",
            "style": "IPY_MODEL_bc9f15139f194bd3b8c1497219cf27af",
            "value": ""
          }
        },
        "3d75c13b86754fbf9af0aaf1e3ceeede": {
          "model_module": "@jupyter-widgets/controls",
          "model_name": "FloatProgressModel",
          "model_module_version": "1.5.0",
          "state": {
            "_dom_classes": [],
            "_model_module": "@jupyter-widgets/controls",
            "_model_module_version": "1.5.0",
            "_model_name": "FloatProgressModel",
            "_view_count": null,
            "_view_module": "@jupyter-widgets/controls",
            "_view_module_version": "1.5.0",
            "_view_name": "ProgressView",
            "bar_style": "success",
            "description": "",
            "description_tooltip": null,
            "layout": "IPY_MODEL_37030f8f89e844fbae9964fdaac10cc8",
            "max": 9912422,
            "min": 0,
            "orientation": "horizontal",
            "style": "IPY_MODEL_3a3c6c2b62924758bc0f6b53cbee3585",
            "value": 9912422
          }
        },
        "6ecebf15afca47dc9439fc8f2d72e59a": {
          "model_module": "@jupyter-widgets/controls",
          "model_name": "HTMLModel",
          "model_module_version": "1.5.0",
          "state": {
            "_dom_classes": [],
            "_model_module": "@jupyter-widgets/controls",
            "_model_module_version": "1.5.0",
            "_model_name": "HTMLModel",
            "_view_count": null,
            "_view_module": "@jupyter-widgets/controls",
            "_view_module_version": "1.5.0",
            "_view_name": "HTMLView",
            "description": "",
            "description_tooltip": null,
            "layout": "IPY_MODEL_ccf413c8315e4626a16c3c5d015efe4e",
            "placeholder": "​",
            "style": "IPY_MODEL_01595d685763449cb2a057f6daf94e2f",
            "value": " 9913344/? [00:00&lt;00:00, 16714166.60it/s]"
          }
        },
        "5a83c33124534ccf91a24395b0e545bd": {
          "model_module": "@jupyter-widgets/base",
          "model_name": "LayoutModel",
          "model_module_version": "1.2.0",
          "state": {
            "_model_module": "@jupyter-widgets/base",
            "_model_module_version": "1.2.0",
            "_model_name": "LayoutModel",
            "_view_count": null,
            "_view_module": "@jupyter-widgets/base",
            "_view_module_version": "1.2.0",
            "_view_name": "LayoutView",
            "align_content": null,
            "align_items": null,
            "align_self": null,
            "border": null,
            "bottom": null,
            "display": null,
            "flex": null,
            "flex_flow": null,
            "grid_area": null,
            "grid_auto_columns": null,
            "grid_auto_flow": null,
            "grid_auto_rows": null,
            "grid_column": null,
            "grid_gap": null,
            "grid_row": null,
            "grid_template_areas": null,
            "grid_template_columns": null,
            "grid_template_rows": null,
            "height": null,
            "justify_content": null,
            "justify_items": null,
            "left": null,
            "margin": null,
            "max_height": null,
            "max_width": null,
            "min_height": null,
            "min_width": null,
            "object_fit": null,
            "object_position": null,
            "order": null,
            "overflow": null,
            "overflow_x": null,
            "overflow_y": null,
            "padding": null,
            "right": null,
            "top": null,
            "visibility": null,
            "width": null
          }
        },
        "c38daa32b3954f5bb390e3293e2a983e": {
          "model_module": "@jupyter-widgets/base",
          "model_name": "LayoutModel",
          "model_module_version": "1.2.0",
          "state": {
            "_model_module": "@jupyter-widgets/base",
            "_model_module_version": "1.2.0",
            "_model_name": "LayoutModel",
            "_view_count": null,
            "_view_module": "@jupyter-widgets/base",
            "_view_module_version": "1.2.0",
            "_view_name": "LayoutView",
            "align_content": null,
            "align_items": null,
            "align_self": null,
            "border": null,
            "bottom": null,
            "display": null,
            "flex": null,
            "flex_flow": null,
            "grid_area": null,
            "grid_auto_columns": null,
            "grid_auto_flow": null,
            "grid_auto_rows": null,
            "grid_column": null,
            "grid_gap": null,
            "grid_row": null,
            "grid_template_areas": null,
            "grid_template_columns": null,
            "grid_template_rows": null,
            "height": null,
            "justify_content": null,
            "justify_items": null,
            "left": null,
            "margin": null,
            "max_height": null,
            "max_width": null,
            "min_height": null,
            "min_width": null,
            "object_fit": null,
            "object_position": null,
            "order": null,
            "overflow": null,
            "overflow_x": null,
            "overflow_y": null,
            "padding": null,
            "right": null,
            "top": null,
            "visibility": null,
            "width": null
          }
        },
        "bc9f15139f194bd3b8c1497219cf27af": {
          "model_module": "@jupyter-widgets/controls",
          "model_name": "DescriptionStyleModel",
          "model_module_version": "1.5.0",
          "state": {
            "_model_module": "@jupyter-widgets/controls",
            "_model_module_version": "1.5.0",
            "_model_name": "DescriptionStyleModel",
            "_view_count": null,
            "_view_module": "@jupyter-widgets/base",
            "_view_module_version": "1.2.0",
            "_view_name": "StyleView",
            "description_width": ""
          }
        },
        "37030f8f89e844fbae9964fdaac10cc8": {
          "model_module": "@jupyter-widgets/base",
          "model_name": "LayoutModel",
          "model_module_version": "1.2.0",
          "state": {
            "_model_module": "@jupyter-widgets/base",
            "_model_module_version": "1.2.0",
            "_model_name": "LayoutModel",
            "_view_count": null,
            "_view_module": "@jupyter-widgets/base",
            "_view_module_version": "1.2.0",
            "_view_name": "LayoutView",
            "align_content": null,
            "align_items": null,
            "align_self": null,
            "border": null,
            "bottom": null,
            "display": null,
            "flex": null,
            "flex_flow": null,
            "grid_area": null,
            "grid_auto_columns": null,
            "grid_auto_flow": null,
            "grid_auto_rows": null,
            "grid_column": null,
            "grid_gap": null,
            "grid_row": null,
            "grid_template_areas": null,
            "grid_template_columns": null,
            "grid_template_rows": null,
            "height": null,
            "justify_content": null,
            "justify_items": null,
            "left": null,
            "margin": null,
            "max_height": null,
            "max_width": null,
            "min_height": null,
            "min_width": null,
            "object_fit": null,
            "object_position": null,
            "order": null,
            "overflow": null,
            "overflow_x": null,
            "overflow_y": null,
            "padding": null,
            "right": null,
            "top": null,
            "visibility": null,
            "width": null
          }
        },
        "3a3c6c2b62924758bc0f6b53cbee3585": {
          "model_module": "@jupyter-widgets/controls",
          "model_name": "ProgressStyleModel",
          "model_module_version": "1.5.0",
          "state": {
            "_model_module": "@jupyter-widgets/controls",
            "_model_module_version": "1.5.0",
            "_model_name": "ProgressStyleModel",
            "_view_count": null,
            "_view_module": "@jupyter-widgets/base",
            "_view_module_version": "1.2.0",
            "_view_name": "StyleView",
            "bar_color": null,
            "description_width": ""
          }
        },
        "ccf413c8315e4626a16c3c5d015efe4e": {
          "model_module": "@jupyter-widgets/base",
          "model_name": "LayoutModel",
          "model_module_version": "1.2.0",
          "state": {
            "_model_module": "@jupyter-widgets/base",
            "_model_module_version": "1.2.0",
            "_model_name": "LayoutModel",
            "_view_count": null,
            "_view_module": "@jupyter-widgets/base",
            "_view_module_version": "1.2.0",
            "_view_name": "LayoutView",
            "align_content": null,
            "align_items": null,
            "align_self": null,
            "border": null,
            "bottom": null,
            "display": null,
            "flex": null,
            "flex_flow": null,
            "grid_area": null,
            "grid_auto_columns": null,
            "grid_auto_flow": null,
            "grid_auto_rows": null,
            "grid_column": null,
            "grid_gap": null,
            "grid_row": null,
            "grid_template_areas": null,
            "grid_template_columns": null,
            "grid_template_rows": null,
            "height": null,
            "justify_content": null,
            "justify_items": null,
            "left": null,
            "margin": null,
            "max_height": null,
            "max_width": null,
            "min_height": null,
            "min_width": null,
            "object_fit": null,
            "object_position": null,
            "order": null,
            "overflow": null,
            "overflow_x": null,
            "overflow_y": null,
            "padding": null,
            "right": null,
            "top": null,
            "visibility": null,
            "width": null
          }
        },
        "01595d685763449cb2a057f6daf94e2f": {
          "model_module": "@jupyter-widgets/controls",
          "model_name": "DescriptionStyleModel",
          "model_module_version": "1.5.0",
          "state": {
            "_model_module": "@jupyter-widgets/controls",
            "_model_module_version": "1.5.0",
            "_model_name": "DescriptionStyleModel",
            "_view_count": null,
            "_view_module": "@jupyter-widgets/base",
            "_view_module_version": "1.2.0",
            "_view_name": "StyleView",
            "description_width": ""
          }
        },
        "978c392c14d44f3891d36b14938f7ae9": {
          "model_module": "@jupyter-widgets/controls",
          "model_name": "HBoxModel",
          "model_module_version": "1.5.0",
          "state": {
            "_dom_classes": [],
            "_model_module": "@jupyter-widgets/controls",
            "_model_module_version": "1.5.0",
            "_model_name": "HBoxModel",
            "_view_count": null,
            "_view_module": "@jupyter-widgets/controls",
            "_view_module_version": "1.5.0",
            "_view_name": "HBoxView",
            "box_style": "",
            "children": [
              "IPY_MODEL_534382d23a0d489c9498c10727da018b",
              "IPY_MODEL_54c2f1db9cfd468bb61e7d5f3a46865e",
              "IPY_MODEL_a6ba344fa5ac45aea567a124eaeaa04f"
            ],
            "layout": "IPY_MODEL_b7de89653c94448493b97627e9b496cd"
          }
        },
        "534382d23a0d489c9498c10727da018b": {
          "model_module": "@jupyter-widgets/controls",
          "model_name": "HTMLModel",
          "model_module_version": "1.5.0",
          "state": {
            "_dom_classes": [],
            "_model_module": "@jupyter-widgets/controls",
            "_model_module_version": "1.5.0",
            "_model_name": "HTMLModel",
            "_view_count": null,
            "_view_module": "@jupyter-widgets/controls",
            "_view_module_version": "1.5.0",
            "_view_name": "HTMLView",
            "description": "",
            "description_tooltip": null,
            "layout": "IPY_MODEL_cceb0a109c5442ee801f31ebb1d3f0c2",
            "placeholder": "​",
            "style": "IPY_MODEL_7a1573f4ec184e6ea1e86b78096226c3",
            "value": ""
          }
        },
        "54c2f1db9cfd468bb61e7d5f3a46865e": {
          "model_module": "@jupyter-widgets/controls",
          "model_name": "FloatProgressModel",
          "model_module_version": "1.5.0",
          "state": {
            "_dom_classes": [],
            "_model_module": "@jupyter-widgets/controls",
            "_model_module_version": "1.5.0",
            "_model_name": "FloatProgressModel",
            "_view_count": null,
            "_view_module": "@jupyter-widgets/controls",
            "_view_module_version": "1.5.0",
            "_view_name": "ProgressView",
            "bar_style": "success",
            "description": "",
            "description_tooltip": null,
            "layout": "IPY_MODEL_f96e35f5282043e48cbcbfffe1b690ec",
            "max": 28881,
            "min": 0,
            "orientation": "horizontal",
            "style": "IPY_MODEL_922245026048412fb94adcdce7e8fb50",
            "value": 28881
          }
        },
        "a6ba344fa5ac45aea567a124eaeaa04f": {
          "model_module": "@jupyter-widgets/controls",
          "model_name": "HTMLModel",
          "model_module_version": "1.5.0",
          "state": {
            "_dom_classes": [],
            "_model_module": "@jupyter-widgets/controls",
            "_model_module_version": "1.5.0",
            "_model_name": "HTMLModel",
            "_view_count": null,
            "_view_module": "@jupyter-widgets/controls",
            "_view_module_version": "1.5.0",
            "_view_name": "HTMLView",
            "description": "",
            "description_tooltip": null,
            "layout": "IPY_MODEL_8f29eea3e7454cc89fb45535061b9dae",
            "placeholder": "​",
            "style": "IPY_MODEL_b1f11f234b9f4226acdfb9cdcd78e875",
            "value": " 29696/? [00:00&lt;00:00, 9017.28it/s]"
          }
        },
        "b7de89653c94448493b97627e9b496cd": {
          "model_module": "@jupyter-widgets/base",
          "model_name": "LayoutModel",
          "model_module_version": "1.2.0",
          "state": {
            "_model_module": "@jupyter-widgets/base",
            "_model_module_version": "1.2.0",
            "_model_name": "LayoutModel",
            "_view_count": null,
            "_view_module": "@jupyter-widgets/base",
            "_view_module_version": "1.2.0",
            "_view_name": "LayoutView",
            "align_content": null,
            "align_items": null,
            "align_self": null,
            "border": null,
            "bottom": null,
            "display": null,
            "flex": null,
            "flex_flow": null,
            "grid_area": null,
            "grid_auto_columns": null,
            "grid_auto_flow": null,
            "grid_auto_rows": null,
            "grid_column": null,
            "grid_gap": null,
            "grid_row": null,
            "grid_template_areas": null,
            "grid_template_columns": null,
            "grid_template_rows": null,
            "height": null,
            "justify_content": null,
            "justify_items": null,
            "left": null,
            "margin": null,
            "max_height": null,
            "max_width": null,
            "min_height": null,
            "min_width": null,
            "object_fit": null,
            "object_position": null,
            "order": null,
            "overflow": null,
            "overflow_x": null,
            "overflow_y": null,
            "padding": null,
            "right": null,
            "top": null,
            "visibility": null,
            "width": null
          }
        },
        "cceb0a109c5442ee801f31ebb1d3f0c2": {
          "model_module": "@jupyter-widgets/base",
          "model_name": "LayoutModel",
          "model_module_version": "1.2.0",
          "state": {
            "_model_module": "@jupyter-widgets/base",
            "_model_module_version": "1.2.0",
            "_model_name": "LayoutModel",
            "_view_count": null,
            "_view_module": "@jupyter-widgets/base",
            "_view_module_version": "1.2.0",
            "_view_name": "LayoutView",
            "align_content": null,
            "align_items": null,
            "align_self": null,
            "border": null,
            "bottom": null,
            "display": null,
            "flex": null,
            "flex_flow": null,
            "grid_area": null,
            "grid_auto_columns": null,
            "grid_auto_flow": null,
            "grid_auto_rows": null,
            "grid_column": null,
            "grid_gap": null,
            "grid_row": null,
            "grid_template_areas": null,
            "grid_template_columns": null,
            "grid_template_rows": null,
            "height": null,
            "justify_content": null,
            "justify_items": null,
            "left": null,
            "margin": null,
            "max_height": null,
            "max_width": null,
            "min_height": null,
            "min_width": null,
            "object_fit": null,
            "object_position": null,
            "order": null,
            "overflow": null,
            "overflow_x": null,
            "overflow_y": null,
            "padding": null,
            "right": null,
            "top": null,
            "visibility": null,
            "width": null
          }
        },
        "7a1573f4ec184e6ea1e86b78096226c3": {
          "model_module": "@jupyter-widgets/controls",
          "model_name": "DescriptionStyleModel",
          "model_module_version": "1.5.0",
          "state": {
            "_model_module": "@jupyter-widgets/controls",
            "_model_module_version": "1.5.0",
            "_model_name": "DescriptionStyleModel",
            "_view_count": null,
            "_view_module": "@jupyter-widgets/base",
            "_view_module_version": "1.2.0",
            "_view_name": "StyleView",
            "description_width": ""
          }
        },
        "f96e35f5282043e48cbcbfffe1b690ec": {
          "model_module": "@jupyter-widgets/base",
          "model_name": "LayoutModel",
          "model_module_version": "1.2.0",
          "state": {
            "_model_module": "@jupyter-widgets/base",
            "_model_module_version": "1.2.0",
            "_model_name": "LayoutModel",
            "_view_count": null,
            "_view_module": "@jupyter-widgets/base",
            "_view_module_version": "1.2.0",
            "_view_name": "LayoutView",
            "align_content": null,
            "align_items": null,
            "align_self": null,
            "border": null,
            "bottom": null,
            "display": null,
            "flex": null,
            "flex_flow": null,
            "grid_area": null,
            "grid_auto_columns": null,
            "grid_auto_flow": null,
            "grid_auto_rows": null,
            "grid_column": null,
            "grid_gap": null,
            "grid_row": null,
            "grid_template_areas": null,
            "grid_template_columns": null,
            "grid_template_rows": null,
            "height": null,
            "justify_content": null,
            "justify_items": null,
            "left": null,
            "margin": null,
            "max_height": null,
            "max_width": null,
            "min_height": null,
            "min_width": null,
            "object_fit": null,
            "object_position": null,
            "order": null,
            "overflow": null,
            "overflow_x": null,
            "overflow_y": null,
            "padding": null,
            "right": null,
            "top": null,
            "visibility": null,
            "width": null
          }
        },
        "922245026048412fb94adcdce7e8fb50": {
          "model_module": "@jupyter-widgets/controls",
          "model_name": "ProgressStyleModel",
          "model_module_version": "1.5.0",
          "state": {
            "_model_module": "@jupyter-widgets/controls",
            "_model_module_version": "1.5.0",
            "_model_name": "ProgressStyleModel",
            "_view_count": null,
            "_view_module": "@jupyter-widgets/base",
            "_view_module_version": "1.2.0",
            "_view_name": "StyleView",
            "bar_color": null,
            "description_width": ""
          }
        },
        "8f29eea3e7454cc89fb45535061b9dae": {
          "model_module": "@jupyter-widgets/base",
          "model_name": "LayoutModel",
          "model_module_version": "1.2.0",
          "state": {
            "_model_module": "@jupyter-widgets/base",
            "_model_module_version": "1.2.0",
            "_model_name": "LayoutModel",
            "_view_count": null,
            "_view_module": "@jupyter-widgets/base",
            "_view_module_version": "1.2.0",
            "_view_name": "LayoutView",
            "align_content": null,
            "align_items": null,
            "align_self": null,
            "border": null,
            "bottom": null,
            "display": null,
            "flex": null,
            "flex_flow": null,
            "grid_area": null,
            "grid_auto_columns": null,
            "grid_auto_flow": null,
            "grid_auto_rows": null,
            "grid_column": null,
            "grid_gap": null,
            "grid_row": null,
            "grid_template_areas": null,
            "grid_template_columns": null,
            "grid_template_rows": null,
            "height": null,
            "justify_content": null,
            "justify_items": null,
            "left": null,
            "margin": null,
            "max_height": null,
            "max_width": null,
            "min_height": null,
            "min_width": null,
            "object_fit": null,
            "object_position": null,
            "order": null,
            "overflow": null,
            "overflow_x": null,
            "overflow_y": null,
            "padding": null,
            "right": null,
            "top": null,
            "visibility": null,
            "width": null
          }
        },
        "b1f11f234b9f4226acdfb9cdcd78e875": {
          "model_module": "@jupyter-widgets/controls",
          "model_name": "DescriptionStyleModel",
          "model_module_version": "1.5.0",
          "state": {
            "_model_module": "@jupyter-widgets/controls",
            "_model_module_version": "1.5.0",
            "_model_name": "DescriptionStyleModel",
            "_view_count": null,
            "_view_module": "@jupyter-widgets/base",
            "_view_module_version": "1.2.0",
            "_view_name": "StyleView",
            "description_width": ""
          }
        },
        "fe2bd1fe7eb4482aae9aefcbdc7b9ac4": {
          "model_module": "@jupyter-widgets/controls",
          "model_name": "HBoxModel",
          "model_module_version": "1.5.0",
          "state": {
            "_dom_classes": [],
            "_model_module": "@jupyter-widgets/controls",
            "_model_module_version": "1.5.0",
            "_model_name": "HBoxModel",
            "_view_count": null,
            "_view_module": "@jupyter-widgets/controls",
            "_view_module_version": "1.5.0",
            "_view_name": "HBoxView",
            "box_style": "",
            "children": [
              "IPY_MODEL_c1c2b1c2da5346d38999ec9f084ca2ba",
              "IPY_MODEL_f32443b746054b3a9857e96ac520e78d",
              "IPY_MODEL_ffa02cf881734ca6b1538c815196bee0"
            ],
            "layout": "IPY_MODEL_8ba87c45907f47cc97045158038ce25c"
          }
        },
        "c1c2b1c2da5346d38999ec9f084ca2ba": {
          "model_module": "@jupyter-widgets/controls",
          "model_name": "HTMLModel",
          "model_module_version": "1.5.0",
          "state": {
            "_dom_classes": [],
            "_model_module": "@jupyter-widgets/controls",
            "_model_module_version": "1.5.0",
            "_model_name": "HTMLModel",
            "_view_count": null,
            "_view_module": "@jupyter-widgets/controls",
            "_view_module_version": "1.5.0",
            "_view_name": "HTMLView",
            "description": "",
            "description_tooltip": null,
            "layout": "IPY_MODEL_0d2f18c92e974f21a19db99f0ca1f031",
            "placeholder": "​",
            "style": "IPY_MODEL_ae0a145c322045a9bf4011cfd1c89b4c",
            "value": ""
          }
        },
        "f32443b746054b3a9857e96ac520e78d": {
          "model_module": "@jupyter-widgets/controls",
          "model_name": "FloatProgressModel",
          "model_module_version": "1.5.0",
          "state": {
            "_dom_classes": [],
            "_model_module": "@jupyter-widgets/controls",
            "_model_module_version": "1.5.0",
            "_model_name": "FloatProgressModel",
            "_view_count": null,
            "_view_module": "@jupyter-widgets/controls",
            "_view_module_version": "1.5.0",
            "_view_name": "ProgressView",
            "bar_style": "success",
            "description": "",
            "description_tooltip": null,
            "layout": "IPY_MODEL_e1fdba80eed744909f1de79c9ef9870e",
            "max": 1648877,
            "min": 0,
            "orientation": "horizontal",
            "style": "IPY_MODEL_4c0b4fa03024478ca71215479326d226",
            "value": 1648877
          }
        },
        "ffa02cf881734ca6b1538c815196bee0": {
          "model_module": "@jupyter-widgets/controls",
          "model_name": "HTMLModel",
          "model_module_version": "1.5.0",
          "state": {
            "_dom_classes": [],
            "_model_module": "@jupyter-widgets/controls",
            "_model_module_version": "1.5.0",
            "_model_name": "HTMLModel",
            "_view_count": null,
            "_view_module": "@jupyter-widgets/controls",
            "_view_module_version": "1.5.0",
            "_view_name": "HTMLView",
            "description": "",
            "description_tooltip": null,
            "layout": "IPY_MODEL_65c8b7b679c146d3947548ff7acf806a",
            "placeholder": "​",
            "style": "IPY_MODEL_cd68aeec733c471b8f3b263e49139000",
            "value": " 1649664/? [00:00&lt;00:00, 5119132.29it/s]"
          }
        },
        "8ba87c45907f47cc97045158038ce25c": {
          "model_module": "@jupyter-widgets/base",
          "model_name": "LayoutModel",
          "model_module_version": "1.2.0",
          "state": {
            "_model_module": "@jupyter-widgets/base",
            "_model_module_version": "1.2.0",
            "_model_name": "LayoutModel",
            "_view_count": null,
            "_view_module": "@jupyter-widgets/base",
            "_view_module_version": "1.2.0",
            "_view_name": "LayoutView",
            "align_content": null,
            "align_items": null,
            "align_self": null,
            "border": null,
            "bottom": null,
            "display": null,
            "flex": null,
            "flex_flow": null,
            "grid_area": null,
            "grid_auto_columns": null,
            "grid_auto_flow": null,
            "grid_auto_rows": null,
            "grid_column": null,
            "grid_gap": null,
            "grid_row": null,
            "grid_template_areas": null,
            "grid_template_columns": null,
            "grid_template_rows": null,
            "height": null,
            "justify_content": null,
            "justify_items": null,
            "left": null,
            "margin": null,
            "max_height": null,
            "max_width": null,
            "min_height": null,
            "min_width": null,
            "object_fit": null,
            "object_position": null,
            "order": null,
            "overflow": null,
            "overflow_x": null,
            "overflow_y": null,
            "padding": null,
            "right": null,
            "top": null,
            "visibility": null,
            "width": null
          }
        },
        "0d2f18c92e974f21a19db99f0ca1f031": {
          "model_module": "@jupyter-widgets/base",
          "model_name": "LayoutModel",
          "model_module_version": "1.2.0",
          "state": {
            "_model_module": "@jupyter-widgets/base",
            "_model_module_version": "1.2.0",
            "_model_name": "LayoutModel",
            "_view_count": null,
            "_view_module": "@jupyter-widgets/base",
            "_view_module_version": "1.2.0",
            "_view_name": "LayoutView",
            "align_content": null,
            "align_items": null,
            "align_self": null,
            "border": null,
            "bottom": null,
            "display": null,
            "flex": null,
            "flex_flow": null,
            "grid_area": null,
            "grid_auto_columns": null,
            "grid_auto_flow": null,
            "grid_auto_rows": null,
            "grid_column": null,
            "grid_gap": null,
            "grid_row": null,
            "grid_template_areas": null,
            "grid_template_columns": null,
            "grid_template_rows": null,
            "height": null,
            "justify_content": null,
            "justify_items": null,
            "left": null,
            "margin": null,
            "max_height": null,
            "max_width": null,
            "min_height": null,
            "min_width": null,
            "object_fit": null,
            "object_position": null,
            "order": null,
            "overflow": null,
            "overflow_x": null,
            "overflow_y": null,
            "padding": null,
            "right": null,
            "top": null,
            "visibility": null,
            "width": null
          }
        },
        "ae0a145c322045a9bf4011cfd1c89b4c": {
          "model_module": "@jupyter-widgets/controls",
          "model_name": "DescriptionStyleModel",
          "model_module_version": "1.5.0",
          "state": {
            "_model_module": "@jupyter-widgets/controls",
            "_model_module_version": "1.5.0",
            "_model_name": "DescriptionStyleModel",
            "_view_count": null,
            "_view_module": "@jupyter-widgets/base",
            "_view_module_version": "1.2.0",
            "_view_name": "StyleView",
            "description_width": ""
          }
        },
        "e1fdba80eed744909f1de79c9ef9870e": {
          "model_module": "@jupyter-widgets/base",
          "model_name": "LayoutModel",
          "model_module_version": "1.2.0",
          "state": {
            "_model_module": "@jupyter-widgets/base",
            "_model_module_version": "1.2.0",
            "_model_name": "LayoutModel",
            "_view_count": null,
            "_view_module": "@jupyter-widgets/base",
            "_view_module_version": "1.2.0",
            "_view_name": "LayoutView",
            "align_content": null,
            "align_items": null,
            "align_self": null,
            "border": null,
            "bottom": null,
            "display": null,
            "flex": null,
            "flex_flow": null,
            "grid_area": null,
            "grid_auto_columns": null,
            "grid_auto_flow": null,
            "grid_auto_rows": null,
            "grid_column": null,
            "grid_gap": null,
            "grid_row": null,
            "grid_template_areas": null,
            "grid_template_columns": null,
            "grid_template_rows": null,
            "height": null,
            "justify_content": null,
            "justify_items": null,
            "left": null,
            "margin": null,
            "max_height": null,
            "max_width": null,
            "min_height": null,
            "min_width": null,
            "object_fit": null,
            "object_position": null,
            "order": null,
            "overflow": null,
            "overflow_x": null,
            "overflow_y": null,
            "padding": null,
            "right": null,
            "top": null,
            "visibility": null,
            "width": null
          }
        },
        "4c0b4fa03024478ca71215479326d226": {
          "model_module": "@jupyter-widgets/controls",
          "model_name": "ProgressStyleModel",
          "model_module_version": "1.5.0",
          "state": {
            "_model_module": "@jupyter-widgets/controls",
            "_model_module_version": "1.5.0",
            "_model_name": "ProgressStyleModel",
            "_view_count": null,
            "_view_module": "@jupyter-widgets/base",
            "_view_module_version": "1.2.0",
            "_view_name": "StyleView",
            "bar_color": null,
            "description_width": ""
          }
        },
        "65c8b7b679c146d3947548ff7acf806a": {
          "model_module": "@jupyter-widgets/base",
          "model_name": "LayoutModel",
          "model_module_version": "1.2.0",
          "state": {
            "_model_module": "@jupyter-widgets/base",
            "_model_module_version": "1.2.0",
            "_model_name": "LayoutModel",
            "_view_count": null,
            "_view_module": "@jupyter-widgets/base",
            "_view_module_version": "1.2.0",
            "_view_name": "LayoutView",
            "align_content": null,
            "align_items": null,
            "align_self": null,
            "border": null,
            "bottom": null,
            "display": null,
            "flex": null,
            "flex_flow": null,
            "grid_area": null,
            "grid_auto_columns": null,
            "grid_auto_flow": null,
            "grid_auto_rows": null,
            "grid_column": null,
            "grid_gap": null,
            "grid_row": null,
            "grid_template_areas": null,
            "grid_template_columns": null,
            "grid_template_rows": null,
            "height": null,
            "justify_content": null,
            "justify_items": null,
            "left": null,
            "margin": null,
            "max_height": null,
            "max_width": null,
            "min_height": null,
            "min_width": null,
            "object_fit": null,
            "object_position": null,
            "order": null,
            "overflow": null,
            "overflow_x": null,
            "overflow_y": null,
            "padding": null,
            "right": null,
            "top": null,
            "visibility": null,
            "width": null
          }
        },
        "cd68aeec733c471b8f3b263e49139000": {
          "model_module": "@jupyter-widgets/controls",
          "model_name": "DescriptionStyleModel",
          "model_module_version": "1.5.0",
          "state": {
            "_model_module": "@jupyter-widgets/controls",
            "_model_module_version": "1.5.0",
            "_model_name": "DescriptionStyleModel",
            "_view_count": null,
            "_view_module": "@jupyter-widgets/base",
            "_view_module_version": "1.2.0",
            "_view_name": "StyleView",
            "description_width": ""
          }
        },
        "23bf2f39d9a748238307a0f7bb338d96": {
          "model_module": "@jupyter-widgets/controls",
          "model_name": "HBoxModel",
          "model_module_version": "1.5.0",
          "state": {
            "_dom_classes": [],
            "_model_module": "@jupyter-widgets/controls",
            "_model_module_version": "1.5.0",
            "_model_name": "HBoxModel",
            "_view_count": null,
            "_view_module": "@jupyter-widgets/controls",
            "_view_module_version": "1.5.0",
            "_view_name": "HBoxView",
            "box_style": "",
            "children": [
              "IPY_MODEL_3cb945395022446db57d3f371da0464d",
              "IPY_MODEL_cee4e51bb44e4cec9044b26602e0ec02",
              "IPY_MODEL_bf63e35905e74513a1f99d7f0e4f70eb"
            ],
            "layout": "IPY_MODEL_fdd5fd78e3b842bd89dcd1298002a5fc"
          }
        },
        "3cb945395022446db57d3f371da0464d": {
          "model_module": "@jupyter-widgets/controls",
          "model_name": "HTMLModel",
          "model_module_version": "1.5.0",
          "state": {
            "_dom_classes": [],
            "_model_module": "@jupyter-widgets/controls",
            "_model_module_version": "1.5.0",
            "_model_name": "HTMLModel",
            "_view_count": null,
            "_view_module": "@jupyter-widgets/controls",
            "_view_module_version": "1.5.0",
            "_view_name": "HTMLView",
            "description": "",
            "description_tooltip": null,
            "layout": "IPY_MODEL_86132671f39d45b9b3216cc2ba7363d8",
            "placeholder": "​",
            "style": "IPY_MODEL_9651c83174f1474fb39cfacef937760b",
            "value": ""
          }
        },
        "cee4e51bb44e4cec9044b26602e0ec02": {
          "model_module": "@jupyter-widgets/controls",
          "model_name": "FloatProgressModel",
          "model_module_version": "1.5.0",
          "state": {
            "_dom_classes": [],
            "_model_module": "@jupyter-widgets/controls",
            "_model_module_version": "1.5.0",
            "_model_name": "FloatProgressModel",
            "_view_count": null,
            "_view_module": "@jupyter-widgets/controls",
            "_view_module_version": "1.5.0",
            "_view_name": "ProgressView",
            "bar_style": "success",
            "description": "",
            "description_tooltip": null,
            "layout": "IPY_MODEL_29d7524d58794c0c912459df38b875f9",
            "max": 4542,
            "min": 0,
            "orientation": "horizontal",
            "style": "IPY_MODEL_c911544986164a33bf6699168e3a36bd",
            "value": 4542
          }
        },
        "bf63e35905e74513a1f99d7f0e4f70eb": {
          "model_module": "@jupyter-widgets/controls",
          "model_name": "HTMLModel",
          "model_module_version": "1.5.0",
          "state": {
            "_dom_classes": [],
            "_model_module": "@jupyter-widgets/controls",
            "_model_module_version": "1.5.0",
            "_model_name": "HTMLModel",
            "_view_count": null,
            "_view_module": "@jupyter-widgets/controls",
            "_view_module_version": "1.5.0",
            "_view_name": "HTMLView",
            "description": "",
            "description_tooltip": null,
            "layout": "IPY_MODEL_a6e27ce74e86473ebfab1990fee2a94f",
            "placeholder": "​",
            "style": "IPY_MODEL_739ccce6b2a142aca40f8a84aaf11d7c",
            "value": " 5120/? [00:00&lt;00:00, 4793.96it/s]"
          }
        },
        "fdd5fd78e3b842bd89dcd1298002a5fc": {
          "model_module": "@jupyter-widgets/base",
          "model_name": "LayoutModel",
          "model_module_version": "1.2.0",
          "state": {
            "_model_module": "@jupyter-widgets/base",
            "_model_module_version": "1.2.0",
            "_model_name": "LayoutModel",
            "_view_count": null,
            "_view_module": "@jupyter-widgets/base",
            "_view_module_version": "1.2.0",
            "_view_name": "LayoutView",
            "align_content": null,
            "align_items": null,
            "align_self": null,
            "border": null,
            "bottom": null,
            "display": null,
            "flex": null,
            "flex_flow": null,
            "grid_area": null,
            "grid_auto_columns": null,
            "grid_auto_flow": null,
            "grid_auto_rows": null,
            "grid_column": null,
            "grid_gap": null,
            "grid_row": null,
            "grid_template_areas": null,
            "grid_template_columns": null,
            "grid_template_rows": null,
            "height": null,
            "justify_content": null,
            "justify_items": null,
            "left": null,
            "margin": null,
            "max_height": null,
            "max_width": null,
            "min_height": null,
            "min_width": null,
            "object_fit": null,
            "object_position": null,
            "order": null,
            "overflow": null,
            "overflow_x": null,
            "overflow_y": null,
            "padding": null,
            "right": null,
            "top": null,
            "visibility": null,
            "width": null
          }
        },
        "86132671f39d45b9b3216cc2ba7363d8": {
          "model_module": "@jupyter-widgets/base",
          "model_name": "LayoutModel",
          "model_module_version": "1.2.0",
          "state": {
            "_model_module": "@jupyter-widgets/base",
            "_model_module_version": "1.2.0",
            "_model_name": "LayoutModel",
            "_view_count": null,
            "_view_module": "@jupyter-widgets/base",
            "_view_module_version": "1.2.0",
            "_view_name": "LayoutView",
            "align_content": null,
            "align_items": null,
            "align_self": null,
            "border": null,
            "bottom": null,
            "display": null,
            "flex": null,
            "flex_flow": null,
            "grid_area": null,
            "grid_auto_columns": null,
            "grid_auto_flow": null,
            "grid_auto_rows": null,
            "grid_column": null,
            "grid_gap": null,
            "grid_row": null,
            "grid_template_areas": null,
            "grid_template_columns": null,
            "grid_template_rows": null,
            "height": null,
            "justify_content": null,
            "justify_items": null,
            "left": null,
            "margin": null,
            "max_height": null,
            "max_width": null,
            "min_height": null,
            "min_width": null,
            "object_fit": null,
            "object_position": null,
            "order": null,
            "overflow": null,
            "overflow_x": null,
            "overflow_y": null,
            "padding": null,
            "right": null,
            "top": null,
            "visibility": null,
            "width": null
          }
        },
        "9651c83174f1474fb39cfacef937760b": {
          "model_module": "@jupyter-widgets/controls",
          "model_name": "DescriptionStyleModel",
          "model_module_version": "1.5.0",
          "state": {
            "_model_module": "@jupyter-widgets/controls",
            "_model_module_version": "1.5.0",
            "_model_name": "DescriptionStyleModel",
            "_view_count": null,
            "_view_module": "@jupyter-widgets/base",
            "_view_module_version": "1.2.0",
            "_view_name": "StyleView",
            "description_width": ""
          }
        },
        "29d7524d58794c0c912459df38b875f9": {
          "model_module": "@jupyter-widgets/base",
          "model_name": "LayoutModel",
          "model_module_version": "1.2.0",
          "state": {
            "_model_module": "@jupyter-widgets/base",
            "_model_module_version": "1.2.0",
            "_model_name": "LayoutModel",
            "_view_count": null,
            "_view_module": "@jupyter-widgets/base",
            "_view_module_version": "1.2.0",
            "_view_name": "LayoutView",
            "align_content": null,
            "align_items": null,
            "align_self": null,
            "border": null,
            "bottom": null,
            "display": null,
            "flex": null,
            "flex_flow": null,
            "grid_area": null,
            "grid_auto_columns": null,
            "grid_auto_flow": null,
            "grid_auto_rows": null,
            "grid_column": null,
            "grid_gap": null,
            "grid_row": null,
            "grid_template_areas": null,
            "grid_template_columns": null,
            "grid_template_rows": null,
            "height": null,
            "justify_content": null,
            "justify_items": null,
            "left": null,
            "margin": null,
            "max_height": null,
            "max_width": null,
            "min_height": null,
            "min_width": null,
            "object_fit": null,
            "object_position": null,
            "order": null,
            "overflow": null,
            "overflow_x": null,
            "overflow_y": null,
            "padding": null,
            "right": null,
            "top": null,
            "visibility": null,
            "width": null
          }
        },
        "c911544986164a33bf6699168e3a36bd": {
          "model_module": "@jupyter-widgets/controls",
          "model_name": "ProgressStyleModel",
          "model_module_version": "1.5.0",
          "state": {
            "_model_module": "@jupyter-widgets/controls",
            "_model_module_version": "1.5.0",
            "_model_name": "ProgressStyleModel",
            "_view_count": null,
            "_view_module": "@jupyter-widgets/base",
            "_view_module_version": "1.2.0",
            "_view_name": "StyleView",
            "bar_color": null,
            "description_width": ""
          }
        },
        "a6e27ce74e86473ebfab1990fee2a94f": {
          "model_module": "@jupyter-widgets/base",
          "model_name": "LayoutModel",
          "model_module_version": "1.2.0",
          "state": {
            "_model_module": "@jupyter-widgets/base",
            "_model_module_version": "1.2.0",
            "_model_name": "LayoutModel",
            "_view_count": null,
            "_view_module": "@jupyter-widgets/base",
            "_view_module_version": "1.2.0",
            "_view_name": "LayoutView",
            "align_content": null,
            "align_items": null,
            "align_self": null,
            "border": null,
            "bottom": null,
            "display": null,
            "flex": null,
            "flex_flow": null,
            "grid_area": null,
            "grid_auto_columns": null,
            "grid_auto_flow": null,
            "grid_auto_rows": null,
            "grid_column": null,
            "grid_gap": null,
            "grid_row": null,
            "grid_template_areas": null,
            "grid_template_columns": null,
            "grid_template_rows": null,
            "height": null,
            "justify_content": null,
            "justify_items": null,
            "left": null,
            "margin": null,
            "max_height": null,
            "max_width": null,
            "min_height": null,
            "min_width": null,
            "object_fit": null,
            "object_position": null,
            "order": null,
            "overflow": null,
            "overflow_x": null,
            "overflow_y": null,
            "padding": null,
            "right": null,
            "top": null,
            "visibility": null,
            "width": null
          }
        },
        "739ccce6b2a142aca40f8a84aaf11d7c": {
          "model_module": "@jupyter-widgets/controls",
          "model_name": "DescriptionStyleModel",
          "model_module_version": "1.5.0",
          "state": {
            "_model_module": "@jupyter-widgets/controls",
            "_model_module_version": "1.5.0",
            "_model_name": "DescriptionStyleModel",
            "_view_count": null,
            "_view_module": "@jupyter-widgets/base",
            "_view_module_version": "1.2.0",
            "_view_name": "StyleView",
            "description_width": ""
          }
        }
      }
    }
  },
  "nbformat": 4,
  "nbformat_minor": 5
}