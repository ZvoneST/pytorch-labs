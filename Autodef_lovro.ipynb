{
  "nbformat": 4,
  "nbformat_minor": 0,
  "metadata": {
    "colab": {
      "name": "Autodef - lovro.ipynb",
      "provenance": [],
      "include_colab_link": true
    },
    "kernelspec": {
      "name": "python3",
      "display_name": "Python 3"
    },
    "language_info": {
      "name": "python"
    }
  },
  "cells": [
    {
      "cell_type": "markdown",
      "metadata": {
        "id": "view-in-github",
        "colab_type": "text"
      },
      "source": [
        "<a href=\"https://colab.research.google.com/github/ZvoneST/pytorch-labs/blob/master/Autodef_lovro.ipynb\" target=\"_parent\"><img src=\"https://colab.research.google.com/assets/colab-badge.svg\" alt=\"Open In Colab\"/></a>"
      ]
    },
    {
      "cell_type": "markdown",
      "source": [
        "# Automatic differentiation"
      ],
      "metadata": {
        "id": "yGvIZY_6bzfh"
      }
    },
    {
      "cell_type": "markdown",
      "source": [
        "## Pyforest\n",
        "Writing the same imports over and over again is below your capacity. Let pyforest do the job for you.\n",
        "\n",
        "With pyforest you can use all your favorite Python libraries without importing them before. If you use a package that is not imported yet, pyforest imports the package for you and adds the code to the first Jupyter cell. If you don't use a library, it won't be imported.\n",
        "\n",
        "As this is not a library that automatically comes with Google Colab, we will use the Linux pip command to install the required library."
      ],
      "metadata": {
        "id": "XY99IIXJaLJA"
      }
    },
    {
      "cell_type": "code",
      "execution_count": null,
      "metadata": {
        "colab": {
          "base_uri": "https://localhost:8080/"
        },
        "id": "TuwGchvGDpM2",
        "outputId": "87524afa-7c32-40de-d4b3-bd181a9486a7"
      },
      "outputs": [
        {
          "output_type": "stream",
          "name": "stdout",
          "text": [
            "Collecting pyforest\n",
            "  Downloading pyforest-1.1.0.tar.gz (15 kB)\n",
            "Building wheels for collected packages: pyforest\n",
            "  Building wheel for pyforest (setup.py) ... \u001b[?25l\u001b[?25hdone\n",
            "  Created wheel for pyforest: filename=pyforest-1.1.0-py2.py3-none-any.whl size=14607 sha256=4f0a9aac8bcc2953e6d40cf63fa195657f02664dd27c0e562aff5e4c3d0c4825\n",
            "  Stored in directory: /root/.cache/pip/wheels/61/1c/da/48e6c884142d485475d852d69d20a096aba5beceb338822893\n",
            "Successfully built pyforest\n",
            "Installing collected packages: pyforest\n",
            "Successfully installed pyforest-1.1.0\n"
          ]
        }
      ],
      "source": [
        "!pip install pyforest"
      ]
    },
    {
      "cell_type": "code",
      "source": [
        "import pyforest"
      ],
      "metadata": {
        "id": "_2pIYlEHDyEh"
      },
      "execution_count": null,
      "outputs": []
    },
    {
      "cell_type": "markdown",
      "source": [
        "After you installed pyforest and its Jupyter extension, you can use your favorite Python Data Science commands like you normally would - just without writing imports.<br> Example np.array()"
      ],
      "metadata": {
        "id": "0Zf5xTNxakko"
      }
    },
    {
      "cell_type": "code",
      "source": [
        "np.array([1, 2, 3])"
      ],
      "metadata": {
        "colab": {
          "base_uri": "https://localhost:8080/",
          "height": 34
        },
        "id": "5ODf2qSXEg33",
        "outputId": "523787b9-350e-445a-c491-37ae954586d7"
      },
      "execution_count": null,
      "outputs": [
        {
          "output_type": "display_data",
          "data": {
            "text/plain": [
              "<IPython.core.display.Javascript object>"
            ],
            "application/javascript": [
              "\n",
              "        if (window._pyforest_update_imports_cell) { window._pyforest_update_imports_cell('import numpy as np'); }\n",
              "    "
            ]
          },
          "metadata": {}
        },
        {
          "output_type": "execute_result",
          "data": {
            "text/plain": [
              "array([1, 2, 3])"
            ]
          },
          "metadata": {},
          "execution_count": 3
        }
      ]
    },
    {
      "cell_type": "code",
      "source": [
        "a = torch.tensor([7.], requires_grad = True)\n",
        "b = torch.tensor([5.], requires_grad = True)"
      ],
      "metadata": {
        "colab": {
          "base_uri": "https://localhost:8080/",
          "height": 17
        },
        "id": "7FTYgBV0D0NE",
        "outputId": "01e19bb1-5b53-4135-baac-0c17497d2f93"
      },
      "execution_count": null,
      "outputs": [
        {
          "output_type": "display_data",
          "data": {
            "text/plain": [
              "<IPython.core.display.Javascript object>"
            ],
            "application/javascript": [
              "\n",
              "        if (window._pyforest_update_imports_cell) { window._pyforest_update_imports_cell('import numpy as np\\nimport torch'); }\n",
              "    "
            ]
          },
          "metadata": {}
        },
        {
          "output_type": "display_data",
          "data": {
            "text/plain": [
              "<IPython.core.display.Javascript object>"
            ],
            "application/javascript": [
              "\n",
              "        if (window._pyforest_update_imports_cell) { window._pyforest_update_imports_cell('import numpy as np\\nimport torch'); }\n",
              "    "
            ]
          },
          "metadata": {}
        }
      ]
    },
    {
      "cell_type": "code",
      "source": [
        "print(a)"
      ],
      "metadata": {
        "colab": {
          "base_uri": "https://localhost:8080/"
        },
        "id": "qS3MsPCDESs3",
        "outputId": "c86c3cbc-a021-421c-dd71-4e46e9ffbd65"
      },
      "execution_count": null,
      "outputs": [
        {
          "output_type": "stream",
          "name": "stdout",
          "text": [
            "tensor([7.], requires_grad=True)\n"
          ]
        }
      ]
    },
    {
      "cell_type": "code",
      "source": [
        "y = a**3 + 8*b\n",
        "#3a**2 + 8"
      ],
      "metadata": {
        "id": "VDLTrovdEofY"
      },
      "execution_count": null,
      "outputs": []
    },
    {
      "cell_type": "code",
      "source": [
        "y"
      ],
      "metadata": {
        "colab": {
          "base_uri": "https://localhost:8080/"
        },
        "id": "SLKLkcfhEtTn",
        "outputId": "093e293f-4c37-4052-ce6b-3380952576a1"
      },
      "execution_count": null,
      "outputs": [
        {
          "output_type": "execute_result",
          "data": {
            "text/plain": [
              "tensor([383.], grad_fn=<AddBackward0>)"
            ]
          },
          "metadata": {},
          "execution_count": 7
        }
      ]
    },
    {
      "cell_type": "code",
      "source": [
        "y.backward()"
      ],
      "metadata": {
        "id": "eUfMqwZoE5DU"
      },
      "execution_count": null,
      "outputs": []
    },
    {
      "cell_type": "code",
      "source": [
        "b.grad"
      ],
      "metadata": {
        "colab": {
          "base_uri": "https://localhost:8080/"
        },
        "id": "SwNh_9Z1E7r3",
        "outputId": "19b17f54-8887-4681-caa7-b80aad61e94e"
      },
      "execution_count": null,
      "outputs": [
        {
          "output_type": "execute_result",
          "data": {
            "text/plain": [
              "tensor([8.])"
            ]
          },
          "metadata": {},
          "execution_count": 9
        }
      ]
    },
    {
      "cell_type": "markdown",
      "source": [
        "Why is b.grad 8?\n",
        "The idea is to derive the function $y$ so that a is viewed as some fixed number (some constant).\n",
        "$$y=a^3+8b$$\n",
        "$$ \\frac{\\partial y}{\\partial b} = 8$$\n",
        "$a^3$ we look as a constant, a we know that derivative of constant is 0, and we know that derivtive of $8b$ is 8.<br>\n",
        "\n",
        "For all those who do not know or have forgotten the derivation tables ...\n",
        "<img src = \"https://i.pinimg.com/474x/b7/a0/8d/b7a08d80f4f276f6360ef23633fb6fd8.jpg\">"
      ],
      "metadata": {
        "id": "9SRm4XOKcBO_"
      }
    },
    {
      "cell_type": "code",
      "source": [
        "a.grad"
      ],
      "metadata": {
        "colab": {
          "base_uri": "https://localhost:8080/"
        },
        "id": "GsLyiIIiFNqu",
        "outputId": "53e0df96-1943-4892-d2b6-86b348b5eeb7"
      },
      "execution_count": null,
      "outputs": [
        {
          "output_type": "execute_result",
          "data": {
            "text/plain": [
              "tensor([147.])"
            ]
          },
          "metadata": {},
          "execution_count": 10
        }
      ]
    },
    {
      "cell_type": "markdown",
      "source": [
        "$$y=a^3+8b$$\n",
        "$$ \\frac{\\partial y}{\\partial a} = 3a^2 = 3\\cdot7^2=3\\cdot49=147$$"
      ],
      "metadata": {
        "id": "5woiA-NYdp8U"
      }
    }
  ]
}