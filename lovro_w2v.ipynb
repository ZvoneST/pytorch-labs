{
  "cells": [
    {
      "cell_type": "markdown",
      "metadata": {
        "id": "view-in-github",
        "colab_type": "text"
      },
      "source": [
        "<a href=\"https://colab.research.google.com/github/ZvoneST/pytorch-labs/blob/master/lovro_w2v.ipynb\" target=\"_parent\"><img src=\"https://colab.research.google.com/assets/colab-badge.svg\" alt=\"Open In Colab\"/></a>"
      ]
    },
    {
      "cell_type": "code",
      "execution_count": 1,
      "metadata": {
        "id": "Xp0dUExW7tvI"
      },
      "outputs": [],
      "source": [
        "import torch\n",
        "from torch.autograd import Variable\n",
        "import numpy as np\n",
        "import torch.functional as F\n",
        "import torch.nn.functional as F"
      ]
    },
    {
      "cell_type": "code",
      "execution_count": null,
      "metadata": {
        "id": "K2gimJam7tvM"
      },
      "outputs": [],
      "source": [
        "corpus = [\n",
        "    'he is a king',\n",
        "    'she is a queen',\n",
        "    'he is a man',\n",
        "    'she is a woman',\n",
        "    'warsaw is poland capital',\n",
        "    'berlin is germany capital',\n",
        "    'paris is france capital',\n",
        "    'algebra is in zagreb.',\n",
        "    'zagreb is in croatia.' \n",
        "]"
      ]
    },
    {
      "cell_type": "code",
      "execution_count": null,
      "metadata": {
        "id": "SECSJq4r7tvM",
        "colab": {
          "base_uri": "https://localhost:8080/"
        },
        "outputId": "6acd91d1-7f02-486e-e345-71e074c49ce5"
      },
      "outputs": [
        {
          "output_type": "stream",
          "name": "stdout",
          "text": [
            "[['he', 'is', 'a', 'king'], ['she', 'is', 'a', 'queen'], ['he', 'is', 'a', 'man'], ['she', 'is', 'a', 'woman'], ['warsaw', 'is', 'poland', 'capital'], ['berlin', 'is', 'germany', 'capital'], ['paris', 'is', 'france', 'capital'], ['algebra', 'is', 'in', 'zagreb.'], ['zagreb', 'is', 'in', 'croatia.']]\n"
          ]
        }
      ],
      "source": [
        "def tokenize_corpus(corpus):\n",
        "    tokens = [x.split() for x in corpus]\n",
        "    return tokens\n",
        "\n",
        "tokenized_corpus = tokenize_corpus(corpus)\n",
        "print(tokenized_corpus)"
      ]
    },
    {
      "cell_type": "code",
      "execution_count": null,
      "metadata": {
        "id": "9-Ob1Kb37tvN"
      },
      "outputs": [],
      "source": [
        "vocabulary = []\n",
        "for sentence in tokenized_corpus:\n",
        "    for token in sentence:\n",
        "        if token not in vocabulary:\n",
        "            vocabulary.append(token)\n",
        "\n",
        "word2idx = {w: idx for (idx, w) in enumerate(vocabulary)}\n",
        "idx2word = {idx: w for (idx, w) in enumerate(vocabulary)}\n",
        "\n",
        "vocabulary_size = len(vocabulary)"
      ]
    },
    {
      "cell_type": "code",
      "execution_count": null,
      "metadata": {
        "id": "ww_xbXYE7tvN"
      },
      "outputs": [],
      "source": [
        "window_size = 2\n",
        "idx_pairs = []\n",
        "# for each sentence\n",
        "for sentence in tokenized_corpus:\n",
        "    indices = [word2idx[word] for word in sentence]\n",
        "    # for each word, threated as center word\n",
        "    for center_word_pos in range(len(indices)):\n",
        "        # for each window position\n",
        "        for w in range(-window_size, window_size + 1):\n",
        "            context_word_pos = center_word_pos + w\n",
        "            # make soure not jump out sentence\n",
        "            if context_word_pos < 0 or context_word_pos >= len(indices) or center_word_pos == context_word_pos:\n",
        "                continue\n",
        "            context_word_idx = indices[context_word_pos]\n",
        "            idx_pairs.append((indices[center_word_pos], context_word_idx))\n",
        "\n",
        "idx_pairs = np.array(idx_pairs) # it will be useful to have this as numpy array"
      ]
    },
    {
      "cell_type": "code",
      "execution_count": null,
      "metadata": {
        "id": "-HjK1bPK7tvO"
      },
      "outputs": [],
      "source": [
        "def get_input_layer(word_idx):\n",
        "    x = torch.zeros(vocabulary_size).float()\n",
        "    x[word_idx] = 1.0\n",
        "    return x"
      ]
    },
    {
      "cell_type": "code",
      "execution_count": null,
      "metadata": {
        "id": "-vFEIuSD7tvO",
        "colab": {
          "base_uri": "https://localhost:8080/"
        },
        "outputId": "ed6e9e5e-09a0-4aba-8199-ff2eb121990a"
      },
      "outputs": [
        {
          "output_type": "stream",
          "name": "stdout",
          "text": [
            "Loss at epo 0: 5.040851533909639\n",
            "Loss at epo 10: 4.2932516568236885\n",
            "Loss at epo 20: 4.0051409562428795\n",
            "Loss at epo 30: 3.8186696502897473\n",
            "Loss at epo 40: 3.6770777874522738\n",
            "Loss at epo 50: 3.564348969194624\n",
            "Loss at epo 60: 3.472456865840488\n",
            "Loss at epo 70: 3.396070056491428\n",
            "Loss at epo 80: 3.331357987721761\n",
            "Loss at epo 90: 3.2755567769209546\n",
            "Loss at epo 100: 3.226670405599806\n",
            "Loss at epo 110: 3.183243382639355\n",
            "Loss at epo 120: 3.1441958142651454\n",
            "Loss at epo 130: 3.1087102830410003\n",
            "Loss at epo 140: 3.076154669125875\n",
            "Loss at epo 150: 3.0460299293200177\n",
            "Loss at epo 160: 3.0179349369472925\n",
            "Loss at epo 170: 2.9915415949291653\n",
            "Loss at epo 180: 2.966576886177063\n",
            "Loss at epo 190: 2.9428104552957746\n",
            "Loss at epo 200: 2.9200454857614306\n"
          ]
        }
      ],
      "source": [
        "embedding_dims = 5\n",
        "W1 = Variable(torch.randn(embedding_dims, vocabulary_size).float(), requires_grad=True)\n",
        "W2 = Variable(torch.randn(vocabulary_size, embedding_dims).float(), requires_grad=True)\n",
        "num_epochs = 201\n",
        "learning_rate = 0.001\n",
        "\n",
        "for epo in range(num_epochs):\n",
        "    loss_val = 0\n",
        "    for data, target in idx_pairs:\n",
        "        x = Variable(get_input_layer(data)).float()\n",
        "        y_true = Variable(torch.from_numpy(np.array([target])).long())\n",
        "\n",
        "        z1 = torch.matmul(W1, x)\n",
        "        z2 = torch.matmul(W2, z1)\n",
        "    \n",
        "        log_softmax = F.log_softmax(z2, dim=0)\n",
        "\n",
        "        loss = F.nll_loss(log_softmax.view(1,-1), y_true)\n",
        "        loss_val += loss.item()\n",
        "        loss.backward()\n",
        "        W1.data -= learning_rate * W1.grad.data\n",
        "        W2.data -= learning_rate * W2.grad.data\n",
        "\n",
        "        W1.grad.data.zero_()\n",
        "        W2.grad.data.zero_()\n",
        "    if epo % 10 == 0:    \n",
        "        print(f'Loss at epo {epo}: {loss_val/len(idx_pairs)}')"
      ]
    },
    {
      "cell_type": "code",
      "source": [
        "W1"
      ],
      "metadata": {
        "id": "MM2goyL4_wPs",
        "colab": {
          "base_uri": "https://localhost:8080/"
        },
        "outputId": "b66d7893-fbe8-4956-cc79-78a6c949564f"
      },
      "execution_count": null,
      "outputs": [
        {
          "output_type": "execute_result",
          "data": {
            "text/plain": [
              "tensor([[-7.6717e-01,  3.1300e-01, -7.8656e-02, -1.0394e+00,  1.6313e-01,\n",
              "          5.7106e-01,  5.2958e-01, -6.4902e-01, -2.8531e-01, -3.9432e-01,\n",
              "          4.4901e-01,  1.0763e+00,  1.8754e+00, -7.1248e-01,  1.9051e+00,\n",
              "         -1.4991e-01, -4.5832e-01,  7.8424e-01,  2.1628e+00, -9.0415e-01],\n",
              "        [-5.8844e-01, -4.2341e-03,  6.3293e-01,  1.2036e+00, -1.1293e+00,\n",
              "         -5.5735e-01, -3.8308e-01, -1.1101e+00, -1.2589e-01,  8.8074e-01,\n",
              "         -6.2040e-01,  9.6201e-01, -1.0301e+00,  2.5325e+00,  3.0698e-01,\n",
              "          6.4078e-01, -7.5463e-01, -5.7654e-01,  1.0104e+00, -1.8471e-01],\n",
              "        [ 1.8943e+00,  4.1081e-01, -6.7337e-01, -7.8644e-01,  8.8529e-01,\n",
              "         -4.5183e-01,  1.1362e+00,  5.3620e-01, -3.3223e-01,  3.1357e-01,\n",
              "         -9.2043e-01,  6.5207e-01, -2.6594e-01, -3.0699e-01, -5.4055e-04,\n",
              "         -1.2905e+00,  8.1839e-01, -1.4937e+00, -4.3169e-02, -8.9843e-01],\n",
              "        [-2.6818e-01,  1.6009e-02, -1.7224e-01,  2.3696e-02, -1.1585e+00,\n",
              "         -3.4978e-02,  1.6333e-01, -8.4265e-02, -4.2336e-01,  1.4984e-01,\n",
              "         -8.2517e-04,  9.2563e-01, -6.2025e-01, -4.6106e-01,  2.6701e-01,\n",
              "          4.1548e-01,  3.8340e-01, -4.8874e-01, -7.1736e-01, -6.4008e-01],\n",
              "        [-4.3798e-01,  3.4047e-01, -3.1211e-02,  3.6612e-01,  4.3828e-01,\n",
              "         -8.7560e-01, -2.9892e-01, -2.6955e-01,  3.3624e-01,  3.7585e-01,\n",
              "         -5.0555e-01,  9.7369e-01,  1.2029e-01, -1.3543e+00,  9.5929e-02,\n",
              "          1.0448e+00,  5.8737e-01, -2.3782e-02, -2.2170e-01,  6.3390e-01]],\n",
              "       requires_grad=True)"
            ]
          },
          "metadata": {},
          "execution_count": 49
        }
      ]
    },
    {
      "cell_type": "code",
      "execution_count": null,
      "metadata": {
        "id": "7neIknhp7tvP"
      },
      "outputs": [],
      "source": [
        ""
      ]
    }
  ],
  "metadata": {
    "kernelspec": {
      "display_name": "Python 3",
      "language": "python",
      "name": "python3"
    },
    "language_info": {
      "codemirror_mode": {
        "name": "ipython",
        "version": 3
      },
      "file_extension": ".py",
      "mimetype": "text/x-python",
      "name": "python",
      "nbconvert_exporter": "python",
      "pygments_lexer": "ipython3",
      "version": "3.6.3"
    },
    "colab": {
      "name": "lovro - w2v.ipynb",
      "provenance": [],
      "collapsed_sections": [],
      "include_colab_link": true
    }
  },
  "nbformat": 4,
  "nbformat_minor": 0
}